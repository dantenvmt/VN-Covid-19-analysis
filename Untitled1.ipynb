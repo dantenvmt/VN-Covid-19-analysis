{
 "cells": [
  {
   "cell_type": "markdown",
   "id": "registered-triangle",
   "metadata": {},
   "source": [
    "## Covid 19 in Vietnam\n",
    "\n",
    "<h2>Table of Contents</h2>\n",
    "<div class=\"alert alert-block alert-info\" style=\"margin-top: 20px\">\n",
    "    <ul>\n",
    "        <li><a href=\"#Importing\">Importing</a></li>\n",
    "        <li>\n",
    "            <a href=\"#EDA\">EDA</a>\n",
    "        </li>\n",
    "        <li><a href=\"#Visualization\">Visualization</a></li>\n",
    "        <li><a href=\"#Report\">Report</a></li>\n",
    "    </ul>\n",
    "\n",
    "</div>\n",
    "\n",
    "<hr>\n"
   ]
  },
  {
   "cell_type": "markdown",
   "id": "attached-owner",
   "metadata": {},
   "source": [
    "<h2 id=\"Importing\">Importing</h2>"
   ]
  },
  {
   "cell_type": "code",
   "execution_count": 23,
   "id": "eight-runner",
   "metadata": {},
   "outputs": [],
   "source": [
    "import pandas as pd\n",
    "import numpy as np\n",
    "import seaborn as sns\n",
    "import plotly.express as px\n",
    "import matplotlib.pyplot as plt\n",
    "%matplotlib inline"
   ]
  },
  {
   "cell_type": "markdown",
   "id": "level-lobby",
   "metadata": {},
   "source": [
    "Insert data from csv file"
   ]
  },
  {
   "cell_type": "code",
   "execution_count": 34,
   "id": "helpful-physics",
   "metadata": {},
   "outputs": [
    {
     "data": {
      "text/html": [
       "<div>\n",
       "<style scoped>\n",
       "    .dataframe tbody tr th:only-of-type {\n",
       "        vertical-align: middle;\n",
       "    }\n",
       "\n",
       "    .dataframe tbody tr th {\n",
       "        vertical-align: top;\n",
       "    }\n",
       "\n",
       "    .dataframe thead th {\n",
       "        text-align: right;\n",
       "    }\n",
       "</style>\n",
       "<table border=\"1\" class=\"dataframe\">\n",
       "  <thead>\n",
       "    <tr style=\"text-align: right;\">\n",
       "      <th></th>\n",
       "      <th>Province</th>\n",
       "      <th>Infected</th>\n",
       "      <th>Active</th>\n",
       "      <th>Recovered</th>\n",
       "      <th>Deaths</th>\n",
       "      <th>Active Ratio(%)</th>\n",
       "      <th>Recover ratio(%)</th>\n",
       "      <th>Death Ratio(%)</th>\n",
       "    </tr>\n",
       "  </thead>\n",
       "  <tbody>\n",
       "    <tr>\n",
       "      <th>0</th>\n",
       "      <td>Hà Nội</td>\n",
       "      <td>744</td>\n",
       "      <td>213</td>\n",
       "      <td>512</td>\n",
       "      <td>18</td>\n",
       "      <td>28.629032</td>\n",
       "      <td>68.817204</td>\n",
       "      <td>2.419355</td>\n",
       "    </tr>\n",
       "    <tr>\n",
       "      <th>1</th>\n",
       "      <td>Hà Giang</td>\n",
       "      <td>4</td>\n",
       "      <td>1</td>\n",
       "      <td>3</td>\n",
       "      <td>0</td>\n",
       "      <td>25.000000</td>\n",
       "      <td>75.000000</td>\n",
       "      <td>0.000000</td>\n",
       "    </tr>\n",
       "    <tr>\n",
       "      <th>2</th>\n",
       "      <td>Bắc Kạn</td>\n",
       "      <td>5</td>\n",
       "      <td>5</td>\n",
       "      <td>0</td>\n",
       "      <td>0</td>\n",
       "      <td>100.000000</td>\n",
       "      <td>0.000000</td>\n",
       "      <td>0.000000</td>\n",
       "    </tr>\n",
       "    <tr>\n",
       "      <th>3</th>\n",
       "      <td>Tuyên Quang</td>\n",
       "      <td>1</td>\n",
       "      <td>0</td>\n",
       "      <td>1</td>\n",
       "      <td>0</td>\n",
       "      <td>0.000000</td>\n",
       "      <td>100.000000</td>\n",
       "      <td>0.000000</td>\n",
       "    </tr>\n",
       "    <tr>\n",
       "      <th>4</th>\n",
       "      <td>Lào Cai</td>\n",
       "      <td>6</td>\n",
       "      <td>4</td>\n",
       "      <td>2</td>\n",
       "      <td>0</td>\n",
       "      <td>66.666667</td>\n",
       "      <td>33.333333</td>\n",
       "      <td>0.000000</td>\n",
       "    </tr>\n",
       "    <tr>\n",
       "      <th>5</th>\n",
       "      <td>Điện Biên</td>\n",
       "      <td>59</td>\n",
       "      <td>13</td>\n",
       "      <td>46</td>\n",
       "      <td>0</td>\n",
       "      <td>22.033898</td>\n",
       "      <td>77.966102</td>\n",
       "      <td>0.000000</td>\n",
       "    </tr>\n",
       "    <tr>\n",
       "      <th>6</th>\n",
       "      <td>Lai Châu</td>\n",
       "      <td>1</td>\n",
       "      <td>0</td>\n",
       "      <td>1</td>\n",
       "      <td>0</td>\n",
       "      <td>0.000000</td>\n",
       "      <td>100.000000</td>\n",
       "      <td>0.000000</td>\n",
       "    </tr>\n",
       "    <tr>\n",
       "      <th>7</th>\n",
       "      <td>Sơn La</td>\n",
       "      <td>1</td>\n",
       "      <td>1</td>\n",
       "      <td>0</td>\n",
       "      <td>0</td>\n",
       "      <td>100.000000</td>\n",
       "      <td>0.000000</td>\n",
       "      <td>0.000000</td>\n",
       "    </tr>\n",
       "    <tr>\n",
       "      <th>8</th>\n",
       "      <td>Yên Bái</td>\n",
       "      <td>5</td>\n",
       "      <td>0</td>\n",
       "      <td>5</td>\n",
       "      <td>0</td>\n",
       "      <td>0.000000</td>\n",
       "      <td>100.000000</td>\n",
       "      <td>0.000000</td>\n",
       "    </tr>\n",
       "    <tr>\n",
       "      <th>9</th>\n",
       "      <td>Hoà Bình</td>\n",
       "      <td>39</td>\n",
       "      <td>6</td>\n",
       "      <td>33</td>\n",
       "      <td>0</td>\n",
       "      <td>15.384615</td>\n",
       "      <td>84.615385</td>\n",
       "      <td>0.000000</td>\n",
       "    </tr>\n",
       "    <tr>\n",
       "      <th>10</th>\n",
       "      <td>Thái Nguyên</td>\n",
       "      <td>9</td>\n",
       "      <td>1</td>\n",
       "      <td>8</td>\n",
       "      <td>0</td>\n",
       "      <td>11.111111</td>\n",
       "      <td>88.888889</td>\n",
       "      <td>0.000000</td>\n",
       "    </tr>\n",
       "    <tr>\n",
       "      <th>11</th>\n",
       "      <td>Lạng Sơn</td>\n",
       "      <td>110</td>\n",
       "      <td>91</td>\n",
       "      <td>18</td>\n",
       "      <td>1</td>\n",
       "      <td>82.727273</td>\n",
       "      <td>16.363636</td>\n",
       "      <td>0.909091</td>\n",
       "    </tr>\n",
       "    <tr>\n",
       "      <th>12</th>\n",
       "      <td>Quảng Ninh</td>\n",
       "      <td>99</td>\n",
       "      <td>12</td>\n",
       "      <td>87</td>\n",
       "      <td>0</td>\n",
       "      <td>12.121212</td>\n",
       "      <td>87.878788</td>\n",
       "      <td>0.000000</td>\n",
       "    </tr>\n",
       "    <tr>\n",
       "      <th>13</th>\n",
       "      <td>Bắc Giang</td>\n",
       "      <td>5768</td>\n",
       "      <td>2608</td>\n",
       "      <td>3153</td>\n",
       "      <td>7</td>\n",
       "      <td>45.214979</td>\n",
       "      <td>54.663662</td>\n",
       "      <td>0.121359</td>\n",
       "    </tr>\n",
       "    <tr>\n",
       "      <th>14</th>\n",
       "      <td>Phú Thọ</td>\n",
       "      <td>8</td>\n",
       "      <td>3</td>\n",
       "      <td>5</td>\n",
       "      <td>0</td>\n",
       "      <td>37.500000</td>\n",
       "      <td>62.500000</td>\n",
       "      <td>0.000000</td>\n",
       "    </tr>\n",
       "    <tr>\n",
       "      <th>15</th>\n",
       "      <td>Vĩnh Phúc</td>\n",
       "      <td>113</td>\n",
       "      <td>63</td>\n",
       "      <td>50</td>\n",
       "      <td>0</td>\n",
       "      <td>55.752212</td>\n",
       "      <td>44.247788</td>\n",
       "      <td>0.000000</td>\n",
       "    </tr>\n",
       "    <tr>\n",
       "      <th>16</th>\n",
       "      <td>Bắc Ninh</td>\n",
       "      <td>1633</td>\n",
       "      <td>627</td>\n",
       "      <td>997</td>\n",
       "      <td>9</td>\n",
       "      <td>38.395591</td>\n",
       "      <td>61.053276</td>\n",
       "      <td>0.551133</td>\n",
       "    </tr>\n",
       "    <tr>\n",
       "      <th>17</th>\n",
       "      <td>Hải Dương</td>\n",
       "      <td>813</td>\n",
       "      <td>12</td>\n",
       "      <td>801</td>\n",
       "      <td>0</td>\n",
       "      <td>1.476015</td>\n",
       "      <td>98.523985</td>\n",
       "      <td>0.000000</td>\n",
       "    </tr>\n",
       "    <tr>\n",
       "      <th>18</th>\n",
       "      <td>Hải Phòng</td>\n",
       "      <td>24</td>\n",
       "      <td>12</td>\n",
       "      <td>12</td>\n",
       "      <td>0</td>\n",
       "      <td>50.000000</td>\n",
       "      <td>50.000000</td>\n",
       "      <td>0.000000</td>\n",
       "    </tr>\n",
       "    <tr>\n",
       "      <th>19</th>\n",
       "      <td>Hưng Yên</td>\n",
       "      <td>166</td>\n",
       "      <td>99</td>\n",
       "      <td>67</td>\n",
       "      <td>0</td>\n",
       "      <td>59.638554</td>\n",
       "      <td>40.361446</td>\n",
       "      <td>0.000000</td>\n",
       "    </tr>\n",
       "    <tr>\n",
       "      <th>20</th>\n",
       "      <td>Thái Bình</td>\n",
       "      <td>76</td>\n",
       "      <td>21</td>\n",
       "      <td>55</td>\n",
       "      <td>0</td>\n",
       "      <td>27.631579</td>\n",
       "      <td>72.368421</td>\n",
       "      <td>0.000000</td>\n",
       "    </tr>\n",
       "    <tr>\n",
       "      <th>21</th>\n",
       "      <td>Hà Nam</td>\n",
       "      <td>56</td>\n",
       "      <td>12</td>\n",
       "      <td>44</td>\n",
       "      <td>0</td>\n",
       "      <td>21.428571</td>\n",
       "      <td>78.571429</td>\n",
       "      <td>0.000000</td>\n",
       "    </tr>\n",
       "    <tr>\n",
       "      <th>22</th>\n",
       "      <td>Nam Định</td>\n",
       "      <td>26</td>\n",
       "      <td>8</td>\n",
       "      <td>18</td>\n",
       "      <td>0</td>\n",
       "      <td>30.769231</td>\n",
       "      <td>69.230769</td>\n",
       "      <td>0.000000</td>\n",
       "    </tr>\n",
       "    <tr>\n",
       "      <th>23</th>\n",
       "      <td>Ninh Bình</td>\n",
       "      <td>51</td>\n",
       "      <td>14</td>\n",
       "      <td>37</td>\n",
       "      <td>0</td>\n",
       "      <td>27.450980</td>\n",
       "      <td>72.549020</td>\n",
       "      <td>0.000000</td>\n",
       "    </tr>\n",
       "    <tr>\n",
       "      <th>24</th>\n",
       "      <td>Thanh Hóa</td>\n",
       "      <td>31</td>\n",
       "      <td>5</td>\n",
       "      <td>26</td>\n",
       "      <td>0</td>\n",
       "      <td>16.129032</td>\n",
       "      <td>83.870968</td>\n",
       "      <td>0.000000</td>\n",
       "    </tr>\n",
       "    <tr>\n",
       "      <th>25</th>\n",
       "      <td>Nghệ An</td>\n",
       "      <td>127</td>\n",
       "      <td>122</td>\n",
       "      <td>5</td>\n",
       "      <td>0</td>\n",
       "      <td>96.062992</td>\n",
       "      <td>3.937008</td>\n",
       "      <td>0.000000</td>\n",
       "    </tr>\n",
       "    <tr>\n",
       "      <th>26</th>\n",
       "      <td>Hà Tĩnh</td>\n",
       "      <td>128</td>\n",
       "      <td>120</td>\n",
       "      <td>8</td>\n",
       "      <td>0</td>\n",
       "      <td>93.750000</td>\n",
       "      <td>6.250000</td>\n",
       "      <td>0.000000</td>\n",
       "    </tr>\n",
       "    <tr>\n",
       "      <th>27</th>\n",
       "      <td>Quảng Trị</td>\n",
       "      <td>18</td>\n",
       "      <td>5</td>\n",
       "      <td>12</td>\n",
       "      <td>1</td>\n",
       "      <td>27.777778</td>\n",
       "      <td>66.666667</td>\n",
       "      <td>5.555556</td>\n",
       "    </tr>\n",
       "    <tr>\n",
       "      <th>28</th>\n",
       "      <td>Thừa Thiên Huế</td>\n",
       "      <td>7</td>\n",
       "      <td>1</td>\n",
       "      <td>6</td>\n",
       "      <td>0</td>\n",
       "      <td>14.285714</td>\n",
       "      <td>85.714286</td>\n",
       "      <td>0.000000</td>\n",
       "    </tr>\n",
       "    <tr>\n",
       "      <th>29</th>\n",
       "      <td>Đà Nẵng</td>\n",
       "      <td>749</td>\n",
       "      <td>100</td>\n",
       "      <td>614</td>\n",
       "      <td>32</td>\n",
       "      <td>13.351135</td>\n",
       "      <td>81.975968</td>\n",
       "      <td>4.272363</td>\n",
       "    </tr>\n",
       "    <tr>\n",
       "      <th>30</th>\n",
       "      <td>Quảng Nam</td>\n",
       "      <td>136</td>\n",
       "      <td>11</td>\n",
       "      <td>122</td>\n",
       "      <td>3</td>\n",
       "      <td>8.088235</td>\n",
       "      <td>89.705882</td>\n",
       "      <td>2.205882</td>\n",
       "    </tr>\n",
       "    <tr>\n",
       "      <th>31</th>\n",
       "      <td>Quảng Ngãi</td>\n",
       "      <td>124</td>\n",
       "      <td>117</td>\n",
       "      <td>7</td>\n",
       "      <td>0</td>\n",
       "      <td>94.354839</td>\n",
       "      <td>5.645161</td>\n",
       "      <td>0.000000</td>\n",
       "    </tr>\n",
       "    <tr>\n",
       "      <th>32</th>\n",
       "      <td>Bình Định</td>\n",
       "      <td>15</td>\n",
       "      <td>14</td>\n",
       "      <td>1</td>\n",
       "      <td>0</td>\n",
       "      <td>93.333333</td>\n",
       "      <td>6.666667</td>\n",
       "      <td>0.000000</td>\n",
       "    </tr>\n",
       "    <tr>\n",
       "      <th>33</th>\n",
       "      <td>Phú Yên</td>\n",
       "      <td>245</td>\n",
       "      <td>217</td>\n",
       "      <td>28</td>\n",
       "      <td>0</td>\n",
       "      <td>88.571429</td>\n",
       "      <td>11.428571</td>\n",
       "      <td>0.000000</td>\n",
       "    </tr>\n",
       "    <tr>\n",
       "      <th>34</th>\n",
       "      <td>Khánh Hòa</td>\n",
       "      <td>178</td>\n",
       "      <td>50</td>\n",
       "      <td>128</td>\n",
       "      <td>0</td>\n",
       "      <td>28.089888</td>\n",
       "      <td>71.910112</td>\n",
       "      <td>0.000000</td>\n",
       "    </tr>\n",
       "    <tr>\n",
       "      <th>35</th>\n",
       "      <td>Ninh Thuận</td>\n",
       "      <td>13</td>\n",
       "      <td>1</td>\n",
       "      <td>12</td>\n",
       "      <td>0</td>\n",
       "      <td>7.692308</td>\n",
       "      <td>92.307692</td>\n",
       "      <td>0.000000</td>\n",
       "    </tr>\n",
       "    <tr>\n",
       "      <th>36</th>\n",
       "      <td>Bình Thuận</td>\n",
       "      <td>25</td>\n",
       "      <td>14</td>\n",
       "      <td>11</td>\n",
       "      <td>0</td>\n",
       "      <td>56.000000</td>\n",
       "      <td>44.000000</td>\n",
       "      <td>0.000000</td>\n",
       "    </tr>\n",
       "    <tr>\n",
       "      <th>37</th>\n",
       "      <td>Gia Lai</td>\n",
       "      <td>31</td>\n",
       "      <td>4</td>\n",
       "      <td>27</td>\n",
       "      <td>0</td>\n",
       "      <td>12.903226</td>\n",
       "      <td>87.096774</td>\n",
       "      <td>0.000000</td>\n",
       "    </tr>\n",
       "    <tr>\n",
       "      <th>38</th>\n",
       "      <td>Đắk Lắk</td>\n",
       "      <td>8</td>\n",
       "      <td>4</td>\n",
       "      <td>4</td>\n",
       "      <td>0</td>\n",
       "      <td>50.000000</td>\n",
       "      <td>50.000000</td>\n",
       "      <td>0.000000</td>\n",
       "    </tr>\n",
       "    <tr>\n",
       "      <th>39</th>\n",
       "      <td>Lâm Đồng</td>\n",
       "      <td>4</td>\n",
       "      <td>4</td>\n",
       "      <td>0</td>\n",
       "      <td>0</td>\n",
       "      <td>100.000000</td>\n",
       "      <td>0.000000</td>\n",
       "      <td>0.000000</td>\n",
       "    </tr>\n",
       "    <tr>\n",
       "      <th>40</th>\n",
       "      <td>Bình Phước</td>\n",
       "      <td>3</td>\n",
       "      <td>3</td>\n",
       "      <td>0</td>\n",
       "      <td>0</td>\n",
       "      <td>100.000000</td>\n",
       "      <td>0.000000</td>\n",
       "      <td>0.000000</td>\n",
       "    </tr>\n",
       "    <tr>\n",
       "      <th>41</th>\n",
       "      <td>Tây Ninh</td>\n",
       "      <td>154</td>\n",
       "      <td>111</td>\n",
       "      <td>42</td>\n",
       "      <td>1</td>\n",
       "      <td>72.077922</td>\n",
       "      <td>27.272727</td>\n",
       "      <td>0.649351</td>\n",
       "    </tr>\n",
       "    <tr>\n",
       "      <th>42</th>\n",
       "      <td>Bình Dương</td>\n",
       "      <td>680</td>\n",
       "      <td>635</td>\n",
       "      <td>45</td>\n",
       "      <td>0</td>\n",
       "      <td>93.382353</td>\n",
       "      <td>6.617647</td>\n",
       "      <td>0.000000</td>\n",
       "    </tr>\n",
       "    <tr>\n",
       "      <th>43</th>\n",
       "      <td>Đồng Nai</td>\n",
       "      <td>96</td>\n",
       "      <td>65</td>\n",
       "      <td>31</td>\n",
       "      <td>0</td>\n",
       "      <td>67.708333</td>\n",
       "      <td>32.291667</td>\n",
       "      <td>0.000000</td>\n",
       "    </tr>\n",
       "    <tr>\n",
       "      <th>44</th>\n",
       "      <td>Bà Rịa - Vũng Tàu</td>\n",
       "      <td>152</td>\n",
       "      <td>29</td>\n",
       "      <td>123</td>\n",
       "      <td>0</td>\n",
       "      <td>19.078947</td>\n",
       "      <td>80.921053</td>\n",
       "      <td>0.000000</td>\n",
       "    </tr>\n",
       "    <tr>\n",
       "      <th>45</th>\n",
       "      <td>Hồ Chí Minh</td>\n",
       "      <td>6372</td>\n",
       "      <td>5755</td>\n",
       "      <td>603</td>\n",
       "      <td>14</td>\n",
       "      <td>90.317012</td>\n",
       "      <td>9.463277</td>\n",
       "      <td>0.219711</td>\n",
       "    </tr>\n",
       "    <tr>\n",
       "      <th>46</th>\n",
       "      <td>Long An</td>\n",
       "      <td>209</td>\n",
       "      <td>196</td>\n",
       "      <td>11</td>\n",
       "      <td>2</td>\n",
       "      <td>93.779904</td>\n",
       "      <td>5.263158</td>\n",
       "      <td>0.956938</td>\n",
       "    </tr>\n",
       "    <tr>\n",
       "      <th>47</th>\n",
       "      <td>Tiền Giang</td>\n",
       "      <td>174</td>\n",
       "      <td>168</td>\n",
       "      <td>5</td>\n",
       "      <td>1</td>\n",
       "      <td>96.551724</td>\n",
       "      <td>2.873563</td>\n",
       "      <td>0.574713</td>\n",
       "    </tr>\n",
       "    <tr>\n",
       "      <th>48</th>\n",
       "      <td>Bến Tre</td>\n",
       "      <td>20</td>\n",
       "      <td>2</td>\n",
       "      <td>18</td>\n",
       "      <td>0</td>\n",
       "      <td>10.000000</td>\n",
       "      <td>90.000000</td>\n",
       "      <td>0.000000</td>\n",
       "    </tr>\n",
       "    <tr>\n",
       "      <th>49</th>\n",
       "      <td>Trà Vinh</td>\n",
       "      <td>19</td>\n",
       "      <td>11</td>\n",
       "      <td>8</td>\n",
       "      <td>0</td>\n",
       "      <td>57.894737</td>\n",
       "      <td>42.105263</td>\n",
       "      <td>0.000000</td>\n",
       "    </tr>\n",
       "    <tr>\n",
       "      <th>50</th>\n",
       "      <td>Vĩnh Long</td>\n",
       "      <td>29</td>\n",
       "      <td>16</td>\n",
       "      <td>13</td>\n",
       "      <td>0</td>\n",
       "      <td>55.172414</td>\n",
       "      <td>44.827586</td>\n",
       "      <td>0.000000</td>\n",
       "    </tr>\n",
       "    <tr>\n",
       "      <th>51</th>\n",
       "      <td>Đồng Tháp</td>\n",
       "      <td>92</td>\n",
       "      <td>64</td>\n",
       "      <td>27</td>\n",
       "      <td>1</td>\n",
       "      <td>69.565217</td>\n",
       "      <td>29.347826</td>\n",
       "      <td>1.086957</td>\n",
       "    </tr>\n",
       "    <tr>\n",
       "      <th>52</th>\n",
       "      <td>An Giang</td>\n",
       "      <td>55</td>\n",
       "      <td>46</td>\n",
       "      <td>9</td>\n",
       "      <td>0</td>\n",
       "      <td>83.636364</td>\n",
       "      <td>16.363636</td>\n",
       "      <td>0.000000</td>\n",
       "    </tr>\n",
       "    <tr>\n",
       "      <th>53</th>\n",
       "      <td>Kiên Giang</td>\n",
       "      <td>94</td>\n",
       "      <td>70</td>\n",
       "      <td>24</td>\n",
       "      <td>0</td>\n",
       "      <td>74.468085</td>\n",
       "      <td>25.531915</td>\n",
       "      <td>0.000000</td>\n",
       "    </tr>\n",
       "    <tr>\n",
       "      <th>54</th>\n",
       "      <td>Cần Thơ</td>\n",
       "      <td>35</td>\n",
       "      <td>1</td>\n",
       "      <td>34</td>\n",
       "      <td>0</td>\n",
       "      <td>2.857143</td>\n",
       "      <td>97.142857</td>\n",
       "      <td>0.000000</td>\n",
       "    </tr>\n",
       "    <tr>\n",
       "      <th>55</th>\n",
       "      <td>Sóc Trăng</td>\n",
       "      <td>19</td>\n",
       "      <td>19</td>\n",
       "      <td>0</td>\n",
       "      <td>0</td>\n",
       "      <td>100.000000</td>\n",
       "      <td>0.000000</td>\n",
       "      <td>0.000000</td>\n",
       "    </tr>\n",
       "    <tr>\n",
       "      <th>56</th>\n",
       "      <td>Bạc Liêu</td>\n",
       "      <td>56</td>\n",
       "      <td>3</td>\n",
       "      <td>53</td>\n",
       "      <td>0</td>\n",
       "      <td>5.357143</td>\n",
       "      <td>94.642857</td>\n",
       "      <td>0.000000</td>\n",
       "    </tr>\n",
       "    <tr>\n",
       "      <th>57</th>\n",
       "      <td>Cà Mau</td>\n",
       "      <td>9</td>\n",
       "      <td>1</td>\n",
       "      <td>8</td>\n",
       "      <td>0</td>\n",
       "      <td>11.111111</td>\n",
       "      <td>88.888889</td>\n",
       "      <td>0.000000</td>\n",
       "    </tr>\n",
       "  </tbody>\n",
       "</table>\n",
       "</div>"
      ],
      "text/plain": [
       "             Province  Infected  Active  Recovered  Deaths  Active Ratio(%)  \\\n",
       "0              Hà Nội       744     213        512      18        28.629032   \n",
       "1            Hà Giang         4       1          3       0        25.000000   \n",
       "2             Bắc Kạn         5       5          0       0       100.000000   \n",
       "3         Tuyên Quang         1       0          1       0         0.000000   \n",
       "4             Lào Cai         6       4          2       0        66.666667   \n",
       "5           Điện Biên        59      13         46       0        22.033898   \n",
       "6            Lai Châu         1       0          1       0         0.000000   \n",
       "7              Sơn La         1       1          0       0       100.000000   \n",
       "8             Yên Bái         5       0          5       0         0.000000   \n",
       "9            Hoà Bình        39       6         33       0        15.384615   \n",
       "10        Thái Nguyên         9       1          8       0        11.111111   \n",
       "11           Lạng Sơn       110      91         18       1        82.727273   \n",
       "12         Quảng Ninh        99      12         87       0        12.121212   \n",
       "13          Bắc Giang      5768    2608       3153       7        45.214979   \n",
       "14            Phú Thọ         8       3          5       0        37.500000   \n",
       "15          Vĩnh Phúc       113      63         50       0        55.752212   \n",
       "16           Bắc Ninh      1633     627        997       9        38.395591   \n",
       "17          Hải Dương       813      12        801       0         1.476015   \n",
       "18          Hải Phòng        24      12         12       0        50.000000   \n",
       "19           Hưng Yên       166      99         67       0        59.638554   \n",
       "20          Thái Bình        76      21         55       0        27.631579   \n",
       "21             Hà Nam        56      12         44       0        21.428571   \n",
       "22           Nam Định        26       8         18       0        30.769231   \n",
       "23          Ninh Bình        51      14         37       0        27.450980   \n",
       "24          Thanh Hóa        31       5         26       0        16.129032   \n",
       "25            Nghệ An       127     122          5       0        96.062992   \n",
       "26            Hà Tĩnh       128     120          8       0        93.750000   \n",
       "27          Quảng Trị        18       5         12       1        27.777778   \n",
       "28     Thừa Thiên Huế         7       1          6       0        14.285714   \n",
       "29            Đà Nẵng       749     100        614      32        13.351135   \n",
       "30          Quảng Nam       136      11        122       3         8.088235   \n",
       "31         Quảng Ngãi       124     117          7       0        94.354839   \n",
       "32          Bình Định        15      14          1       0        93.333333   \n",
       "33            Phú Yên       245     217         28       0        88.571429   \n",
       "34          Khánh Hòa       178      50        128       0        28.089888   \n",
       "35         Ninh Thuận        13       1         12       0         7.692308   \n",
       "36         Bình Thuận        25      14         11       0        56.000000   \n",
       "37            Gia Lai        31       4         27       0        12.903226   \n",
       "38            Đắk Lắk         8       4          4       0        50.000000   \n",
       "39           Lâm Đồng         4       4          0       0       100.000000   \n",
       "40         Bình Phước         3       3          0       0       100.000000   \n",
       "41           Tây Ninh       154     111         42       1        72.077922   \n",
       "42         Bình Dương       680     635         45       0        93.382353   \n",
       "43           Đồng Nai        96      65         31       0        67.708333   \n",
       "44  Bà Rịa - Vũng Tàu       152      29        123       0        19.078947   \n",
       "45        Hồ Chí Minh      6372    5755        603      14        90.317012   \n",
       "46            Long An       209     196         11       2        93.779904   \n",
       "47         Tiền Giang       174     168          5       1        96.551724   \n",
       "48            Bến Tre        20       2         18       0        10.000000   \n",
       "49           Trà Vinh        19      11          8       0        57.894737   \n",
       "50          Vĩnh Long        29      16         13       0        55.172414   \n",
       "51          Đồng Tháp        92      64         27       1        69.565217   \n",
       "52           An Giang        55      46          9       0        83.636364   \n",
       "53         Kiên Giang        94      70         24       0        74.468085   \n",
       "54            Cần Thơ        35       1         34       0         2.857143   \n",
       "55          Sóc Trăng        19      19          0       0       100.000000   \n",
       "56           Bạc Liêu        56       3         53       0         5.357143   \n",
       "57             Cà Mau         9       1          8       0        11.111111   \n",
       "\n",
       "    Recover ratio(%)  Death Ratio(%)  \n",
       "0          68.817204        2.419355  \n",
       "1          75.000000        0.000000  \n",
       "2           0.000000        0.000000  \n",
       "3         100.000000        0.000000  \n",
       "4          33.333333        0.000000  \n",
       "5          77.966102        0.000000  \n",
       "6         100.000000        0.000000  \n",
       "7           0.000000        0.000000  \n",
       "8         100.000000        0.000000  \n",
       "9          84.615385        0.000000  \n",
       "10         88.888889        0.000000  \n",
       "11         16.363636        0.909091  \n",
       "12         87.878788        0.000000  \n",
       "13         54.663662        0.121359  \n",
       "14         62.500000        0.000000  \n",
       "15         44.247788        0.000000  \n",
       "16         61.053276        0.551133  \n",
       "17         98.523985        0.000000  \n",
       "18         50.000000        0.000000  \n",
       "19         40.361446        0.000000  \n",
       "20         72.368421        0.000000  \n",
       "21         78.571429        0.000000  \n",
       "22         69.230769        0.000000  \n",
       "23         72.549020        0.000000  \n",
       "24         83.870968        0.000000  \n",
       "25          3.937008        0.000000  \n",
       "26          6.250000        0.000000  \n",
       "27         66.666667        5.555556  \n",
       "28         85.714286        0.000000  \n",
       "29         81.975968        4.272363  \n",
       "30         89.705882        2.205882  \n",
       "31          5.645161        0.000000  \n",
       "32          6.666667        0.000000  \n",
       "33         11.428571        0.000000  \n",
       "34         71.910112        0.000000  \n",
       "35         92.307692        0.000000  \n",
       "36         44.000000        0.000000  \n",
       "37         87.096774        0.000000  \n",
       "38         50.000000        0.000000  \n",
       "39          0.000000        0.000000  \n",
       "40          0.000000        0.000000  \n",
       "41         27.272727        0.649351  \n",
       "42          6.617647        0.000000  \n",
       "43         32.291667        0.000000  \n",
       "44         80.921053        0.000000  \n",
       "45          9.463277        0.219711  \n",
       "46          5.263158        0.956938  \n",
       "47          2.873563        0.574713  \n",
       "48         90.000000        0.000000  \n",
       "49         42.105263        0.000000  \n",
       "50         44.827586        0.000000  \n",
       "51         29.347826        1.086957  \n",
       "52         16.363636        0.000000  \n",
       "53         25.531915        0.000000  \n",
       "54         97.142857        0.000000  \n",
       "55          0.000000        0.000000  \n",
       "56         94.642857        0.000000  \n",
       "57         88.888889        0.000000  "
      ]
     },
     "execution_count": 34,
     "metadata": {},
     "output_type": "execute_result"
    }
   ],
   "source": [
    "df = pd.read_csv(\"vn1.csv\")\n",
    "back_up_df = df.copy()\n",
    "df"
   ]
  },
  {
   "cell_type": "markdown",
   "id": "injured-token",
   "metadata": {},
   "source": [
    "<h2 id=\"EDA\">EDA</h2>"
   ]
  },
  {
   "cell_type": "markdown",
   "id": "organic-wonder",
   "metadata": {},
   "source": [
    "Shape of dataset"
   ]
  },
  {
   "cell_type": "code",
   "execution_count": 27,
   "id": "formed-surrey",
   "metadata": {},
   "outputs": [
    {
     "data": {
      "text/plain": [
       "(58, 8)"
      ]
     },
     "execution_count": 27,
     "metadata": {},
     "output_type": "execute_result"
    }
   ],
   "source": [
    "df.shape"
   ]
  },
  {
   "cell_type": "markdown",
   "id": "certain-civilian",
   "metadata": {},
   "source": [
    "List of all columns"
   ]
  },
  {
   "cell_type": "code",
   "execution_count": 28,
   "id": "secondary-catalog",
   "metadata": {},
   "outputs": [
    {
     "data": {
      "text/plain": [
       "Index(['Province', 'Infected', 'Active', 'Recovered', 'Deaths',\n",
       "       'Active Ratio(%)', 'Recover ratio(%)', 'Death Ratio(%)'],\n",
       "      dtype='object')"
      ]
     },
     "execution_count": 28,
     "metadata": {},
     "output_type": "execute_result"
    }
   ],
   "source": [
    "df.columns"
   ]
  },
  {
   "cell_type": "markdown",
   "id": "patent-motel",
   "metadata": {},
   "source": [
    "Check for any duplicate in dataset"
   ]
  },
  {
   "cell_type": "code",
   "execution_count": 4,
   "id": "forty-preference",
   "metadata": {},
   "outputs": [
    {
     "data": {
      "text/plain": [
       "0"
      ]
     },
     "execution_count": 4,
     "metadata": {},
     "output_type": "execute_result"
    }
   ],
   "source": [
    "df.duplicated().sum()"
   ]
  },
  {
   "cell_type": "markdown",
   "id": "vanilla-portuguese",
   "metadata": {},
   "source": [
    "Dataset information\n"
   ]
  },
  {
   "cell_type": "code",
   "execution_count": 21,
   "id": "premium-investing",
   "metadata": {},
   "outputs": [
    {
     "data": {
      "text/plain": [
       "<bound method DataFrame.info of              Province  Infected  Active  Recovered  Deaths  Active Ratio(%)  \\\n",
       "0              Ha Noi       744     213        512      18        28.629032   \n",
       "1            Ha Giang         4       1          3       0        25.000000   \n",
       "2             Bac Kan         5       5          0       0       100.000000   \n",
       "3         Tuyen Quang         1       0          1       0         0.000000   \n",
       "4             Lao Cai         6       4          2       0        66.666667   \n",
       "5           Dien Bien        59      13         46       0        22.033898   \n",
       "6            Lai Chau         1       0          1       0         0.000000   \n",
       "7              Son La         1       1          0       0       100.000000   \n",
       "8             Yen Bai         5       0          5       0         0.000000   \n",
       "9            Hoa Binh        39       6         33       0        15.384615   \n",
       "10        Thai Nguyen         9       1          8       0        11.111111   \n",
       "11           Lang Son       110      91         18       1        82.727273   \n",
       "12         Quang Ninh        99      12         87       0        12.121212   \n",
       "13          Bac Giang      5768    2608       3153       7        45.214979   \n",
       "14            Phu Tho         8       3          5       0        37.500000   \n",
       "15          Vinh Phuc       113      63         50       0        55.752212   \n",
       "16           Bac Ninh      1633     627        997       9        38.395591   \n",
       "17          Hai Duong       813      12        801       0         1.476015   \n",
       "18          Hai Phong        24      12         12       0        50.000000   \n",
       "19           Hung Yen       166      99         67       0        59.638554   \n",
       "20          Thai Binh        76      21         55       0        27.631579   \n",
       "21             Ha Nam        56      12         44       0        21.428571   \n",
       "22           Nam Dinh        26       8         18       0        30.769231   \n",
       "23          Ninh Binh        51      14         37       0        27.450980   \n",
       "24          Thanh Hoa        31       5         26       0        16.129032   \n",
       "25            Nghe An       127     122          5       0        96.062992   \n",
       "26            Ha Tinh       128     120          8       0        93.750000   \n",
       "27          Quang Tri        18       5         12       1        27.777778   \n",
       "28     Thua Thien Hue         7       1          6       0        14.285714   \n",
       "29            Da Nang       749     100        614      32        13.351135   \n",
       "30          Quang Nam       136      11        122       3         8.088235   \n",
       "31         Quang Ngai       124     117          7       0        94.354839   \n",
       "32          Binh Dinh        15      14          1       0        93.333333   \n",
       "33            Phu Yen       245     217         28       0        88.571429   \n",
       "34          Khanh Hoa       178      50        128       0        28.089888   \n",
       "35         Ninh Thuan        13       1         12       0         7.692308   \n",
       "36         Binh Thuan        25      14         11       0        56.000000   \n",
       "37            Gia Lai        31       4         27       0        12.903226   \n",
       "38            Dak Lak         8       4          4       0        50.000000   \n",
       "39           Lam Dong         4       4          0       0       100.000000   \n",
       "40         Binh Phuoc         3       3          0       0       100.000000   \n",
       "41           Tay Ninh       154     111         42       1        72.077922   \n",
       "42         Binh Duong       680     635         45       0        93.382353   \n",
       "43           Dong Nai        96      65         31       0        67.708333   \n",
       "44  Ba Ria - Vung Tau       152      29        123       0        19.078947   \n",
       "45        Ho Chi Minh      6372    5755        603      14        90.317012   \n",
       "46            Long An       209     196         11       2        93.779904   \n",
       "47         Tien Giang       174     168          5       1        96.551724   \n",
       "48            Ben Tre        20       2         18       0        10.000000   \n",
       "49           Tra Vinh        19      11          8       0        57.894737   \n",
       "50          Vinh Long        29      16         13       0        55.172414   \n",
       "51          Dong Thap        92      64         27       1        69.565217   \n",
       "52           An Giang        55      46          9       0        83.636364   \n",
       "53         Kien Giang        94      70         24       0        74.468085   \n",
       "54            Can Tho        35       1         34       0         2.857143   \n",
       "55          Soc Trang        19      19          0       0       100.000000   \n",
       "56           Bac Lieu        56       3         53       0         5.357143   \n",
       "57             Ca Mau         9       1          8       0        11.111111   \n",
       "\n",
       "    Recover ratio(%)  Death Ratio(%)  \n",
       "0          68.817204        2.419355  \n",
       "1          75.000000        0.000000  \n",
       "2           0.000000        0.000000  \n",
       "3         100.000000        0.000000  \n",
       "4          33.333333        0.000000  \n",
       "5          77.966102        0.000000  \n",
       "6         100.000000        0.000000  \n",
       "7           0.000000        0.000000  \n",
       "8         100.000000        0.000000  \n",
       "9          84.615385        0.000000  \n",
       "10         88.888889        0.000000  \n",
       "11         16.363636        0.909091  \n",
       "12         87.878788        0.000000  \n",
       "13         54.663662        0.121359  \n",
       "14         62.500000        0.000000  \n",
       "15         44.247788        0.000000  \n",
       "16         61.053276        0.551133  \n",
       "17         98.523985        0.000000  \n",
       "18         50.000000        0.000000  \n",
       "19         40.361446        0.000000  \n",
       "20         72.368421        0.000000  \n",
       "21         78.571429        0.000000  \n",
       "22         69.230769        0.000000  \n",
       "23         72.549020        0.000000  \n",
       "24         83.870968        0.000000  \n",
       "25          3.937008        0.000000  \n",
       "26          6.250000        0.000000  \n",
       "27         66.666667        5.555556  \n",
       "28         85.714286        0.000000  \n",
       "29         81.975968        4.272363  \n",
       "30         89.705882        2.205882  \n",
       "31          5.645161        0.000000  \n",
       "32          6.666667        0.000000  \n",
       "33         11.428571        0.000000  \n",
       "34         71.910112        0.000000  \n",
       "35         92.307692        0.000000  \n",
       "36         44.000000        0.000000  \n",
       "37         87.096774        0.000000  \n",
       "38         50.000000        0.000000  \n",
       "39          0.000000        0.000000  \n",
       "40          0.000000        0.000000  \n",
       "41         27.272727        0.649351  \n",
       "42          6.617647        0.000000  \n",
       "43         32.291667        0.000000  \n",
       "44         80.921053        0.000000  \n",
       "45          9.463277        0.219711  \n",
       "46          5.263158        0.956938  \n",
       "47          2.873563        0.574713  \n",
       "48         90.000000        0.000000  \n",
       "49         42.105263        0.000000  \n",
       "50         44.827586        0.000000  \n",
       "51         29.347826        1.086957  \n",
       "52         16.363636        0.000000  \n",
       "53         25.531915        0.000000  \n",
       "54         97.142857        0.000000  \n",
       "55          0.000000        0.000000  \n",
       "56         94.642857        0.000000  \n",
       "57         88.888889        0.000000  >"
      ]
     },
     "execution_count": 21,
     "metadata": {},
     "output_type": "execute_result"
    }
   ],
   "source": [
    "df.info\n"
   ]
  },
  {
   "cell_type": "markdown",
   "id": "olive-gossip",
   "metadata": {},
   "source": [
    "Check for any missing value"
   ]
  },
  {
   "cell_type": "code",
   "execution_count": 29,
   "id": "compound-twelve",
   "metadata": {},
   "outputs": [
    {
     "data": {
      "text/plain": [
       "Province            0\n",
       "Infected            0\n",
       "Active              0\n",
       "Recovered           0\n",
       "Deaths              0\n",
       "Active Ratio(%)     0\n",
       "Recover ratio(%)    0\n",
       "Death Ratio(%)      0\n",
       "dtype: int64"
      ]
     },
     "execution_count": 29,
     "metadata": {},
     "output_type": "execute_result"
    }
   ],
   "source": [
    "df.isnull().sum()"
   ]
  },
  {
   "cell_type": "markdown",
   "id": "radical-lemon",
   "metadata": {},
   "source": [
    "Heatmap for any missing value"
   ]
  },
  {
   "cell_type": "code",
   "execution_count": 20,
   "id": "opposed-survivor",
   "metadata": {
    "scrolled": true
   },
   "outputs": [
    {
     "data": {
      "text/plain": [
       "<AxesSubplot:>"
      ]
     },
     "execution_count": 20,
     "metadata": {},
     "output_type": "execute_result"
    },
    {
     "data": {
      "image/png": "[encoded data removed]",
      "text/plain": [
       "<Figure size 432x288 with 2 Axes>"
      ]
     },
     "metadata": {
      "needs_background": "light"
     },
     "output_type": "display_data"
    }
   ],
   "source": [
    "sns.heatmap(df.isnull())"
   ]
  },
  {
   "cell_type": "markdown",
   "id": "unlike-german",
   "metadata": {},
   "source": [
    "Check for correlation between variables"
   ]
  },
  {
   "cell_type": "code",
   "execution_count": 7,
   "id": "animated-atlanta",
   "metadata": {},
   "outputs": [
    {
     "data": {
      "text/html": [
       "<div>\n",
       "<style scoped>\n",
       "    .dataframe tbody tr th:only-of-type {\n",
       "        vertical-align: middle;\n",
       "    }\n",
       "\n",
       "    .dataframe tbody tr th {\n",
       "        vertical-align: top;\n",
       "    }\n",
       "\n",
       "    .dataframe thead th {\n",
       "        text-align: right;\n",
       "    }\n",
       "</style>\n",
       "<table border=\"1\" class=\"dataframe\">\n",
       "  <thead>\n",
       "    <tr style=\"text-align: right;\">\n",
       "      <th></th>\n",
       "      <th>Infected</th>\n",
       "      <th>Active</th>\n",
       "      <th>Recovered</th>\n",
       "      <th>Deaths</th>\n",
       "      <th>Active Ratio(%)</th>\n",
       "      <th>Recover ratio(%)</th>\n",
       "      <th>Death Ratio(%)</th>\n",
       "    </tr>\n",
       "  </thead>\n",
       "  <tbody>\n",
       "    <tr>\n",
       "      <th>Infected</th>\n",
       "      <td>1.000000</td>\n",
       "      <td>0.939287</td>\n",
       "      <td>0.780261</td>\n",
       "      <td>0.453909</td>\n",
       "      <td>0.103178</td>\n",
       "      <td>-0.104635</td>\n",
       "      <td>0.035626</td>\n",
       "    </tr>\n",
       "    <tr>\n",
       "      <th>Active</th>\n",
       "      <td>0.939287</td>\n",
       "      <td>1.000000</td>\n",
       "      <td>0.518311</td>\n",
       "      <td>0.384269</td>\n",
       "      <td>0.188169</td>\n",
       "      <td>-0.188427</td>\n",
       "      <td>-0.011603</td>\n",
       "    </tr>\n",
       "    <tr>\n",
       "      <th>Recovered</th>\n",
       "      <td>0.780261</td>\n",
       "      <td>0.518311</td>\n",
       "      <td>1.000000</td>\n",
       "      <td>0.421077</td>\n",
       "      <td>-0.084599</td>\n",
       "      <td>0.081651</td>\n",
       "      <td>0.102947</td>\n",
       "    </tr>\n",
       "    <tr>\n",
       "      <th>Deaths</th>\n",
       "      <td>0.453909</td>\n",
       "      <td>0.384269</td>\n",
       "      <td>0.421077</td>\n",
       "      <td>1.000000</td>\n",
       "      <td>-0.082205</td>\n",
       "      <td>0.064128</td>\n",
       "      <td>0.590630</td>\n",
       "    </tr>\n",
       "    <tr>\n",
       "      <th>Active Ratio(%)</th>\n",
       "      <td>0.103178</td>\n",
       "      <td>0.188169</td>\n",
       "      <td>-0.084599</td>\n",
       "      <td>-0.082205</td>\n",
       "      <td>1.000000</td>\n",
       "      <td>-0.999567</td>\n",
       "      <td>-0.120830</td>\n",
       "    </tr>\n",
       "    <tr>\n",
       "      <th>Recover ratio(%)</th>\n",
       "      <td>-0.104635</td>\n",
       "      <td>-0.188427</td>\n",
       "      <td>0.081651</td>\n",
       "      <td>0.064128</td>\n",
       "      <td>-0.999567</td>\n",
       "      <td>1.000000</td>\n",
       "      <td>0.091582</td>\n",
       "    </tr>\n",
       "    <tr>\n",
       "      <th>Death Ratio(%)</th>\n",
       "      <td>0.035626</td>\n",
       "      <td>-0.011603</td>\n",
       "      <td>0.102947</td>\n",
       "      <td>0.590630</td>\n",
       "      <td>-0.120830</td>\n",
       "      <td>0.091582</td>\n",
       "      <td>1.000000</td>\n",
       "    </tr>\n",
       "  </tbody>\n",
       "</table>\n",
       "</div>"
      ],
      "text/plain": [
       "                  Infected    Active  Recovered    Deaths  Active Ratio(%)  \\\n",
       "Infected          1.000000  0.939287   0.780261  0.453909         0.103178   \n",
       "Active            0.939287  1.000000   0.518311  0.384269         0.188169   \n",
       "Recovered         0.780261  0.518311   1.000000  0.421077        -0.084599   \n",
       "Deaths            0.453909  0.384269   0.421077  1.000000        -0.082205   \n",
       "Active Ratio(%)   0.103178  0.188169  -0.084599 -0.082205         1.000000   \n",
       "Recover ratio(%) -0.104635 -0.188427   0.081651  0.064128        -0.999567   \n",
       "Death Ratio(%)    0.035626 -0.011603   0.102947  0.590630        -0.120830   \n",
       "\n",
       "                  Recover ratio(%)  Death Ratio(%)  \n",
       "Infected                 -0.104635        0.035626  \n",
       "Active                   -0.188427       -0.011603  \n",
       "Recovered                 0.081651        0.102947  \n",
       "Deaths                    0.064128        0.590630  \n",
       "Active Ratio(%)          -0.999567       -0.120830  \n",
       "Recover ratio(%)          1.000000        0.091582  \n",
       "Death Ratio(%)            0.091582        1.000000  "
      ]
     },
     "execution_count": 7,
     "metadata": {},
     "output_type": "execute_result"
    }
   ],
   "source": [
    "df.corr()"
   ]
  },
  {
   "cell_type": "markdown",
   "id": "olympic-sussex",
   "metadata": {},
   "source": [
    "Visualization for the correlation"
   ]
  },
  {
   "cell_type": "code",
   "execution_count": 8,
   "id": "musical-adjustment",
   "metadata": {},
   "outputs": [
    {
     "data": {
      "text/plain": [
       "<AxesSubplot:>"
      ]
     },
     "execution_count": 8,
     "metadata": {},
     "output_type": "execute_result"
    },
    {
     "data": {
      "image/png": "[encoded data removed]",
      "text/plain": [
       "<Figure size 432x288 with 2 Axes>"
      ]
     },
     "metadata": {
      "needs_background": "light"
     },
     "output_type": "display_data"
    }
   ],
   "source": [
    "sns.heatmap(df.corr(), annot=True)"
   ]
  },
  {
   "cell_type": "markdown",
   "id": "alive-width",
   "metadata": {},
   "source": [
    "<h2 id=\"Visualization\">Visualization</h2>"
   ]
  },
  {
   "cell_type": "markdown",
   "id": "waiting-cleaner",
   "metadata": {},
   "source": [
    " Let's start with the graph showing the number of ***infection*** by province in Vietnam"
   ]
  },
  {
   "cell_type": "code",
   "execution_count": 12,
   "id": "coastal-driving",
   "metadata": {},
   "outputs": [
    {
     "data": {
      "text/plain": [
       "<AxesSubplot:xlabel='Infected', ylabel='Province'>"
      ]
     },
     "execution_count": 12,
     "metadata": {},
     "output_type": "execute_result"
    },
    {
     "data": {
      "image/png": "[encoded data removed]",
      "text/plain": [
       "<Figure size 576x720 with 1 Axes>"
      ]
     },
     "metadata": {
      "needs_background": "light"
     },
     "output_type": "display_data"
    }
   ],
   "source": [
    "plt.figure(figsize=(8, 10))\n",
    "sns.barplot(data = df, y=\"Province\", x=\"Infected\")"
   ]
  },
  {
   "cell_type": "markdown",
   "id": "divided-permission",
   "metadata": {},
   "source": [
    "As showed on the graph, ***Ho Chi Minh city(Saigon)*** has the most number of cases in Covid 19 up to the point I started the project, with over 6300 cases of COVID 19."
   ]
  },
  {
   "cell_type": "markdown",
   "id": "adequate-account",
   "metadata": {},
   "source": [
    "Despite having most cases, Saigon has surprisingly less death ratio than I expected "
   ]
  },
  {
   "cell_type": "code",
   "execution_count": 32,
   "id": "surgical-arrival",
   "metadata": {},
   "outputs": [
    {
     "data": {
      "application/vnd.plotly.v1+json": {
       "config": {
        "plotlyServerURL": "https://plot.ly"
       },
       "data": [
        {
         "alignmentgroup": "True",
         "hovertemplate": "Province=%{x}<br>Infected=%{y}<br>Death Ratio(%)=%{marker.color}<extra></extra>",
         "legendgroup": "",
         "marker": {
          "color": [
           2.419354839,
           0,
           0,
           0,
           0,
           0,
           0,
           0,
           0,
           0,
           0,
           0.909090909,
           0,
           0.121359223,
           0,
           0,
           0.551132884,
           0,
           0,
           0,
           0,
           0,
           0,
           0,
           0,
           0,
           0,
           5.555555556,
           0,
           4.272363151,
           2.205882353,
           0,
           0,
           0,
           0,
           0,
           0,
           0,
           0,
           0,
           0,
           0.649350649,
           0,
           0,
           0,
           0.219711237,
           0.956937799,
           0.574712644,
           0,
           0,
           0,
           1.086956522,
           0,
           0,
           0,
           0,
           0,
           0
          ],
          "coloraxis": "coloraxis",
          "pattern": {
           "shape": ""
          }
         },
         "name": "",
         "offsetgroup": "",
         "orientation": "v",
         "showlegend": false,
         "textposition": "auto",
         "type": "bar",
         "x": [
          "Ha Noi",
          "Ha Giang",
          "Bac Kan",
          "Tuyen Quang",
          "Lao Cai",
          "Dien Bien",
          "Lai Chau",
          "Son La",
          "Yen Bai",
          "Hoa Binh",
          "Thai Nguyen",
          "Lang Son",
          "Quang Ninh",
          "Bac Giang",
          "Phu Tho",
          "Vinh Phuc",
          "Bac Ninh",
          "Hai Duong",
          "Hai Phong",
          "Hung Yen",
          "Thai Binh",
          "Ha Nam",
          "Nam Dinh",
          "Ninh Binh",
          "Thanh Hoa",
          "Nghe An",
          "Ha Tinh",
          "Quang Tri",
          "Thua Thien Hue",
          "Da Nang",
          "Quang Nam",
          "Quang Ngai",
          "Binh Dinh",
          "Phu Yen",
          "Khanh Hoa",
          "Ninh Thuan",
          "Binh Thuan",
          "Gia Lai",
          "Dak Lak",
          "Lam Dong",
          "Binh Phuoc",
          "Tay Ninh",
          "Binh Duong",
          "Dong Nai",
          "Ba Ria - Vung Tau",
          "Ho Chi Minh",
          "Long An",
          "Tien Giang",
          "Ben Tre",
          "Tra Vinh",
          "Vinh Long",
          "Dong Thap",
          "An Giang",
          "Kien Giang",
          "Can Tho",
          "Soc Trang",
          "Bac Lieu",
          "Ca Mau"
         ],
         "xaxis": "x",
         "y": [
          744,
          4,
          5,
          1,
          6,
          59,
          1,
          1,
          5,
          39,
          9,
          110,
          99,
          5768,
          8,
          113,
          1633,
          813,
          24,
          166,
          76,
          56,
          26,
          51,
          31,
          127,
          128,
          18,
          7,
          749,
          136,
          124,
          15,
          245,
          178,
          13,
          25,
          31,
          8,
          4,
          3,
          154,
          680,
          96,
          152,
          6372,
          209,
          174,
          20,
          19,
          29,
          92,
          55,
          94,
          35,
          19,
          56,
          9
         ],
         "yaxis": "y"
        }
       ],
       "layout": {
        "barmode": "relative",
        "coloraxis": {
         "colorbar": {
          "title": {
           "text": "Death Ratio(%)"
          }
         },
         "colorscale": [
          [
           0,
           "#0d0887"
          ],
          [
           0.1111111111111111,
           "#46039f"
          ],
          [
           0.2222222222222222,
           "#7201a8"
          ],
          [
           0.3333333333333333,
           "#9c179e"
          ],
          [
           0.4444444444444444,
           "#bd3786"
          ],
          [
           0.5555555555555556,
           "#d8576b"
          ],
          [
           0.6666666666666666,
           "#ed7953"
          ],
          [
           0.7777777777777778,
           "#fb9f3a"
          ],
          [
           0.8888888888888888,
           "#fdca26"
          ],
          [
           1,
           "#f0f921"
          ]
         ]
        },
        "legend": {
         "tracegroupgap": 0
        },
        "template": {
         "data": {
          "bar": [
           {
            "error_x": {
             "color": "#2a3f5f"
            },
            "error_y": {
             "color": "#2a3f5f"
            },
            "marker": {
             "line": {
              "color": "#E5ECF6",
              "width": 0.5
             },
             "pattern": {
              "fillmode": "overlay",
              "size": 10,
              "solidity": 0.2
             }
            },
            "type": "bar"
           }
          ],
          "barpolar": [
           {
            "marker": {
             "line": {
              "color": "#E5ECF6",
              "width": 0.5
             },
             "pattern": {
              "fillmode": "overlay",
              "size": 10,
              "solidity": 0.2
             }
            },
            "type": "barpolar"
           }
          ],
          "carpet": [
           {
            "aaxis": {
             "endlinecolor": "#2a3f5f",
             "gridcolor": "white",
             "linecolor": "white",
             "minorgridcolor": "white",
             "startlinecolor": "#2a3f5f"
            },
            "baxis": {
             "endlinecolor": "#2a3f5f",
             "gridcolor": "white",
             "linecolor": "white",
             "minorgridcolor": "white",
             "startlinecolor": "#2a3f5f"
            },
            "type": "carpet"
           }
          ],
          "choropleth": [
           {
            "colorbar": {
             "outlinewidth": 0,
             "ticks": ""
            },
            "type": "choropleth"
           }
          ],
          "contour": [
           {
            "colorbar": {
             "outlinewidth": 0,
             "ticks": ""
            },
            "colorscale": [
             [
              0,
              "#0d0887"
             ],
             [
              0.1111111111111111,
              "#46039f"
             ],
             [
              0.2222222222222222,
              "#7201a8"
             ],
             [
              0.3333333333333333,
              "#9c179e"
             ],
             [
              0.4444444444444444,
              "#bd3786"
             ],
             [
              0.5555555555555556,
              "#d8576b"
             ],
             [
              0.6666666666666666,
              "#ed7953"
             ],
             [
              0.7777777777777778,
              "#fb9f3a"
             ],
             [
              0.8888888888888888,
              "#fdca26"
             ],
             [
              1,
              "#f0f921"
             ]
            ],
            "type": "contour"
           }
          ],
          "contourcarpet": [
           {
            "colorbar": {
             "outlinewidth": 0,
             "ticks": ""
            },
            "type": "contourcarpet"
           }
          ],
          "heatmap": [
           {
            "colorbar": {
             "outlinewidth": 0,
             "ticks": ""
            },
            "colorscale": [
             [
              0,
              "#0d0887"
             ],
             [
              0.1111111111111111,
              "#46039f"
             ],
             [
              0.2222222222222222,
              "#7201a8"
             ],
             [
              0.3333333333333333,
              "#9c179e"
             ],
             [
              0.4444444444444444,
              "#bd3786"
             ],
             [
              0.5555555555555556,
              "#d8576b"
             ],
             [
              0.6666666666666666,
              "#ed7953"
             ],
             [
              0.7777777777777778,
              "#fb9f3a"
             ],
             [
              0.8888888888888888,
              "#fdca26"
             ],
             [
              1,
              "#f0f921"
             ]
            ],
            "type": "heatmap"
           }
          ],
          "heatmapgl": [
           {
            "colorbar": {
             "outlinewidth": 0,
             "ticks": ""
            },
            "colorscale": [
             [
              0,
              "#0d0887"
             ],
             [
              0.1111111111111111,
              "#46039f"
             ],
             [
              0.2222222222222222,
              "#7201a8"
             ],
             [
              0.3333333333333333,
              "#9c179e"
             ],
             [
              0.4444444444444444,
              "#bd3786"
             ],
             [
              0.5555555555555556,
              "#d8576b"
             ],
             [
              0.6666666666666666,
              "#ed7953"
             ],
             [
              0.7777777777777778,
              "#fb9f3a"
             ],
             [
              0.8888888888888888,
              "#fdca26"
             ],
             [
              1,
              "#f0f921"
             ]
            ],
            "type": "heatmapgl"
           }
          ],
          "histogram": [
           {
            "marker": {
             "pattern": {
              "fillmode": "overlay",
              "size": 10,
              "solidity": 0.2
             }
            },
            "type": "histogram"
           }
          ],
          "histogram2d": [
           {
            "colorbar": {
             "outlinewidth": 0,
             "ticks": ""
            },
            "colorscale": [
             [
              0,
              "#0d0887"
             ],
             [
              0.1111111111111111,
              "#46039f"
             ],
             [
              0.2222222222222222,
              "#7201a8"
             ],
             [
              0.3333333333333333,
              "#9c179e"
             ],
             [
              0.4444444444444444,
              "#bd3786"
             ],
             [
              0.5555555555555556,
              "#d8576b"
             ],
             [
              0.6666666666666666,
              "#ed7953"
             ],
             [
              0.7777777777777778,
              "#fb9f3a"
             ],
             [
              0.8888888888888888,
              "#fdca26"
             ],
             [
              1,
              "#f0f921"
             ]
            ],
            "type": "histogram2d"
           }
          ],
          "histogram2dcontour": [
           {
            "colorbar": {
             "outlinewidth": 0,
             "ticks": ""
            },
            "colorscale": [
             [
              0,
              "#0d0887"
             ],
             [
              0.1111111111111111,
              "#46039f"
             ],
             [
              0.2222222222222222,
              "#7201a8"
             ],
             [
              0.3333333333333333,
              "#9c179e"
             ],
             [
              0.4444444444444444,
              "#bd3786"
             ],
             [
              0.5555555555555556,
              "#d8576b"
             ],
             [
              0.6666666666666666,
              "#ed7953"
             ],
             [
              0.7777777777777778,
              "#fb9f3a"
             ],
             [
              0.8888888888888888,
              "#fdca26"
             ],
             [
              1,
              "#f0f921"
             ]
            ],
            "type": "histogram2dcontour"
           }
          ],
          "mesh3d": [
           {
            "colorbar": {
             "outlinewidth": 0,
             "ticks": ""
            },
            "type": "mesh3d"
           }
          ],
          "parcoords": [
           {
            "line": {
             "colorbar": {
              "outlinewidth": 0,
              "ticks": ""
             }
            },
            "type": "parcoords"
           }
          ],
          "pie": [
           {
            "automargin": true,
            "type": "pie"
           }
          ],
          "scatter": [
           {
            "marker": {
             "colorbar": {
              "outlinewidth": 0,
              "ticks": ""
             }
            },
            "type": "scatter"
           }
          ],
          "scatter3d": [
           {
            "line": {
             "colorbar": {
              "outlinewidth": 0,
              "ticks": ""
             }
            },
            "marker": {
             "colorbar": {
              "outlinewidth": 0,
              "ticks": ""
             }
            },
            "type": "scatter3d"
           }
          ],
          "scattercarpet": [
           {
            "marker": {
             "colorbar": {
              "outlinewidth": 0,
              "ticks": ""
             }
            },
            "type": "scattercarpet"
           }
          ],
          "scattergeo": [
           {
            "marker": {
             "colorbar": {
              "outlinewidth": 0,
              "ticks": ""
             }
            },
            "type": "scattergeo"
           }
          ],
          "scattergl": [
           {
            "marker": {
             "colorbar": {
              "outlinewidth": 0,
              "ticks": ""
             }
            },
            "type": "scattergl"
           }
          ],
          "scattermapbox": [
           {
            "marker": {
             "colorbar": {
              "outlinewidth": 0,
              "ticks": ""
             }
            },
            "type": "scattermapbox"
           }
          ],
          "scatterpolar": [
           {
            "marker": {
             "colorbar": {
              "outlinewidth": 0,
              "ticks": ""
             }
            },
            "type": "scatterpolar"
           }
          ],
          "scatterpolargl": [
           {
            "marker": {
             "colorbar": {
              "outlinewidth": 0,
              "ticks": ""
             }
            },
            "type": "scatterpolargl"
           }
          ],
          "scatterternary": [
           {
            "marker": {
             "colorbar": {
              "outlinewidth": 0,
              "ticks": ""
             }
            },
            "type": "scatterternary"
           }
          ],
          "surface": [
           {
            "colorbar": {
             "outlinewidth": 0,
             "ticks": ""
            },
            "colorscale": [
             [
              0,
              "#0d0887"
             ],
             [
              0.1111111111111111,
              "#46039f"
             ],
             [
              0.2222222222222222,
              "#7201a8"
             ],
             [
              0.3333333333333333,
              "#9c179e"
             ],
             [
              0.4444444444444444,
              "#bd3786"
             ],
             [
              0.5555555555555556,
              "#d8576b"
             ],
             [
              0.6666666666666666,
              "#ed7953"
             ],
             [
              0.7777777777777778,
              "#fb9f3a"
             ],
             [
              0.8888888888888888,
              "#fdca26"
             ],
             [
              1,
              "#f0f921"
             ]
            ],
            "type": "surface"
           }
          ],
          "table": [
           {
            "cells": {
             "fill": {
              "color": "#EBF0F8"
             },
             "line": {
              "color": "white"
             }
            },
            "header": {
             "fill": {
              "color": "#C8D4E3"
             },
             "line": {
              "color": "white"
             }
            },
            "type": "table"
           }
          ]
         },
         "layout": {
          "annotationdefaults": {
           "arrowcolor": "#2a3f5f",
           "arrowhead": 0,
           "arrowwidth": 1
          },
          "autotypenumbers": "strict",
          "coloraxis": {
           "colorbar": {
            "outlinewidth": 0,
            "ticks": ""
           }
          },
          "colorscale": {
           "diverging": [
            [
             0,
             "#8e0152"
            ],
            [
             0.1,
             "#c51b7d"
            ],
            [
             0.2,
             "#de77ae"
            ],
            [
             0.3,
             "#f1b6da"
            ],
            [
             0.4,
             "#fde0ef"
            ],
            [
             0.5,
             "#f7f7f7"
            ],
            [
             0.6,
             "#e6f5d0"
            ],
            [
             0.7,
             "#b8e186"
            ],
            [
             0.8,
             "#7fbc41"
            ],
            [
             0.9,
             "#4d9221"
            ],
            [
             1,
             "#276419"
            ]
           ],
           "sequential": [
            [
             0,
             "#0d0887"
            ],
            [
             0.1111111111111111,
             "#46039f"
            ],
            [
             0.2222222222222222,
             "#7201a8"
            ],
            [
             0.3333333333333333,
             "#9c179e"
            ],
            [
             0.4444444444444444,
             "#bd3786"
            ],
            [
             0.5555555555555556,
             "#d8576b"
            ],
            [
             0.6666666666666666,
             "#ed7953"
            ],
            [
             0.7777777777777778,
             "#fb9f3a"
            ],
            [
             0.8888888888888888,
             "#fdca26"
            ],
            [
             1,
             "#f0f921"
            ]
           ],
           "sequentialminus": [
            [
             0,
             "#0d0887"
            ],
            [
             0.1111111111111111,
             "#46039f"
            ],
            [
             0.2222222222222222,
             "#7201a8"
            ],
            [
             0.3333333333333333,
             "#9c179e"
            ],
            [
             0.4444444444444444,
             "#bd3786"
            ],
            [
             0.5555555555555556,
             "#d8576b"
            ],
            [
             0.6666666666666666,
             "#ed7953"
            ],
            [
             0.7777777777777778,
             "#fb9f3a"
            ],
            [
             0.8888888888888888,
             "#fdca26"
            ],
            [
             1,
             "#f0f921"
            ]
           ]
          },
          "colorway": [
           "#636efa",
           "#EF553B",
           "#00cc96",
           "#ab63fa",
           "#FFA15A",
           "#19d3f3",
           "#FF6692",
           "#B6E880",
           "#FF97FF",
           "#FECB52"
          ],
          "font": {
           "color": "#2a3f5f"
          },
          "geo": {
           "bgcolor": "white",
           "lakecolor": "white",
           "landcolor": "#E5ECF6",
           "showlakes": true,
           "showland": true,
           "subunitcolor": "white"
          },
          "hoverlabel": {
           "align": "left"
          },
          "hovermode": "closest",
          "mapbox": {
           "style": "light"
          },
          "paper_bgcolor": "white",
          "plot_bgcolor": "#E5ECF6",
          "polar": {
           "angularaxis": {
            "gridcolor": "white",
            "linecolor": "white",
            "ticks": ""
           },
           "bgcolor": "#E5ECF6",
           "radialaxis": {
            "gridcolor": "white",
            "linecolor": "white",
            "ticks": ""
           }
          },
          "scene": {
           "xaxis": {
            "backgroundcolor": "#E5ECF6",
            "gridcolor": "white",
            "gridwidth": 2,
            "linecolor": "white",
            "showbackground": true,
            "ticks": "",
            "zerolinecolor": "white"
           },
           "yaxis": {
            "backgroundcolor": "#E5ECF6",
            "gridcolor": "white",
            "gridwidth": 2,
            "linecolor": "white",
            "showbackground": true,
            "ticks": "",
            "zerolinecolor": "white"
           },
           "zaxis": {
            "backgroundcolor": "#E5ECF6",
            "gridcolor": "white",
            "gridwidth": 2,
            "linecolor": "white",
            "showbackground": true,
            "ticks": "",
            "zerolinecolor": "white"
           }
          },
          "shapedefaults": {
           "line": {
            "color": "#2a3f5f"
           }
          },
          "ternary": {
           "aaxis": {
            "gridcolor": "white",
            "linecolor": "white",
            "ticks": ""
           },
           "baxis": {
            "gridcolor": "white",
            "linecolor": "white",
            "ticks": ""
           },
           "bgcolor": "#E5ECF6",
           "caxis": {
            "gridcolor": "white",
            "linecolor": "white",
            "ticks": ""
           }
          },
          "title": {
           "x": 0.05
          },
          "xaxis": {
           "automargin": true,
           "gridcolor": "white",
           "linecolor": "white",
           "ticks": "",
           "title": {
            "standoff": 15
           },
           "zerolinecolor": "white",
           "zerolinewidth": 2
          },
          "yaxis": {
           "automargin": true,
           "gridcolor": "white",
           "linecolor": "white",
           "ticks": "",
           "title": {
            "standoff": 15
           },
           "zerolinecolor": "white",
           "zerolinewidth": 2
          }
         }
        },
        "title": {
         "text": "Death ratio and Number of Infection as per Province: "
        },
        "xaxis": {
         "anchor": "y",
         "domain": [
          0,
          1
         ],
         "title": {
          "text": "Province"
         }
        },
        "yaxis": {
         "anchor": "x",
         "domain": [
          0,
          1
         ],
         "title": {
          "text": "Infected"
         }
        }
       }
      },
      "text/html": [
       "<div>                            <div id=\"20a50df5-742c-4b46-9ea7-445a30269986\" class=\"plotly-graph-div\" style=\"height:525px; width:100%;\"></div>            <script type=\"text/javascript\">                require([\"plotly\"], function(Plotly) {                    window.PLOTLYENV=window.PLOTLYENV || {};                                    if (document.getElementById(\"20a50df5-742c-4b46-9ea7-445a30269986\")) {                    Plotly.newPlot(                        \"20a50df5-742c-4b46-9ea7-445a30269986\",                        [{\"alignmentgroup\":\"True\",\"hovertemplate\":\"Province=%{x}<br>Infected=%{y}<br>Death Ratio(%)=%{marker.color}<extra></extra>\",\"legendgroup\":\"\",\"marker\":{\"color\":[2.419354839,0.0,0.0,0.0,0.0,0.0,0.0,0.0,0.0,0.0,0.0,0.909090909,0.0,0.121359223,0.0,0.0,0.551132884,0.0,0.0,0.0,0.0,0.0,0.0,0.0,0.0,0.0,0.0,5.555555556,0.0,4.272363151,2.205882353,0.0,0.0,0.0,0.0,0.0,0.0,0.0,0.0,0.0,0.0,0.649350649,0.0,0.0,0.0,0.219711237,0.956937799,0.574712644,0.0,0.0,0.0,1.086956522,0.0,0.0,0.0,0.0,0.0,0.0],\"coloraxis\":\"coloraxis\",\"pattern\":{\"shape\":\"\"}},\"name\":\"\",\"offsetgroup\":\"\",\"orientation\":\"v\",\"showlegend\":false,\"textposition\":\"auto\",\"type\":\"bar\",\"x\":[\"Ha Noi\",\"Ha Giang\",\"Bac Kan\",\"Tuyen Quang\",\"Lao Cai\",\"Dien Bien\",\"Lai Chau\",\"Son La\",\"Yen Bai\",\"Hoa Binh\",\"Thai Nguyen\",\"Lang Son\",\"Quang Ninh\",\"Bac Giang\",\"Phu Tho\",\"Vinh Phuc\",\"Bac Ninh\",\"Hai Duong\",\"Hai Phong\",\"Hung Yen\",\"Thai Binh\",\"Ha Nam\",\"Nam Dinh\",\"Ninh Binh\",\"Thanh Hoa\",\"Nghe An\",\"Ha Tinh\",\"Quang Tri\",\"Thua Thien Hue\",\"Da Nang\",\"Quang Nam\",\"Quang Ngai\",\"Binh Dinh\",\"Phu Yen\",\"Khanh Hoa\",\"Ninh Thuan\",\"Binh Thuan\",\"Gia Lai\",\"Dak Lak\",\"Lam Dong\",\"Binh Phuoc\",\"Tay Ninh\",\"Binh Duong\",\"Dong Nai\",\"Ba Ria - Vung Tau\",\"Ho Chi Minh\",\"Long An\",\"Tien Giang\",\"Ben Tre\",\"Tra Vinh\",\"Vinh Long\",\"Dong Thap\",\"An Giang\",\"Kien Giang\",\"Can Tho\",\"Soc Trang\",\"Bac Lieu\",\"Ca Mau\"],\"xaxis\":\"x\",\"y\":[744,4,5,1,6,59,1,1,5,39,9,110,99,5768,8,113,1633,813,24,166,76,56,26,51,31,127,128,18,7,749,136,124,15,245,178,13,25,31,8,4,3,154,680,96,152,6372,209,174,20,19,29,92,55,94,35,19,56,9],\"yaxis\":\"y\"}],                        {\"barmode\":\"relative\",\"coloraxis\":{\"colorbar\":{\"title\":{\"text\":\"Death Ratio(%)\"}},\"colorscale\":[[0.0,\"#0d0887\"],[0.1111111111111111,\"#46039f\"],[0.2222222222222222,\"#7201a8\"],[0.3333333333333333,\"#9c179e\"],[0.4444444444444444,\"#bd3786\"],[0.5555555555555556,\"#d8576b\"],[0.6666666666666666,\"#ed7953\"],[0.7777777777777778,\"#fb9f3a\"],[0.8888888888888888,\"#fdca26\"],[1.0,\"#f0f921\"]]},\"legend\":{\"tracegroupgap\":0},\"template\":{\"data\":{\"bar\":[{\"error_x\":{\"color\":\"#2a3f5f\"},\"error_y\":{\"color\":\"#2a3f5f\"},\"marker\":{\"line\":{\"color\":\"#E5ECF6\",\"width\":0.5},\"pattern\":{\"fillmode\":\"overlay\",\"size\":10,\"solidity\":0.2}},\"type\":\"bar\"}],\"barpolar\":[{\"marker\":{\"line\":{\"color\":\"#E5ECF6\",\"width\":0.5},\"pattern\":{\"fillmode\":\"overlay\",\"size\":10,\"solidity\":0.2}},\"type\":\"barpolar\"}],\"carpet\":[{\"aaxis\":{\"endlinecolor\":\"#2a3f5f\",\"gridcolor\":\"white\",\"linecolor\":\"white\",\"minorgridcolor\":\"white\",\"startlinecolor\":\"#2a3f5f\"},\"baxis\":{\"endlinecolor\":\"#2a3f5f\",\"gridcolor\":\"white\",\"linecolor\":\"white\",\"minorgridcolor\":\"white\",\"startlinecolor\":\"#2a3f5f\"},\"type\":\"carpet\"}],\"choropleth\":[{\"colorbar\":{\"outlinewidth\":0,\"ticks\":\"\"},\"type\":\"choropleth\"}],\"contour\":[{\"colorbar\":{\"outlinewidth\":0,\"ticks\":\"\"},\"colorscale\":[[0.0,\"#0d0887\"],[0.1111111111111111,\"#46039f\"],[0.2222222222222222,\"#7201a8\"],[0.3333333333333333,\"#9c179e\"],[0.4444444444444444,\"#bd3786\"],[0.5555555555555556,\"#d8576b\"],[0.6666666666666666,\"#ed7953\"],[0.7777777777777778,\"#fb9f3a\"],[0.8888888888888888,\"#fdca26\"],[1.0,\"#f0f921\"]],\"type\":\"contour\"}],\"contourcarpet\":[{\"colorbar\":{\"outlinewidth\":0,\"ticks\":\"\"},\"type\":\"contourcarpet\"}],\"heatmap\":[{\"colorbar\":{\"outlinewidth\":0,\"ticks\":\"\"},\"colorscale\":[[0.0,\"#0d0887\"],[0.1111111111111111,\"#46039f\"],[0.2222222222222222,\"#7201a8\"],[0.3333333333333333,\"#9c179e\"],[0.4444444444444444,\"#bd3786\"],[0.5555555555555556,\"#d8576b\"],[0.6666666666666666,\"#ed7953\"],[0.7777777777777778,\"#fb9f3a\"],[0.8888888888888888,\"#fdca26\"],[1.0,\"#f0f921\"]],\"type\":\"heatmap\"}],\"heatmapgl\":[{\"colorbar\":{\"outlinewidth\":0,\"ticks\":\"\"},\"colorscale\":[[0.0,\"#0d0887\"],[0.1111111111111111,\"#46039f\"],[0.2222222222222222,\"#7201a8\"],[0.3333333333333333,\"#9c179e\"],[0.4444444444444444,\"#bd3786\"],[0.5555555555555556,\"#d8576b\"],[0.6666666666666666,\"#ed7953\"],[0.7777777777777778,\"#fb9f3a\"],[0.8888888888888888,\"#fdca26\"],[1.0,\"#f0f921\"]],\"type\":\"heatmapgl\"}],\"histogram\":[{\"marker\":{\"pattern\":{\"fillmode\":\"overlay\",\"size\":10,\"solidity\":0.2}},\"type\":\"histogram\"}],\"histogram2d\":[{\"colorbar\":{\"outlinewidth\":0,\"ticks\":\"\"},\"colorscale\":[[0.0,\"#0d0887\"],[0.1111111111111111,\"#46039f\"],[0.2222222222222222,\"#7201a8\"],[0.3333333333333333,\"#9c179e\"],[0.4444444444444444,\"#bd3786\"],[0.5555555555555556,\"#d8576b\"],[0.6666666666666666,\"#ed7953\"],[0.7777777777777778,\"#fb9f3a\"],[0.8888888888888888,\"#fdca26\"],[1.0,\"#f0f921\"]],\"type\":\"histogram2d\"}],\"histogram2dcontour\":[{\"colorbar\":{\"outlinewidth\":0,\"ticks\":\"\"},\"colorscale\":[[0.0,\"#0d0887\"],[0.1111111111111111,\"#46039f\"],[0.2222222222222222,\"#7201a8\"],[0.3333333333333333,\"#9c179e\"],[0.4444444444444444,\"#bd3786\"],[0.5555555555555556,\"#d8576b\"],[0.6666666666666666,\"#ed7953\"],[0.7777777777777778,\"#fb9f3a\"],[0.8888888888888888,\"#fdca26\"],[1.0,\"#f0f921\"]],\"type\":\"histogram2dcontour\"}],\"mesh3d\":[{\"colorbar\":{\"outlinewidth\":0,\"ticks\":\"\"},\"type\":\"mesh3d\"}],\"parcoords\":[{\"line\":{\"colorbar\":{\"outlinewidth\":0,\"ticks\":\"\"}},\"type\":\"parcoords\"}],\"pie\":[{\"automargin\":true,\"type\":\"pie\"}],\"scatter\":[{\"marker\":{\"colorbar\":{\"outlinewidth\":0,\"ticks\":\"\"}},\"type\":\"scatter\"}],\"scatter3d\":[{\"line\":{\"colorbar\":{\"outlinewidth\":0,\"ticks\":\"\"}},\"marker\":{\"colorbar\":{\"outlinewidth\":0,\"ticks\":\"\"}},\"type\":\"scatter3d\"}],\"scattercarpet\":[{\"marker\":{\"colorbar\":{\"outlinewidth\":0,\"ticks\":\"\"}},\"type\":\"scattercarpet\"}],\"scattergeo\":[{\"marker\":{\"colorbar\":{\"outlinewidth\":0,\"ticks\":\"\"}},\"type\":\"scattergeo\"}],\"scattergl\":[{\"marker\":{\"colorbar\":{\"outlinewidth\":0,\"ticks\":\"\"}},\"type\":\"scattergl\"}],\"scattermapbox\":[{\"marker\":{\"colorbar\":{\"outlinewidth\":0,\"ticks\":\"\"}},\"type\":\"scattermapbox\"}],\"scatterpolar\":[{\"marker\":{\"colorbar\":{\"outlinewidth\":0,\"ticks\":\"\"}},\"type\":\"scatterpolar\"}],\"scatterpolargl\":[{\"marker\":{\"colorbar\":{\"outlinewidth\":0,\"ticks\":\"\"}},\"type\":\"scatterpolargl\"}],\"scatterternary\":[{\"marker\":{\"colorbar\":{\"outlinewidth\":0,\"ticks\":\"\"}},\"type\":\"scatterternary\"}],\"surface\":[{\"colorbar\":{\"outlinewidth\":0,\"ticks\":\"\"},\"colorscale\":[[0.0,\"#0d0887\"],[0.1111111111111111,\"#46039f\"],[0.2222222222222222,\"#7201a8\"],[0.3333333333333333,\"#9c179e\"],[0.4444444444444444,\"#bd3786\"],[0.5555555555555556,\"#d8576b\"],[0.6666666666666666,\"#ed7953\"],[0.7777777777777778,\"#fb9f3a\"],[0.8888888888888888,\"#fdca26\"],[1.0,\"#f0f921\"]],\"type\":\"surface\"}],\"table\":[{\"cells\":{\"fill\":{\"color\":\"#EBF0F8\"},\"line\":{\"color\":\"white\"}},\"header\":{\"fill\":{\"color\":\"#C8D4E3\"},\"line\":{\"color\":\"white\"}},\"type\":\"table\"}]},\"layout\":{\"annotationdefaults\":{\"arrowcolor\":\"#2a3f5f\",\"arrowhead\":0,\"arrowwidth\":1},\"autotypenumbers\":\"strict\",\"coloraxis\":{\"colorbar\":{\"outlinewidth\":0,\"ticks\":\"\"}},\"colorscale\":{\"diverging\":[[0,\"#8e0152\"],[0.1,\"#c51b7d\"],[0.2,\"#de77ae\"],[0.3,\"#f1b6da\"],[0.4,\"#fde0ef\"],[0.5,\"#f7f7f7\"],[0.6,\"#e6f5d0\"],[0.7,\"#b8e186\"],[0.8,\"#7fbc41\"],[0.9,\"#4d9221\"],[1,\"#276419\"]],\"sequential\":[[0.0,\"#0d0887\"],[0.1111111111111111,\"#46039f\"],[0.2222222222222222,\"#7201a8\"],[0.3333333333333333,\"#9c179e\"],[0.4444444444444444,\"#bd3786\"],[0.5555555555555556,\"#d8576b\"],[0.6666666666666666,\"#ed7953\"],[0.7777777777777778,\"#fb9f3a\"],[0.8888888888888888,\"#fdca26\"],[1.0,\"#f0f921\"]],\"sequentialminus\":[[0.0,\"#0d0887\"],[0.1111111111111111,\"#46039f\"],[0.2222222222222222,\"#7201a8\"],[0.3333333333333333,\"#9c179e\"],[0.4444444444444444,\"#bd3786\"],[0.5555555555555556,\"#d8576b\"],[0.6666666666666666,\"#ed7953\"],[0.7777777777777778,\"#fb9f3a\"],[0.8888888888888888,\"#fdca26\"],[1.0,\"#f0f921\"]]},\"colorway\":[\"#636efa\",\"#EF553B\",\"#00cc96\",\"#ab63fa\",\"#FFA15A\",\"#19d3f3\",\"#FF6692\",\"#B6E880\",\"#FF97FF\",\"#FECB52\"],\"font\":{\"color\":\"#2a3f5f\"},\"geo\":{\"bgcolor\":\"white\",\"lakecolor\":\"white\",\"landcolor\":\"#E5ECF6\",\"showlakes\":true,\"showland\":true,\"subunitcolor\":\"white\"},\"hoverlabel\":{\"align\":\"left\"},\"hovermode\":\"closest\",\"mapbox\":{\"style\":\"light\"},\"paper_bgcolor\":\"white\",\"plot_bgcolor\":\"#E5ECF6\",\"polar\":{\"angularaxis\":{\"gridcolor\":\"white\",\"linecolor\":\"white\",\"ticks\":\"\"},\"bgcolor\":\"#E5ECF6\",\"radialaxis\":{\"gridcolor\":\"white\",\"linecolor\":\"white\",\"ticks\":\"\"}},\"scene\":{\"xaxis\":{\"backgroundcolor\":\"#E5ECF6\",\"gridcolor\":\"white\",\"gridwidth\":2,\"linecolor\":\"white\",\"showbackground\":true,\"ticks\":\"\",\"zerolinecolor\":\"white\"},\"yaxis\":{\"backgroundcolor\":\"#E5ECF6\",\"gridcolor\":\"white\",\"gridwidth\":2,\"linecolor\":\"white\",\"showbackground\":true,\"ticks\":\"\",\"zerolinecolor\":\"white\"},\"zaxis\":{\"backgroundcolor\":\"#E5ECF6\",\"gridcolor\":\"white\",\"gridwidth\":2,\"linecolor\":\"white\",\"showbackground\":true,\"ticks\":\"\",\"zerolinecolor\":\"white\"}},\"shapedefaults\":{\"line\":{\"color\":\"#2a3f5f\"}},\"ternary\":{\"aaxis\":{\"gridcolor\":\"white\",\"linecolor\":\"white\",\"ticks\":\"\"},\"baxis\":{\"gridcolor\":\"white\",\"linecolor\":\"white\",\"ticks\":\"\"},\"bgcolor\":\"#E5ECF6\",\"caxis\":{\"gridcolor\":\"white\",\"linecolor\":\"white\",\"ticks\":\"\"}},\"title\":{\"x\":0.05},\"xaxis\":{\"automargin\":true,\"gridcolor\":\"white\",\"linecolor\":\"white\",\"ticks\":\"\",\"title\":{\"standoff\":15},\"zerolinecolor\":\"white\",\"zerolinewidth\":2},\"yaxis\":{\"automargin\":true,\"gridcolor\":\"white\",\"linecolor\":\"white\",\"ticks\":\"\",\"title\":{\"standoff\":15},\"zerolinecolor\":\"white\",\"zerolinewidth\":2}}},\"title\":{\"text\":\"Death ratio and Number of Infection as per Province: \"},\"xaxis\":{\"anchor\":\"y\",\"domain\":[0.0,1.0],\"title\":{\"text\":\"Province\"}},\"yaxis\":{\"anchor\":\"x\",\"domain\":[0.0,1.0],\"title\":{\"text\":\"Infected\"}}},                        {\"responsive\": true}                    ).then(function(){\n",
       "                            \n",
       "var gd = document.getElementById('20a50df5-742c-4b46-9ea7-445a30269986');\n",
       "var x = new MutationObserver(function (mutations, observer) {{\n",
       "        var display = window.getComputedStyle(gd).display;\n",
       "        if (!display || display === 'none') {{\n",
       "            console.log([gd, 'removed!']);\n",
       "            Plotly.purge(gd);\n",
       "            observer.disconnect();\n",
       "        }}\n",
       "}});\n",
       "\n",
       "// Listen for the removal of the full notebook cells\n",
       "var notebookContainer = gd.closest('#notebook-container');\n",
       "if (notebookContainer) {{\n",
       "    x.observe(notebookContainer, {childList: true});\n",
       "}}\n",
       "\n",
       "// Listen for the clearing of the current output cell\n",
       "var outputEl = gd.closest('.output');\n",
       "if (outputEl) {{\n",
       "    x.observe(outputEl, {childList: true});\n",
       "}}\n",
       "\n",
       "                        })                };                });            </script>        </div>"
      ]
     },
     "metadata": {},
     "output_type": "display_data"
    }
   ],
   "source": [
    "px.bar(df, x=\"Province\", y=\"Infected\", color=\"Death Ratio(%)\", title=\"Death ratio and Number of Infection as per Province: \")"
   ]
  },
  {
   "cell_type": "markdown",
   "id": "bibliographic-orchestra",
   "metadata": {},
   "source": [
    "As shown on the graph, ***Quang Tri*** has the highest death ratio within Vietnam with 5.56%, followed by ***Da Nang*** with =4.27% and ***Hanoi*** with 2.42%"
   ]
  },
  {
   "cell_type": "markdown",
   "id": "capital-acceptance",
   "metadata": {},
   "source": [
    "We can dig in further by graphing Death Ratio with Active Ratio"
   ]
  },
  {
   "cell_type": "code",
   "execution_count": 16,
   "id": "regulated-boating",
   "metadata": {},
   "outputs": [
    {
     "data": {
      "application/vnd.plotly.v1+json": {
       "config": {
        "plotlyServerURL": "https://plot.ly"
       },
       "data": [
        {
         "hovertemplate": "Province=Ha Noi<br>Active Ratio(%)=%{x}<br>Death Ratio(%)=%{y}<extra></extra>",
         "legendgroup": "Ha Noi",
         "marker": {
          "color": "#636efa",
          "symbol": "circle"
         },
         "mode": "markers",
         "name": "Ha Noi",
         "orientation": "v",
         "showlegend": true,
         "type": "scatter",
         "x": [
          28.62903226
         ],
         "xaxis": "x",
         "y": [
          2.419354839
         ],
         "yaxis": "y"
        },
        {
         "hovertemplate": "Province=Ha Giang<br>Active Ratio(%)=%{x}<br>Death Ratio(%)=%{y}<extra></extra>",
         "legendgroup": "Ha Giang",
         "marker": {
          "color": "#EF553B",
          "symbol": "circle"
         },
         "mode": "markers",
         "name": "Ha Giang",
         "orientation": "v",
         "showlegend": true,
         "type": "scatter",
         "x": [
          25
         ],
         "xaxis": "x",
         "y": [
          0
         ],
         "yaxis": "y"
        },
        {
         "hovertemplate": "Province=Bac Kan<br>Active Ratio(%)=%{x}<br>Death Ratio(%)=%{y}<extra></extra>",
         "legendgroup": "Bac Kan",
         "marker": {
          "color": "#00cc96",
          "symbol": "circle"
         },
         "mode": "markers",
         "name": "Bac Kan",
         "orientation": "v",
         "showlegend": true,
         "type": "scatter",
         "x": [
          100
         ],
         "xaxis": "x",
         "y": [
          0
         ],
         "yaxis": "y"
        },
        {
         "hovertemplate": "Province=Tuyen Quang<br>Active Ratio(%)=%{x}<br>Death Ratio(%)=%{y}<extra></extra>",
         "legendgroup": "Tuyen Quang",
         "marker": {
          "color": "#ab63fa",
          "symbol": "circle"
         },
         "mode": "markers",
         "name": "Tuyen Quang",
         "orientation": "v",
         "showlegend": true,
         "type": "scatter",
         "x": [
          0
         ],
         "xaxis": "x",
         "y": [
          0
         ],
         "yaxis": "y"
        },
        {
         "hovertemplate": "Province=Lao Cai<br>Active Ratio(%)=%{x}<br>Death Ratio(%)=%{y}<extra></extra>",
         "legendgroup": "Lao Cai",
         "marker": {
          "color": "#FFA15A",
          "symbol": "circle"
         },
         "mode": "markers",
         "name": "Lao Cai",
         "orientation": "v",
         "showlegend": true,
         "type": "scatter",
         "x": [
          66.66666667
         ],
         "xaxis": "x",
         "y": [
          0
         ],
         "yaxis": "y"
        },
        {
         "hovertemplate": "Province=Dien Bien<br>Active Ratio(%)=%{x}<br>Death Ratio(%)=%{y}<extra></extra>",
         "legendgroup": "Dien Bien",
         "marker": {
          "color": "#19d3f3",
          "symbol": "circle"
         },
         "mode": "markers",
         "name": "Dien Bien",
         "orientation": "v",
         "showlegend": true,
         "type": "scatter",
         "x": [
          22.03389831
         ],
         "xaxis": "x",
         "y": [
          0
         ],
         "yaxis": "y"
        },
        {
         "hovertemplate": "Province=Lai Chau<br>Active Ratio(%)=%{x}<br>Death Ratio(%)=%{y}<extra></extra>",
         "legendgroup": "Lai Chau",
         "marker": {
          "color": "#FF6692",
          "symbol": "circle"
         },
         "mode": "markers",
         "name": "Lai Chau",
         "orientation": "v",
         "showlegend": true,
         "type": "scatter",
         "x": [
          0
         ],
         "xaxis": "x",
         "y": [
          0
         ],
         "yaxis": "y"
        },
        {
         "hovertemplate": "Province=Son La<br>Active Ratio(%)=%{x}<br>Death Ratio(%)=%{y}<extra></extra>",
         "legendgroup": "Son La",
         "marker": {
          "color": "#B6E880",
          "symbol": "circle"
         },
         "mode": "markers",
         "name": "Son La",
         "orientation": "v",
         "showlegend": true,
         "type": "scatter",
         "x": [
          100
         ],
         "xaxis": "x",
         "y": [
          0
         ],
         "yaxis": "y"
        },
        {
         "hovertemplate": "Province=Yen Bai<br>Active Ratio(%)=%{x}<br>Death Ratio(%)=%{y}<extra></extra>",
         "legendgroup": "Yen Bai",
         "marker": {
          "color": "#FF97FF",
          "symbol": "circle"
         },
         "mode": "markers",
         "name": "Yen Bai",
         "orientation": "v",
         "showlegend": true,
         "type": "scatter",
         "x": [
          0
         ],
         "xaxis": "x",
         "y": [
          0
         ],
         "yaxis": "y"
        },
        {
         "hovertemplate": "Province=Hoa Binh<br>Active Ratio(%)=%{x}<br>Death Ratio(%)=%{y}<extra></extra>",
         "legendgroup": "Hoa Binh",
         "marker": {
          "color": "#FECB52",
          "symbol": "circle"
         },
         "mode": "markers",
         "name": "Hoa Binh",
         "orientation": "v",
         "showlegend": true,
         "type": "scatter",
         "x": [
          15.38461538
         ],
         "xaxis": "x",
         "y": [
          0
         ],
         "yaxis": "y"
        },
        {
         "hovertemplate": "Province=Thai Nguyen<br>Active Ratio(%)=%{x}<br>Death Ratio(%)=%{y}<extra></extra>",
         "legendgroup": "Thai Nguyen",
         "marker": {
          "color": "#636efa",
          "symbol": "circle"
         },
         "mode": "markers",
         "name": "Thai Nguyen",
         "orientation": "v",
         "showlegend": true,
         "type": "scatter",
         "x": [
          11.11111111
         ],
         "xaxis": "x",
         "y": [
          0
         ],
         "yaxis": "y"
        },
        {
         "hovertemplate": "Province=Lang Son<br>Active Ratio(%)=%{x}<br>Death Ratio(%)=%{y}<extra></extra>",
         "legendgroup": "Lang Son",
         "marker": {
          "color": "#EF553B",
          "symbol": "circle"
         },
         "mode": "markers",
         "name": "Lang Son",
         "orientation": "v",
         "showlegend": true,
         "type": "scatter",
         "x": [
          82.72727273
         ],
         "xaxis": "x",
         "y": [
          0.909090909
         ],
         "yaxis": "y"
        },
        {
         "hovertemplate": "Province=Quang Ninh<br>Active Ratio(%)=%{x}<br>Death Ratio(%)=%{y}<extra></extra>",
         "legendgroup": "Quang Ninh",
         "marker": {
          "color": "#00cc96",
          "symbol": "circle"
         },
         "mode": "markers",
         "name": "Quang Ninh",
         "orientation": "v",
         "showlegend": true,
         "type": "scatter",
         "x": [
          12.12121212
         ],
         "xaxis": "x",
         "y": [
          0
         ],
         "yaxis": "y"
        },
        {
         "hovertemplate": "Province=Bac Giang<br>Active Ratio(%)=%{x}<br>Death Ratio(%)=%{y}<extra></extra>",
         "legendgroup": "Bac Giang",
         "marker": {
          "color": "#ab63fa",
          "symbol": "circle"
         },
         "mode": "markers",
         "name": "Bac Giang",
         "orientation": "v",
         "showlegend": true,
         "type": "scatter",
         "x": [
          45.2149792
         ],
         "xaxis": "x",
         "y": [
          0.121359223
         ],
         "yaxis": "y"
        },
        {
         "hovertemplate": "Province=Phu Tho<br>Active Ratio(%)=%{x}<br>Death Ratio(%)=%{y}<extra></extra>",
         "legendgroup": "Phu Tho",
         "marker": {
          "color": "#FFA15A",
          "symbol": "circle"
         },
         "mode": "markers",
         "name": "Phu Tho",
         "orientation": "v",
         "showlegend": true,
         "type": "scatter",
         "x": [
          37.5
         ],
         "xaxis": "x",
         "y": [
          0
         ],
         "yaxis": "y"
        },
        {
         "hovertemplate": "Province=Vinh Phuc<br>Active Ratio(%)=%{x}<br>Death Ratio(%)=%{y}<extra></extra>",
         "legendgroup": "Vinh Phuc",
         "marker": {
          "color": "#19d3f3",
          "symbol": "circle"
         },
         "mode": "markers",
         "name": "Vinh Phuc",
         "orientation": "v",
         "showlegend": true,
         "type": "scatter",
         "x": [
          55.75221239
         ],
         "xaxis": "x",
         "y": [
          0
         ],
         "yaxis": "y"
        },
        {
         "hovertemplate": "Province=Bac Ninh<br>Active Ratio(%)=%{x}<br>Death Ratio(%)=%{y}<extra></extra>",
         "legendgroup": "Bac Ninh",
         "marker": {
          "color": "#FF6692",
          "symbol": "circle"
         },
         "mode": "markers",
         "name": "Bac Ninh",
         "orientation": "v",
         "showlegend": true,
         "type": "scatter",
         "x": [
          38.39559094
         ],
         "xaxis": "x",
         "y": [
          0.551132884
         ],
         "yaxis": "y"
        },
        {
         "hovertemplate": "Province=Hai Duong<br>Active Ratio(%)=%{x}<br>Death Ratio(%)=%{y}<extra></extra>",
         "legendgroup": "Hai Duong",
         "marker": {
          "color": "#B6E880",
          "symbol": "circle"
         },
         "mode": "markers",
         "name": "Hai Duong",
         "orientation": "v",
         "showlegend": true,
         "type": "scatter",
         "x": [
          1.47601476
         ],
         "xaxis": "x",
         "y": [
          0
         ],
         "yaxis": "y"
        },
        {
         "hovertemplate": "Province=Hai Phong<br>Active Ratio(%)=%{x}<br>Death Ratio(%)=%{y}<extra></extra>",
         "legendgroup": "Hai Phong",
         "marker": {
          "color": "#FF97FF",
          "symbol": "circle"
         },
         "mode": "markers",
         "name": "Hai Phong",
         "orientation": "v",
         "showlegend": true,
         "type": "scatter",
         "x": [
          50
         ],
         "xaxis": "x",
         "y": [
          0
         ],
         "yaxis": "y"
        },
        {
         "hovertemplate": "Province=Hung Yen<br>Active Ratio(%)=%{x}<br>Death Ratio(%)=%{y}<extra></extra>",
         "legendgroup": "Hung Yen",
         "marker": {
          "color": "#FECB52",
          "symbol": "circle"
         },
         "mode": "markers",
         "name": "Hung Yen",
         "orientation": "v",
         "showlegend": true,
         "type": "scatter",
         "x": [
          59.63855422
         ],
         "xaxis": "x",
         "y": [
          0
         ],
         "yaxis": "y"
        },
        {
         "hovertemplate": "Province=Thai Binh<br>Active Ratio(%)=%{x}<br>Death Ratio(%)=%{y}<extra></extra>",
         "legendgroup": "Thai Binh",
         "marker": {
          "color": "#636efa",
          "symbol": "circle"
         },
         "mode": "markers",
         "name": "Thai Binh",
         "orientation": "v",
         "showlegend": true,
         "type": "scatter",
         "x": [
          27.63157895
         ],
         "xaxis": "x",
         "y": [
          0
         ],
         "yaxis": "y"
        },
        {
         "hovertemplate": "Province=Ha Nam<br>Active Ratio(%)=%{x}<br>Death Ratio(%)=%{y}<extra></extra>",
         "legendgroup": "Ha Nam",
         "marker": {
          "color": "#EF553B",
          "symbol": "circle"
         },
         "mode": "markers",
         "name": "Ha Nam",
         "orientation": "v",
         "showlegend": true,
         "type": "scatter",
         "x": [
          21.42857143
         ],
         "xaxis": "x",
         "y": [
          0
         ],
         "yaxis": "y"
        },
        {
         "hovertemplate": "Province=Nam Dinh<br>Active Ratio(%)=%{x}<br>Death Ratio(%)=%{y}<extra></extra>",
         "legendgroup": "Nam Dinh",
         "marker": {
          "color": "#00cc96",
          "symbol": "circle"
         },
         "mode": "markers",
         "name": "Nam Dinh",
         "orientation": "v",
         "showlegend": true,
         "type": "scatter",
         "x": [
          30.76923077
         ],
         "xaxis": "x",
         "y": [
          0
         ],
         "yaxis": "y"
        },
        {
         "hovertemplate": "Province=Ninh Binh<br>Active Ratio(%)=%{x}<br>Death Ratio(%)=%{y}<extra></extra>",
         "legendgroup": "Ninh Binh",
         "marker": {
          "color": "#ab63fa",
          "symbol": "circle"
         },
         "mode": "markers",
         "name": "Ninh Binh",
         "orientation": "v",
         "showlegend": true,
         "type": "scatter",
         "x": [
          27.45098039
         ],
         "xaxis": "x",
         "y": [
          0
         ],
         "yaxis": "y"
        },
        {
         "hovertemplate": "Province=Thanh Hoa<br>Active Ratio(%)=%{x}<br>Death Ratio(%)=%{y}<extra></extra>",
         "legendgroup": "Thanh Hoa",
         "marker": {
          "color": "#FFA15A",
          "symbol": "circle"
         },
         "mode": "markers",
         "name": "Thanh Hoa",
         "orientation": "v",
         "showlegend": true,
         "type": "scatter",
         "x": [
          16.12903226
         ],
         "xaxis": "x",
         "y": [
          0
         ],
         "yaxis": "y"
        },
        {
         "hovertemplate": "Province=Nghe An<br>Active Ratio(%)=%{x}<br>Death Ratio(%)=%{y}<extra></extra>",
         "legendgroup": "Nghe An",
         "marker": {
          "color": "#19d3f3",
          "symbol": "circle"
         },
         "mode": "markers",
         "name": "Nghe An",
         "orientation": "v",
         "showlegend": true,
         "type": "scatter",
         "x": [
          96.06299213
         ],
         "xaxis": "x",
         "y": [
          0
         ],
         "yaxis": "y"
        },
        {
         "hovertemplate": "Province=Ha Tinh<br>Active Ratio(%)=%{x}<br>Death Ratio(%)=%{y}<extra></extra>",
         "legendgroup": "Ha Tinh",
         "marker": {
          "color": "#FF6692",
          "symbol": "circle"
         },
         "mode": "markers",
         "name": "Ha Tinh",
         "orientation": "v",
         "showlegend": true,
         "type": "scatter",
         "x": [
          93.75
         ],
         "xaxis": "x",
         "y": [
          0
         ],
         "yaxis": "y"
        },
        {
         "hovertemplate": "Province=Quang Tri<br>Active Ratio(%)=%{x}<br>Death Ratio(%)=%{y}<extra></extra>",
         "legendgroup": "Quang Tri",
         "marker": {
          "color": "#B6E880",
          "symbol": "circle"
         },
         "mode": "markers",
         "name": "Quang Tri",
         "orientation": "v",
         "showlegend": true,
         "type": "scatter",
         "x": [
          27.77777778
         ],
         "xaxis": "x",
         "y": [
          5.555555556
         ],
         "yaxis": "y"
        },
        {
         "hovertemplate": "Province=Thua Thien Hue<br>Active Ratio(%)=%{x}<br>Death Ratio(%)=%{y}<extra></extra>",
         "legendgroup": "Thua Thien Hue",
         "marker": {
          "color": "#FF97FF",
          "symbol": "circle"
         },
         "mode": "markers",
         "name": "Thua Thien Hue",
         "orientation": "v",
         "showlegend": true,
         "type": "scatter",
         "x": [
          14.28571429
         ],
         "xaxis": "x",
         "y": [
          0
         ],
         "yaxis": "y"
        },
        {
         "hovertemplate": "Province=Da Nang<br>Active Ratio(%)=%{x}<br>Death Ratio(%)=%{y}<extra></extra>",
         "legendgroup": "Da Nang",
         "marker": {
          "color": "#FECB52",
          "symbol": "circle"
         },
         "mode": "markers",
         "name": "Da Nang",
         "orientation": "v",
         "showlegend": true,
         "type": "scatter",
         "x": [
          13.35113485
         ],
         "xaxis": "x",
         "y": [
          4.272363151
         ],
         "yaxis": "y"
        },
        {
         "hovertemplate": "Province=Quang Nam<br>Active Ratio(%)=%{x}<br>Death Ratio(%)=%{y}<extra></extra>",
         "legendgroup": "Quang Nam",
         "marker": {
          "color": "#636efa",
          "symbol": "circle"
         },
         "mode": "markers",
         "name": "Quang Nam",
         "orientation": "v",
         "showlegend": true,
         "type": "scatter",
         "x": [
          8.088235294
         ],
         "xaxis": "x",
         "y": [
          2.205882353
         ],
         "yaxis": "y"
        },
        {
         "hovertemplate": "Province=Quang Ngai<br>Active Ratio(%)=%{x}<br>Death Ratio(%)=%{y}<extra></extra>",
         "legendgroup": "Quang Ngai",
         "marker": {
          "color": "#EF553B",
          "symbol": "circle"
         },
         "mode": "markers",
         "name": "Quang Ngai",
         "orientation": "v",
         "showlegend": true,
         "type": "scatter",
         "x": [
          94.35483871
         ],
         "xaxis": "x",
         "y": [
          0
         ],
         "yaxis": "y"
        },
        {
         "hovertemplate": "Province=Binh Dinh<br>Active Ratio(%)=%{x}<br>Death Ratio(%)=%{y}<extra></extra>",
         "legendgroup": "Binh Dinh",
         "marker": {
          "color": "#00cc96",
          "symbol": "circle"
         },
         "mode": "markers",
         "name": "Binh Dinh",
         "orientation": "v",
         "showlegend": true,
         "type": "scatter",
         "x": [
          93.33333333
         ],
         "xaxis": "x",
         "y": [
          0
         ],
         "yaxis": "y"
        },
        {
         "hovertemplate": "Province=Phu Yen<br>Active Ratio(%)=%{x}<br>Death Ratio(%)=%{y}<extra></extra>",
         "legendgroup": "Phu Yen",
         "marker": {
          "color": "#ab63fa",
          "symbol": "circle"
         },
         "mode": "markers",
         "name": "Phu Yen",
         "orientation": "v",
         "showlegend": true,
         "type": "scatter",
         "x": [
          88.57142857
         ],
         "xaxis": "x",
         "y": [
          0
         ],
         "yaxis": "y"
        },
        {
         "hovertemplate": "Province=Khanh Hoa<br>Active Ratio(%)=%{x}<br>Death Ratio(%)=%{y}<extra></extra>",
         "legendgroup": "Khanh Hoa",
         "marker": {
          "color": "#FFA15A",
          "symbol": "circle"
         },
         "mode": "markers",
         "name": "Khanh Hoa",
         "orientation": "v",
         "showlegend": true,
         "type": "scatter",
         "x": [
          28.08988764
         ],
         "xaxis": "x",
         "y": [
          0
         ],
         "yaxis": "y"
        },
        {
         "hovertemplate": "Province=Ninh Thuan<br>Active Ratio(%)=%{x}<br>Death Ratio(%)=%{y}<extra></extra>",
         "legendgroup": "Ninh Thuan",
         "marker": {
          "color": "#19d3f3",
          "symbol": "circle"
         },
         "mode": "markers",
         "name": "Ninh Thuan",
         "orientation": "v",
         "showlegend": true,
         "type": "scatter",
         "x": [
          7.692307692
         ],
         "xaxis": "x",
         "y": [
          0
         ],
         "yaxis": "y"
        },
        {
         "hovertemplate": "Province=Binh Thuan<br>Active Ratio(%)=%{x}<br>Death Ratio(%)=%{y}<extra></extra>",
         "legendgroup": "Binh Thuan",
         "marker": {
          "color": "#FF6692",
          "symbol": "circle"
         },
         "mode": "markers",
         "name": "Binh Thuan",
         "orientation": "v",
         "showlegend": true,
         "type": "scatter",
         "x": [
          56
         ],
         "xaxis": "x",
         "y": [
          0
         ],
         "yaxis": "y"
        },
        {
         "hovertemplate": "Province=Gia Lai<br>Active Ratio(%)=%{x}<br>Death Ratio(%)=%{y}<extra></extra>",
         "legendgroup": "Gia Lai",
         "marker": {
          "color": "#B6E880",
          "symbol": "circle"
         },
         "mode": "markers",
         "name": "Gia Lai",
         "orientation": "v",
         "showlegend": true,
         "type": "scatter",
         "x": [
          12.90322581
         ],
         "xaxis": "x",
         "y": [
          0
         ],
         "yaxis": "y"
        },
        {
         "hovertemplate": "Province=Dak Lak<br>Active Ratio(%)=%{x}<br>Death Ratio(%)=%{y}<extra></extra>",
         "legendgroup": "Dak Lak",
         "marker": {
          "color": "#FF97FF",
          "symbol": "circle"
         },
         "mode": "markers",
         "name": "Dak Lak",
         "orientation": "v",
         "showlegend": true,
         "type": "scatter",
         "x": [
          50
         ],
         "xaxis": "x",
         "y": [
          0
         ],
         "yaxis": "y"
        },
        {
         "hovertemplate": "Province=Lam Dong<br>Active Ratio(%)=%{x}<br>Death Ratio(%)=%{y}<extra></extra>",
         "legendgroup": "Lam Dong",
         "marker": {
          "color": "#FECB52",
          "symbol": "circle"
         },
         "mode": "markers",
         "name": "Lam Dong",
         "orientation": "v",
         "showlegend": true,
         "type": "scatter",
         "x": [
          100
         ],
         "xaxis": "x",
         "y": [
          0
         ],
         "yaxis": "y"
        },
        {
         "hovertemplate": "Province=Binh Phuoc<br>Active Ratio(%)=%{x}<br>Death Ratio(%)=%{y}<extra></extra>",
         "legendgroup": "Binh Phuoc",
         "marker": {
          "color": "#636efa",
          "symbol": "circle"
         },
         "mode": "markers",
         "name": "Binh Phuoc",
         "orientation": "v",
         "showlegend": true,
         "type": "scatter",
         "x": [
          100
         ],
         "xaxis": "x",
         "y": [
          0
         ],
         "yaxis": "y"
        },
        {
         "hovertemplate": "Province=Tay Ninh<br>Active Ratio(%)=%{x}<br>Death Ratio(%)=%{y}<extra></extra>",
         "legendgroup": "Tay Ninh",
         "marker": {
          "color": "#EF553B",
          "symbol": "circle"
         },
         "mode": "markers",
         "name": "Tay Ninh",
         "orientation": "v",
         "showlegend": true,
         "type": "scatter",
         "x": [
          72.07792208
         ],
         "xaxis": "x",
         "y": [
          0.649350649
         ],
         "yaxis": "y"
        },
        {
         "hovertemplate": "Province=Binh Duong<br>Active Ratio(%)=%{x}<br>Death Ratio(%)=%{y}<extra></extra>",
         "legendgroup": "Binh Duong",
         "marker": {
          "color": "#00cc96",
          "symbol": "circle"
         },
         "mode": "markers",
         "name": "Binh Duong",
         "orientation": "v",
         "showlegend": true,
         "type": "scatter",
         "x": [
          93.38235294
         ],
         "xaxis": "x",
         "y": [
          0
         ],
         "yaxis": "y"
        },
        {
         "hovertemplate": "Province=Dong Nai<br>Active Ratio(%)=%{x}<br>Death Ratio(%)=%{y}<extra></extra>",
         "legendgroup": "Dong Nai",
         "marker": {
          "color": "#ab63fa",
          "symbol": "circle"
         },
         "mode": "markers",
         "name": "Dong Nai",
         "orientation": "v",
         "showlegend": true,
         "type": "scatter",
         "x": [
          67.70833333
         ],
         "xaxis": "x",
         "y": [
          0
         ],
         "yaxis": "y"
        },
        {
         "hovertemplate": "Province=Ba Ria - Vung Tau<br>Active Ratio(%)=%{x}<br>Death Ratio(%)=%{y}<extra></extra>",
         "legendgroup": "Ba Ria - Vung Tau",
         "marker": {
          "color": "#FFA15A",
          "symbol": "circle"
         },
         "mode": "markers",
         "name": "Ba Ria - Vung Tau",
         "orientation": "v",
         "showlegend": true,
         "type": "scatter",
         "x": [
          19.07894737
         ],
         "xaxis": "x",
         "y": [
          0
         ],
         "yaxis": "y"
        },
        {
         "hovertemplate": "Province=Ho Chi Minh<br>Active Ratio(%)=%{x}<br>Death Ratio(%)=%{y}<extra></extra>",
         "legendgroup": "Ho Chi Minh",
         "marker": {
          "color": "#19d3f3",
          "symbol": "circle"
         },
         "mode": "markers",
         "name": "Ho Chi Minh",
         "orientation": "v",
         "showlegend": true,
         "type": "scatter",
         "x": [
          90.31701193
         ],
         "xaxis": "x",
         "y": [
          0.219711237
         ],
         "yaxis": "y"
        },
        {
         "hovertemplate": "Province=Long An<br>Active Ratio(%)=%{x}<br>Death Ratio(%)=%{y}<extra></extra>",
         "legendgroup": "Long An",
         "marker": {
          "color": "#FF6692",
          "symbol": "circle"
         },
         "mode": "markers",
         "name": "Long An",
         "orientation": "v",
         "showlegend": true,
         "type": "scatter",
         "x": [
          93.77990431
         ],
         "xaxis": "x",
         "y": [
          0.956937799
         ],
         "yaxis": "y"
        },
        {
         "hovertemplate": "Province=Tien Giang<br>Active Ratio(%)=%{x}<br>Death Ratio(%)=%{y}<extra></extra>",
         "legendgroup": "Tien Giang",
         "marker": {
          "color": "#B6E880",
          "symbol": "circle"
         },
         "mode": "markers",
         "name": "Tien Giang",
         "orientation": "v",
         "showlegend": true,
         "type": "scatter",
         "x": [
          96.55172414
         ],
         "xaxis": "x",
         "y": [
          0.574712644
         ],
         "yaxis": "y"
        },
        {
         "hovertemplate": "Province=Ben Tre<br>Active Ratio(%)=%{x}<br>Death Ratio(%)=%{y}<extra></extra>",
         "legendgroup": "Ben Tre",
         "marker": {
          "color": "#FF97FF",
          "symbol": "circle"
         },
         "mode": "markers",
         "name": "Ben Tre",
         "orientation": "v",
         "showlegend": true,
         "type": "scatter",
         "x": [
          10
         ],
         "xaxis": "x",
         "y": [
          0
         ],
         "yaxis": "y"
        },
        {
         "hovertemplate": "Province=Tra Vinh<br>Active Ratio(%)=%{x}<br>Death Ratio(%)=%{y}<extra></extra>",
         "legendgroup": "Tra Vinh",
         "marker": {
          "color": "#FECB52",
          "symbol": "circle"
         },
         "mode": "markers",
         "name": "Tra Vinh",
         "orientation": "v",
         "showlegend": true,
         "type": "scatter",
         "x": [
          57.89473684
         ],
         "xaxis": "x",
         "y": [
          0
         ],
         "yaxis": "y"
        },
        {
         "hovertemplate": "Province=Vinh Long<br>Active Ratio(%)=%{x}<br>Death Ratio(%)=%{y}<extra></extra>",
         "legendgroup": "Vinh Long",
         "marker": {
          "color": "#636efa",
          "symbol": "circle"
         },
         "mode": "markers",
         "name": "Vinh Long",
         "orientation": "v",
         "showlegend": true,
         "type": "scatter",
         "x": [
          55.17241379
         ],
         "xaxis": "x",
         "y": [
          0
         ],
         "yaxis": "y"
        },
        {
         "hovertemplate": "Province=Dong Thap<br>Active Ratio(%)=%{x}<br>Death Ratio(%)=%{y}<extra></extra>",
         "legendgroup": "Dong Thap",
         "marker": {
          "color": "#EF553B",
          "symbol": "circle"
         },
         "mode": "markers",
         "name": "Dong Thap",
         "orientation": "v",
         "showlegend": true,
         "type": "scatter",
         "x": [
          69.56521739
         ],
         "xaxis": "x",
         "y": [
          1.086956522
         ],
         "yaxis": "y"
        },
        {
         "hovertemplate": "Province=An Giang<br>Active Ratio(%)=%{x}<br>Death Ratio(%)=%{y}<extra></extra>",
         "legendgroup": "An Giang",
         "marker": {
          "color": "#00cc96",
          "symbol": "circle"
         },
         "mode": "markers",
         "name": "An Giang",
         "orientation": "v",
         "showlegend": true,
         "type": "scatter",
         "x": [
          83.63636364
         ],
         "xaxis": "x",
         "y": [
          0
         ],
         "yaxis": "y"
        },
        {
         "hovertemplate": "Province=Kien Giang<br>Active Ratio(%)=%{x}<br>Death Ratio(%)=%{y}<extra></extra>",
         "legendgroup": "Kien Giang",
         "marker": {
          "color": "#ab63fa",
          "symbol": "circle"
         },
         "mode": "markers",
         "name": "Kien Giang",
         "orientation": "v",
         "showlegend": true,
         "type": "scatter",
         "x": [
          74.46808511
         ],
         "xaxis": "x",
         "y": [
          0
         ],
         "yaxis": "y"
        },
        {
         "hovertemplate": "Province=Can Tho<br>Active Ratio(%)=%{x}<br>Death Ratio(%)=%{y}<extra></extra>",
         "legendgroup": "Can Tho",
         "marker": {
          "color": "#FFA15A",
          "symbol": "circle"
         },
         "mode": "markers",
         "name": "Can Tho",
         "orientation": "v",
         "showlegend": true,
         "type": "scatter",
         "x": [
          2.857142857
         ],
         "xaxis": "x",
         "y": [
          0
         ],
         "yaxis": "y"
        },
        {
         "hovertemplate": "Province=Soc Trang<br>Active Ratio(%)=%{x}<br>Death Ratio(%)=%{y}<extra></extra>",
         "legendgroup": "Soc Trang",
         "marker": {
          "color": "#19d3f3",
          "symbol": "circle"
         },
         "mode": "markers",
         "name": "Soc Trang",
         "orientation": "v",
         "showlegend": true,
         "type": "scatter",
         "x": [
          100
         ],
         "xaxis": "x",
         "y": [
          0
         ],
         "yaxis": "y"
        },
        {
         "hovertemplate": "Province=Bac Lieu<br>Active Ratio(%)=%{x}<br>Death Ratio(%)=%{y}<extra></extra>",
         "legendgroup": "Bac Lieu",
         "marker": {
          "color": "#FF6692",
          "symbol": "circle"
         },
         "mode": "markers",
         "name": "Bac Lieu",
         "orientation": "v",
         "showlegend": true,
         "type": "scatter",
         "x": [
          5.357142857
         ],
         "xaxis": "x",
         "y": [
          0
         ],
         "yaxis": "y"
        },
        {
         "hovertemplate": "Province=Ca Mau<br>Active Ratio(%)=%{x}<br>Death Ratio(%)=%{y}<extra></extra>",
         "legendgroup": "Ca Mau",
         "marker": {
          "color": "#B6E880",
          "symbol": "circle"
         },
         "mode": "markers",
         "name": "Ca Mau",
         "orientation": "v",
         "showlegend": true,
         "type": "scatter",
         "x": [
          11.11111111
         ],
         "xaxis": "x",
         "y": [
          0
         ],
         "yaxis": "y"
        }
       ],
       "layout": {
        "legend": {
         "title": {
          "text": "Province"
         },
         "tracegroupgap": 0
        },
        "margin": {
         "t": 60
        },
        "template": {
         "data": {
          "bar": [
           {
            "error_x": {
             "color": "#2a3f5f"
            },
            "error_y": {
             "color": "#2a3f5f"
            },
            "marker": {
             "line": {
              "color": "#E5ECF6",
              "width": 0.5
             },
             "pattern": {
              "fillmode": "overlay",
              "size": 10,
              "solidity": 0.2
             }
            },
            "type": "bar"
           }
          ],
          "barpolar": [
           {
            "marker": {
             "line": {
              "color": "#E5ECF6",
              "width": 0.5
             },
             "pattern": {
              "fillmode": "overlay",
              "size": 10,
              "solidity": 0.2
             }
            },
            "type": "barpolar"
           }
          ],
          "carpet": [
           {
            "aaxis": {
             "endlinecolor": "#2a3f5f",
             "gridcolor": "white",
             "linecolor": "white",
             "minorgridcolor": "white",
             "startlinecolor": "#2a3f5f"
            },
            "baxis": {
             "endlinecolor": "#2a3f5f",
             "gridcolor": "white",
             "linecolor": "white",
             "minorgridcolor": "white",
             "startlinecolor": "#2a3f5f"
            },
            "type": "carpet"
           }
          ],
          "choropleth": [
           {
            "colorbar": {
             "outlinewidth": 0,
             "ticks": ""
            },
            "type": "choropleth"
           }
          ],
          "contour": [
           {
            "colorbar": {
             "outlinewidth": 0,
             "ticks": ""
            },
            "colorscale": [
             [
              0,
              "#0d0887"
             ],
             [
              0.1111111111111111,
              "#46039f"
             ],
             [
              0.2222222222222222,
              "#7201a8"
             ],
             [
              0.3333333333333333,
              "#9c179e"
             ],
             [
              0.4444444444444444,
              "#bd3786"
             ],
             [
              0.5555555555555556,
              "#d8576b"
             ],
             [
              0.6666666666666666,
              "#ed7953"
             ],
             [
              0.7777777777777778,
              "#fb9f3a"
             ],
             [
              0.8888888888888888,
              "#fdca26"
             ],
             [
              1,
              "#f0f921"
             ]
            ],
            "type": "contour"
           }
          ],
          "contourcarpet": [
           {
            "colorbar": {
             "outlinewidth": 0,
             "ticks": ""
            },
            "type": "contourcarpet"
           }
          ],
          "heatmap": [
           {
            "colorbar": {
             "outlinewidth": 0,
             "ticks": ""
            },
            "colorscale": [
             [
              0,
              "#0d0887"
             ],
             [
              0.1111111111111111,
              "#46039f"
             ],
             [
              0.2222222222222222,
              "#7201a8"
             ],
             [
              0.3333333333333333,
              "#9c179e"
             ],
             [
              0.4444444444444444,
              "#bd3786"
             ],
             [
              0.5555555555555556,
              "#d8576b"
             ],
             [
              0.6666666666666666,
              "#ed7953"
             ],
             [
              0.7777777777777778,
              "#fb9f3a"
             ],
             [
              0.8888888888888888,
              "#fdca26"
             ],
             [
              1,
              "#f0f921"
             ]
            ],
            "type": "heatmap"
           }
          ],
          "heatmapgl": [
           {
            "colorbar": {
             "outlinewidth": 0,
             "ticks": ""
            },
            "colorscale": [
             [
              0,
              "#0d0887"
             ],
             [
              0.1111111111111111,
              "#46039f"
             ],
             [
              0.2222222222222222,
              "#7201a8"
             ],
             [
              0.3333333333333333,
              "#9c179e"
             ],
             [
              0.4444444444444444,
              "#bd3786"
             ],
             [
              0.5555555555555556,
              "#d8576b"
             ],
             [
              0.6666666666666666,
              "#ed7953"
             ],
             [
              0.7777777777777778,
              "#fb9f3a"
             ],
             [
              0.8888888888888888,
              "#fdca26"
             ],
             [
              1,
              "#f0f921"
             ]
            ],
            "type": "heatmapgl"
           }
          ],
          "histogram": [
           {
            "marker": {
             "pattern": {
              "fillmode": "overlay",
              "size": 10,
              "solidity": 0.2
             }
            },
            "type": "histogram"
           }
          ],
          "histogram2d": [
           {
            "colorbar": {
             "outlinewidth": 0,
             "ticks": ""
            },
            "colorscale": [
             [
              0,
              "#0d0887"
             ],
             [
              0.1111111111111111,
              "#46039f"
             ],
             [
              0.2222222222222222,
              "#7201a8"
             ],
             [
              0.3333333333333333,
              "#9c179e"
             ],
             [
              0.4444444444444444,
              "#bd3786"
             ],
             [
              0.5555555555555556,
              "#d8576b"
             ],
             [
              0.6666666666666666,
              "#ed7953"
             ],
             [
              0.7777777777777778,
              "#fb9f3a"
             ],
             [
              0.8888888888888888,
              "#fdca26"
             ],
             [
              1,
              "#f0f921"
             ]
            ],
            "type": "histogram2d"
           }
          ],
          "histogram2dcontour": [
           {
            "colorbar": {
             "outlinewidth": 0,
             "ticks": ""
            },
            "colorscale": [
             [
              0,
              "#0d0887"
             ],
             [
              0.1111111111111111,
              "#46039f"
             ],
             [
              0.2222222222222222,
              "#7201a8"
             ],
             [
              0.3333333333333333,
              "#9c179e"
             ],
             [
              0.4444444444444444,
              "#bd3786"
             ],
             [
              0.5555555555555556,
              "#d8576b"
             ],
             [
              0.6666666666666666,
              "#ed7953"
             ],
             [
              0.7777777777777778,
              "#fb9f3a"
             ],
             [
              0.8888888888888888,
              "#fdca26"
             ],
             [
              1,
              "#f0f921"
             ]
            ],
            "type": "histogram2dcontour"
           }
          ],
          "mesh3d": [
           {
            "colorbar": {
             "outlinewidth": 0,
             "ticks": ""
            },
            "type": "mesh3d"
           }
          ],
          "parcoords": [
           {
            "line": {
             "colorbar": {
              "outlinewidth": 0,
              "ticks": ""
             }
            },
            "type": "parcoords"
           }
          ],
          "pie": [
           {
            "automargin": true,
            "type": "pie"
           }
          ],
          "scatter": [
           {
            "marker": {
             "colorbar": {
              "outlinewidth": 0,
              "ticks": ""
             }
            },
            "type": "scatter"
           }
          ],
          "scatter3d": [
           {
            "line": {
             "colorbar": {
              "outlinewidth": 0,
              "ticks": ""
             }
            },
            "marker": {
             "colorbar": {
              "outlinewidth": 0,
              "ticks": ""
             }
            },
            "type": "scatter3d"
           }
          ],
          "scattercarpet": [
           {
            "marker": {
             "colorbar": {
              "outlinewidth": 0,
              "ticks": ""
             }
            },
            "type": "scattercarpet"
           }
          ],
          "scattergeo": [
           {
            "marker": {
             "colorbar": {
              "outlinewidth": 0,
              "ticks": ""
             }
            },
            "type": "scattergeo"
           }
          ],
          "scattergl": [
           {
            "marker": {
             "colorbar": {
              "outlinewidth": 0,
              "ticks": ""
             }
            },
            "type": "scattergl"
           }
          ],
          "scattermapbox": [
           {
            "marker": {
             "colorbar": {
              "outlinewidth": 0,
              "ticks": ""
             }
            },
            "type": "scattermapbox"
           }
          ],
          "scatterpolar": [
           {
            "marker": {
             "colorbar": {
              "outlinewidth": 0,
              "ticks": ""
             }
            },
            "type": "scatterpolar"
           }
          ],
          "scatterpolargl": [
           {
            "marker": {
             "colorbar": {
              "outlinewidth": 0,
              "ticks": ""
             }
            },
            "type": "scatterpolargl"
           }
          ],
          "scatterternary": [
           {
            "marker": {
             "colorbar": {
              "outlinewidth": 0,
              "ticks": ""
             }
            },
            "type": "scatterternary"
           }
          ],
          "surface": [
           {
            "colorbar": {
             "outlinewidth": 0,
             "ticks": ""
            },
            "colorscale": [
             [
              0,
              "#0d0887"
             ],
             [
              0.1111111111111111,
              "#46039f"
             ],
             [
              0.2222222222222222,
              "#7201a8"
             ],
             [
              0.3333333333333333,
              "#9c179e"
             ],
             [
              0.4444444444444444,
              "#bd3786"
             ],
             [
              0.5555555555555556,
              "#d8576b"
             ],
             [
              0.6666666666666666,
              "#ed7953"
             ],
             [
              0.7777777777777778,
              "#fb9f3a"
             ],
             [
              0.8888888888888888,
              "#fdca26"
             ],
             [
              1,
              "#f0f921"
             ]
            ],
            "type": "surface"
           }
          ],
          "table": [
           {
            "cells": {
             "fill": {
              "color": "#EBF0F8"
             },
             "line": {
              "color": "white"
             }
            },
            "header": {
             "fill": {
              "color": "#C8D4E3"
             },
             "line": {
              "color": "white"
             }
            },
            "type": "table"
           }
          ]
         },
         "layout": {
          "annotationdefaults": {
           "arrowcolor": "#2a3f5f",
           "arrowhead": 0,
           "arrowwidth": 1
          },
          "autotypenumbers": "strict",
          "coloraxis": {
           "colorbar": {
            "outlinewidth": 0,
            "ticks": ""
           }
          },
          "colorscale": {
           "diverging": [
            [
             0,
             "#8e0152"
            ],
            [
             0.1,
             "#c51b7d"
            ],
            [
             0.2,
             "#de77ae"
            ],
            [
             0.3,
             "#f1b6da"
            ],
            [
             0.4,
             "#fde0ef"
            ],
            [
             0.5,
             "#f7f7f7"
            ],
            [
             0.6,
             "#e6f5d0"
            ],
            [
             0.7,
             "#b8e186"
            ],
            [
             0.8,
             "#7fbc41"
            ],
            [
             0.9,
             "#4d9221"
            ],
            [
             1,
             "#276419"
            ]
           ],
           "sequential": [
            [
             0,
             "#0d0887"
            ],
            [
             0.1111111111111111,
             "#46039f"
            ],
            [
             0.2222222222222222,
             "#7201a8"
            ],
            [
             0.3333333333333333,
             "#9c179e"
            ],
            [
             0.4444444444444444,
             "#bd3786"
            ],
            [
             0.5555555555555556,
             "#d8576b"
            ],
            [
             0.6666666666666666,
             "#ed7953"
            ],
            [
             0.7777777777777778,
             "#fb9f3a"
            ],
            [
             0.8888888888888888,
             "#fdca26"
            ],
            [
             1,
             "#f0f921"
            ]
           ],
           "sequentialminus": [
            [
             0,
             "#0d0887"
            ],
            [
             0.1111111111111111,
             "#46039f"
            ],
            [
             0.2222222222222222,
             "#7201a8"
            ],
            [
             0.3333333333333333,
             "#9c179e"
            ],
            [
             0.4444444444444444,
             "#bd3786"
            ],
            [
             0.5555555555555556,
             "#d8576b"
            ],
            [
             0.6666666666666666,
             "#ed7953"
            ],
            [
             0.7777777777777778,
             "#fb9f3a"
            ],
            [
             0.8888888888888888,
             "#fdca26"
            ],
            [
             1,
             "#f0f921"
            ]
           ]
          },
          "colorway": [
           "#636efa",
           "#EF553B",
           "#00cc96",
           "#ab63fa",
           "#FFA15A",
           "#19d3f3",
           "#FF6692",
           "#B6E880",
           "#FF97FF",
           "#FECB52"
          ],
          "font": {
           "color": "#2a3f5f"
          },
          "geo": {
           "bgcolor": "white",
           "lakecolor": "white",
           "landcolor": "#E5ECF6",
           "showlakes": true,
           "showland": true,
           "subunitcolor": "white"
          },
          "hoverlabel": {
           "align": "left"
          },
          "hovermode": "closest",
          "mapbox": {
           "style": "light"
          },
          "paper_bgcolor": "white",
          "plot_bgcolor": "#E5ECF6",
          "polar": {
           "angularaxis": {
            "gridcolor": "white",
            "linecolor": "white",
            "ticks": ""
           },
           "bgcolor": "#E5ECF6",
           "radialaxis": {
            "gridcolor": "white",
            "linecolor": "white",
            "ticks": ""
           }
          },
          "scene": {
           "xaxis": {
            "backgroundcolor": "#E5ECF6",
            "gridcolor": "white",
            "gridwidth": 2,
            "linecolor": "white",
            "showbackground": true,
            "ticks": "",
            "zerolinecolor": "white"
           },
           "yaxis": {
            "backgroundcolor": "#E5ECF6",
            "gridcolor": "white",
            "gridwidth": 2,
            "linecolor": "white",
            "showbackground": true,
            "ticks": "",
            "zerolinecolor": "white"
           },
           "zaxis": {
            "backgroundcolor": "#E5ECF6",
            "gridcolor": "white",
            "gridwidth": 2,
            "linecolor": "white",
            "showbackground": true,
            "ticks": "",
            "zerolinecolor": "white"
           }
          },
          "shapedefaults": {
           "line": {
            "color": "#2a3f5f"
           }
          },
          "ternary": {
           "aaxis": {
            "gridcolor": "white",
            "linecolor": "white",
            "ticks": ""
           },
           "baxis": {
            "gridcolor": "white",
            "linecolor": "white",
            "ticks": ""
           },
           "bgcolor": "#E5ECF6",
           "caxis": {
            "gridcolor": "white",
            "linecolor": "white",
            "ticks": ""
           }
          },
          "title": {
           "x": 0.05
          },
          "xaxis": {
           "automargin": true,
           "gridcolor": "white",
           "linecolor": "white",
           "ticks": "",
           "title": {
            "standoff": 15
           },
           "zerolinecolor": "white",
           "zerolinewidth": 2
          },
          "yaxis": {
           "automargin": true,
           "gridcolor": "white",
           "linecolor": "white",
           "ticks": "",
           "title": {
            "standoff": 15
           },
           "zerolinecolor": "white",
           "zerolinewidth": 2
          }
         }
        },
        "xaxis": {
         "anchor": "y",
         "domain": [
          0,
          1
         ],
         "title": {
          "text": "Active Ratio(%)"
         }
        },
        "yaxis": {
         "anchor": "x",
         "domain": [
          0,
          1
         ],
         "title": {
          "text": "Death Ratio(%)"
         }
        }
       }
      },
      "text/html": [
       "<div>                            <div id=\"ef058244-1193-4f05-8540-7ffaf32907a1\" class=\"plotly-graph-div\" style=\"height:525px; width:100%;\"></div>            <script type=\"text/javascript\">                require([\"plotly\"], function(Plotly) {                    window.PLOTLYENV=window.PLOTLYENV || {};                                    if (document.getElementById(\"ef058244-1193-4f05-8540-7ffaf32907a1\")) {                    Plotly.newPlot(                        \"ef058244-1193-4f05-8540-7ffaf32907a1\",                        [{\"hovertemplate\":\"Province=Ha Noi<br>Active Ratio(%)=%{x}<br>Death Ratio(%)=%{y}<extra></extra>\",\"legendgroup\":\"Ha Noi\",\"marker\":{\"color\":\"#636efa\",\"symbol\":\"circle\"},\"mode\":\"markers\",\"name\":\"Ha Noi\",\"orientation\":\"v\",\"showlegend\":true,\"type\":\"scatter\",\"x\":[28.62903226],\"xaxis\":\"x\",\"y\":[2.419354839],\"yaxis\":\"y\"},{\"hovertemplate\":\"Province=Ha Giang<br>Active Ratio(%)=%{x}<br>Death Ratio(%)=%{y}<extra></extra>\",\"legendgroup\":\"Ha Giang\",\"marker\":{\"color\":\"#EF553B\",\"symbol\":\"circle\"},\"mode\":\"markers\",\"name\":\"Ha Giang\",\"orientation\":\"v\",\"showlegend\":true,\"type\":\"scatter\",\"x\":[25.0],\"xaxis\":\"x\",\"y\":[0.0],\"yaxis\":\"y\"},{\"hovertemplate\":\"Province=Bac Kan<br>Active Ratio(%)=%{x}<br>Death Ratio(%)=%{y}<extra></extra>\",\"legendgroup\":\"Bac Kan\",\"marker\":{\"color\":\"#00cc96\",\"symbol\":\"circle\"},\"mode\":\"markers\",\"name\":\"Bac Kan\",\"orientation\":\"v\",\"showlegend\":true,\"type\":\"scatter\",\"x\":[100.0],\"xaxis\":\"x\",\"y\":[0.0],\"yaxis\":\"y\"},{\"hovertemplate\":\"Province=Tuyen Quang<br>Active Ratio(%)=%{x}<br>Death Ratio(%)=%{y}<extra></extra>\",\"legendgroup\":\"Tuyen Quang\",\"marker\":{\"color\":\"#ab63fa\",\"symbol\":\"circle\"},\"mode\":\"markers\",\"name\":\"Tuyen Quang\",\"orientation\":\"v\",\"showlegend\":true,\"type\":\"scatter\",\"x\":[0.0],\"xaxis\":\"x\",\"y\":[0.0],\"yaxis\":\"y\"},{\"hovertemplate\":\"Province=Lao Cai<br>Active Ratio(%)=%{x}<br>Death Ratio(%)=%{y}<extra></extra>\",\"legendgroup\":\"Lao Cai\",\"marker\":{\"color\":\"#FFA15A\",\"symbol\":\"circle\"},\"mode\":\"markers\",\"name\":\"Lao Cai\",\"orientation\":\"v\",\"showlegend\":true,\"type\":\"scatter\",\"x\":[66.66666667],\"xaxis\":\"x\",\"y\":[0.0],\"yaxis\":\"y\"},{\"hovertemplate\":\"Province=Dien Bien<br>Active Ratio(%)=%{x}<br>Death Ratio(%)=%{y}<extra></extra>\",\"legendgroup\":\"Dien Bien\",\"marker\":{\"color\":\"#19d3f3\",\"symbol\":\"circle\"},\"mode\":\"markers\",\"name\":\"Dien Bien\",\"orientation\":\"v\",\"showlegend\":true,\"type\":\"scatter\",\"x\":[22.03389831],\"xaxis\":\"x\",\"y\":[0.0],\"yaxis\":\"y\"},{\"hovertemplate\":\"Province=Lai Chau<br>Active Ratio(%)=%{x}<br>Death Ratio(%)=%{y}<extra></extra>\",\"legendgroup\":\"Lai Chau\",\"marker\":{\"color\":\"#FF6692\",\"symbol\":\"circle\"},\"mode\":\"markers\",\"name\":\"Lai Chau\",\"orientation\":\"v\",\"showlegend\":true,\"type\":\"scatter\",\"x\":[0.0],\"xaxis\":\"x\",\"y\":[0.0],\"yaxis\":\"y\"},{\"hovertemplate\":\"Province=Son La<br>Active Ratio(%)=%{x}<br>Death Ratio(%)=%{y}<extra></extra>\",\"legendgroup\":\"Son La\",\"marker\":{\"color\":\"#B6E880\",\"symbol\":\"circle\"},\"mode\":\"markers\",\"name\":\"Son La\",\"orientation\":\"v\",\"showlegend\":true,\"type\":\"scatter\",\"x\":[100.0],\"xaxis\":\"x\",\"y\":[0.0],\"yaxis\":\"y\"},{\"hovertemplate\":\"Province=Yen Bai<br>Active Ratio(%)=%{x}<br>Death Ratio(%)=%{y}<extra></extra>\",\"legendgroup\":\"Yen Bai\",\"marker\":{\"color\":\"#FF97FF\",\"symbol\":\"circle\"},\"mode\":\"markers\",\"name\":\"Yen Bai\",\"orientation\":\"v\",\"showlegend\":true,\"type\":\"scatter\",\"x\":[0.0],\"xaxis\":\"x\",\"y\":[0.0],\"yaxis\":\"y\"},{\"hovertemplate\":\"Province=Hoa Binh<br>Active Ratio(%)=%{x}<br>Death Ratio(%)=%{y}<extra></extra>\",\"legendgroup\":\"Hoa Binh\",\"marker\":{\"color\":\"#FECB52\",\"symbol\":\"circle\"},\"mode\":\"markers\",\"name\":\"Hoa Binh\",\"orientation\":\"v\",\"showlegend\":true,\"type\":\"scatter\",\"x\":[15.38461538],\"xaxis\":\"x\",\"y\":[0.0],\"yaxis\":\"y\"},{\"hovertemplate\":\"Province=Thai Nguyen<br>Active Ratio(%)=%{x}<br>Death Ratio(%)=%{y}<extra></extra>\",\"legendgroup\":\"Thai Nguyen\",\"marker\":{\"color\":\"#636efa\",\"symbol\":\"circle\"},\"mode\":\"markers\",\"name\":\"Thai Nguyen\",\"orientation\":\"v\",\"showlegend\":true,\"type\":\"scatter\",\"x\":[11.11111111],\"xaxis\":\"x\",\"y\":[0.0],\"yaxis\":\"y\"},{\"hovertemplate\":\"Province=Lang Son<br>Active Ratio(%)=%{x}<br>Death Ratio(%)=%{y}<extra></extra>\",\"legendgroup\":\"Lang Son\",\"marker\":{\"color\":\"#EF553B\",\"symbol\":\"circle\"},\"mode\":\"markers\",\"name\":\"Lang Son\",\"orientation\":\"v\",\"showlegend\":true,\"type\":\"scatter\",\"x\":[82.72727273],\"xaxis\":\"x\",\"y\":[0.909090909],\"yaxis\":\"y\"},{\"hovertemplate\":\"Province=Quang Ninh<br>Active Ratio(%)=%{x}<br>Death Ratio(%)=%{y}<extra></extra>\",\"legendgroup\":\"Quang Ninh\",\"marker\":{\"color\":\"#00cc96\",\"symbol\":\"circle\"},\"mode\":\"markers\",\"name\":\"Quang Ninh\",\"orientation\":\"v\",\"showlegend\":true,\"type\":\"scatter\",\"x\":[12.12121212],\"xaxis\":\"x\",\"y\":[0.0],\"yaxis\":\"y\"},{\"hovertemplate\":\"Province=Bac Giang<br>Active Ratio(%)=%{x}<br>Death Ratio(%)=%{y}<extra></extra>\",\"legendgroup\":\"Bac Giang\",\"marker\":{\"color\":\"#ab63fa\",\"symbol\":\"circle\"},\"mode\":\"markers\",\"name\":\"Bac Giang\",\"orientation\":\"v\",\"showlegend\":true,\"type\":\"scatter\",\"x\":[45.2149792],\"xaxis\":\"x\",\"y\":[0.121359223],\"yaxis\":\"y\"},{\"hovertemplate\":\"Province=Phu Tho<br>Active Ratio(%)=%{x}<br>Death Ratio(%)=%{y}<extra></extra>\",\"legendgroup\":\"Phu Tho\",\"marker\":{\"color\":\"#FFA15A\",\"symbol\":\"circle\"},\"mode\":\"markers\",\"name\":\"Phu Tho\",\"orientation\":\"v\",\"showlegend\":true,\"type\":\"scatter\",\"x\":[37.5],\"xaxis\":\"x\",\"y\":[0.0],\"yaxis\":\"y\"},{\"hovertemplate\":\"Province=Vinh Phuc<br>Active Ratio(%)=%{x}<br>Death Ratio(%)=%{y}<extra></extra>\",\"legendgroup\":\"Vinh Phuc\",\"marker\":{\"color\":\"#19d3f3\",\"symbol\":\"circle\"},\"mode\":\"markers\",\"name\":\"Vinh Phuc\",\"orientation\":\"v\",\"showlegend\":true,\"type\":\"scatter\",\"x\":[55.75221239],\"xaxis\":\"x\",\"y\":[0.0],\"yaxis\":\"y\"},{\"hovertemplate\":\"Province=Bac Ninh<br>Active Ratio(%)=%{x}<br>Death Ratio(%)=%{y}<extra></extra>\",\"legendgroup\":\"Bac Ninh\",\"marker\":{\"color\":\"#FF6692\",\"symbol\":\"circle\"},\"mode\":\"markers\",\"name\":\"Bac Ninh\",\"orientation\":\"v\",\"showlegend\":true,\"type\":\"scatter\",\"x\":[38.39559094],\"xaxis\":\"x\",\"y\":[0.551132884],\"yaxis\":\"y\"},{\"hovertemplate\":\"Province=Hai Duong<br>Active Ratio(%)=%{x}<br>Death Ratio(%)=%{y}<extra></extra>\",\"legendgroup\":\"Hai Duong\",\"marker\":{\"color\":\"#B6E880\",\"symbol\":\"circle\"},\"mode\":\"markers\",\"name\":\"Hai Duong\",\"orientation\":\"v\",\"showlegend\":true,\"type\":\"scatter\",\"x\":[1.47601476],\"xaxis\":\"x\",\"y\":[0.0],\"yaxis\":\"y\"},{\"hovertemplate\":\"Province=Hai Phong<br>Active Ratio(%)=%{x}<br>Death Ratio(%)=%{y}<extra></extra>\",\"legendgroup\":\"Hai Phong\",\"marker\":{\"color\":\"#FF97FF\",\"symbol\":\"circle\"},\"mode\":\"markers\",\"name\":\"Hai Phong\",\"orientation\":\"v\",\"showlegend\":true,\"type\":\"scatter\",\"x\":[50.0],\"xaxis\":\"x\",\"y\":[0.0],\"yaxis\":\"y\"},{\"hovertemplate\":\"Province=Hung Yen<br>Active Ratio(%)=%{x}<br>Death Ratio(%)=%{y}<extra></extra>\",\"legendgroup\":\"Hung Yen\",\"marker\":{\"color\":\"#FECB52\",\"symbol\":\"circle\"},\"mode\":\"markers\",\"name\":\"Hung Yen\",\"orientation\":\"v\",\"showlegend\":true,\"type\":\"scatter\",\"x\":[59.63855422],\"xaxis\":\"x\",\"y\":[0.0],\"yaxis\":\"y\"},{\"hovertemplate\":\"Province=Thai Binh<br>Active Ratio(%)=%{x}<br>Death Ratio(%)=%{y}<extra></extra>\",\"legendgroup\":\"Thai Binh\",\"marker\":{\"color\":\"#636efa\",\"symbol\":\"circle\"},\"mode\":\"markers\",\"name\":\"Thai Binh\",\"orientation\":\"v\",\"showlegend\":true,\"type\":\"scatter\",\"x\":[27.63157895],\"xaxis\":\"x\",\"y\":[0.0],\"yaxis\":\"y\"},{\"hovertemplate\":\"Province=Ha Nam<br>Active Ratio(%)=%{x}<br>Death Ratio(%)=%{y}<extra></extra>\",\"legendgroup\":\"Ha Nam\",\"marker\":{\"color\":\"#EF553B\",\"symbol\":\"circle\"},\"mode\":\"markers\",\"name\":\"Ha Nam\",\"orientation\":\"v\",\"showlegend\":true,\"type\":\"scatter\",\"x\":[21.42857143],\"xaxis\":\"x\",\"y\":[0.0],\"yaxis\":\"y\"},{\"hovertemplate\":\"Province=Nam Dinh<br>Active Ratio(%)=%{x}<br>Death Ratio(%)=%{y}<extra></extra>\",\"legendgroup\":\"Nam Dinh\",\"marker\":{\"color\":\"#00cc96\",\"symbol\":\"circle\"},\"mode\":\"markers\",\"name\":\"Nam Dinh\",\"orientation\":\"v\",\"showlegend\":true,\"type\":\"scatter\",\"x\":[30.76923077],\"xaxis\":\"x\",\"y\":[0.0],\"yaxis\":\"y\"},{\"hovertemplate\":\"Province=Ninh Binh<br>Active Ratio(%)=%{x}<br>Death Ratio(%)=%{y}<extra></extra>\",\"legendgroup\":\"Ninh Binh\",\"marker\":{\"color\":\"#ab63fa\",\"symbol\":\"circle\"},\"mode\":\"markers\",\"name\":\"Ninh Binh\",\"orientation\":\"v\",\"showlegend\":true,\"type\":\"scatter\",\"x\":[27.45098039],\"xaxis\":\"x\",\"y\":[0.0],\"yaxis\":\"y\"},{\"hovertemplate\":\"Province=Thanh Hoa<br>Active Ratio(%)=%{x}<br>Death Ratio(%)=%{y}<extra></extra>\",\"legendgroup\":\"Thanh Hoa\",\"marker\":{\"color\":\"#FFA15A\",\"symbol\":\"circle\"},\"mode\":\"markers\",\"name\":\"Thanh Hoa\",\"orientation\":\"v\",\"showlegend\":true,\"type\":\"scatter\",\"x\":[16.12903226],\"xaxis\":\"x\",\"y\":[0.0],\"yaxis\":\"y\"},{\"hovertemplate\":\"Province=Nghe An<br>Active Ratio(%)=%{x}<br>Death Ratio(%)=%{y}<extra></extra>\",\"legendgroup\":\"Nghe An\",\"marker\":{\"color\":\"#19d3f3\",\"symbol\":\"circle\"},\"mode\":\"markers\",\"name\":\"Nghe An\",\"orientation\":\"v\",\"showlegend\":true,\"type\":\"scatter\",\"x\":[96.06299213],\"xaxis\":\"x\",\"y\":[0.0],\"yaxis\":\"y\"},{\"hovertemplate\":\"Province=Ha Tinh<br>Active Ratio(%)=%{x}<br>Death Ratio(%)=%{y}<extra></extra>\",\"legendgroup\":\"Ha Tinh\",\"marker\":{\"color\":\"#FF6692\",\"symbol\":\"circle\"},\"mode\":\"markers\",\"name\":\"Ha Tinh\",\"orientation\":\"v\",\"showlegend\":true,\"type\":\"scatter\",\"x\":[93.75],\"xaxis\":\"x\",\"y\":[0.0],\"yaxis\":\"y\"},{\"hovertemplate\":\"Province=Quang Tri<br>Active Ratio(%)=%{x}<br>Death Ratio(%)=%{y}<extra></extra>\",\"legendgroup\":\"Quang Tri\",\"marker\":{\"color\":\"#B6E880\",\"symbol\":\"circle\"},\"mode\":\"markers\",\"name\":\"Quang Tri\",\"orientation\":\"v\",\"showlegend\":true,\"type\":\"scatter\",\"x\":[27.77777778],\"xaxis\":\"x\",\"y\":[5.555555556],\"yaxis\":\"y\"},{\"hovertemplate\":\"Province=Thua Thien Hue<br>Active Ratio(%)=%{x}<br>Death Ratio(%)=%{y}<extra></extra>\",\"legendgroup\":\"Thua Thien Hue\",\"marker\":{\"color\":\"#FF97FF\",\"symbol\":\"circle\"},\"mode\":\"markers\",\"name\":\"Thua Thien Hue\",\"orientation\":\"v\",\"showlegend\":true,\"type\":\"scatter\",\"x\":[14.28571429],\"xaxis\":\"x\",\"y\":[0.0],\"yaxis\":\"y\"},{\"hovertemplate\":\"Province=Da Nang<br>Active Ratio(%)=%{x}<br>Death Ratio(%)=%{y}<extra></extra>\",\"legendgroup\":\"Da Nang\",\"marker\":{\"color\":\"#FECB52\",\"symbol\":\"circle\"},\"mode\":\"markers\",\"name\":\"Da Nang\",\"orientation\":\"v\",\"showlegend\":true,\"type\":\"scatter\",\"x\":[13.35113485],\"xaxis\":\"x\",\"y\":[4.272363151],\"yaxis\":\"y\"},{\"hovertemplate\":\"Province=Quang Nam<br>Active Ratio(%)=%{x}<br>Death Ratio(%)=%{y}<extra></extra>\",\"legendgroup\":\"Quang Nam\",\"marker\":{\"color\":\"#636efa\",\"symbol\":\"circle\"},\"mode\":\"markers\",\"name\":\"Quang Nam\",\"orientation\":\"v\",\"showlegend\":true,\"type\":\"scatter\",\"x\":[8.088235294],\"xaxis\":\"x\",\"y\":[2.205882353],\"yaxis\":\"y\"},{\"hovertemplate\":\"Province=Quang Ngai<br>Active Ratio(%)=%{x}<br>Death Ratio(%)=%{y}<extra></extra>\",\"legendgroup\":\"Quang Ngai\",\"marker\":{\"color\":\"#EF553B\",\"symbol\":\"circle\"},\"mode\":\"markers\",\"name\":\"Quang Ngai\",\"orientation\":\"v\",\"showlegend\":true,\"type\":\"scatter\",\"x\":[94.35483871],\"xaxis\":\"x\",\"y\":[0.0],\"yaxis\":\"y\"},{\"hovertemplate\":\"Province=Binh Dinh<br>Active Ratio(%)=%{x}<br>Death Ratio(%)=%{y}<extra></extra>\",\"legendgroup\":\"Binh Dinh\",\"marker\":{\"color\":\"#00cc96\",\"symbol\":\"circle\"},\"mode\":\"markers\",\"name\":\"Binh Dinh\",\"orientation\":\"v\",\"showlegend\":true,\"type\":\"scatter\",\"x\":[93.33333333],\"xaxis\":\"x\",\"y\":[0.0],\"yaxis\":\"y\"},{\"hovertemplate\":\"Province=Phu Yen<br>Active Ratio(%)=%{x}<br>Death Ratio(%)=%{y}<extra></extra>\",\"legendgroup\":\"Phu Yen\",\"marker\":{\"color\":\"#ab63fa\",\"symbol\":\"circle\"},\"mode\":\"markers\",\"name\":\"Phu Yen\",\"orientation\":\"v\",\"showlegend\":true,\"type\":\"scatter\",\"x\":[88.57142857],\"xaxis\":\"x\",\"y\":[0.0],\"yaxis\":\"y\"},{\"hovertemplate\":\"Province=Khanh Hoa<br>Active Ratio(%)=%{x}<br>Death Ratio(%)=%{y}<extra></extra>\",\"legendgroup\":\"Khanh Hoa\",\"marker\":{\"color\":\"#FFA15A\",\"symbol\":\"circle\"},\"mode\":\"markers\",\"name\":\"Khanh Hoa\",\"orientation\":\"v\",\"showlegend\":true,\"type\":\"scatter\",\"x\":[28.08988764],\"xaxis\":\"x\",\"y\":[0.0],\"yaxis\":\"y\"},{\"hovertemplate\":\"Province=Ninh Thuan<br>Active Ratio(%)=%{x}<br>Death Ratio(%)=%{y}<extra></extra>\",\"legendgroup\":\"Ninh Thuan\",\"marker\":{\"color\":\"#19d3f3\",\"symbol\":\"circle\"},\"mode\":\"markers\",\"name\":\"Ninh Thuan\",\"orientation\":\"v\",\"showlegend\":true,\"type\":\"scatter\",\"x\":[7.692307692],\"xaxis\":\"x\",\"y\":[0.0],\"yaxis\":\"y\"},{\"hovertemplate\":\"Province=Binh Thuan<br>Active Ratio(%)=%{x}<br>Death Ratio(%)=%{y}<extra></extra>\",\"legendgroup\":\"Binh Thuan\",\"marker\":{\"color\":\"#FF6692\",\"symbol\":\"circle\"},\"mode\":\"markers\",\"name\":\"Binh Thuan\",\"orientation\":\"v\",\"showlegend\":true,\"type\":\"scatter\",\"x\":[56.0],\"xaxis\":\"x\",\"y\":[0.0],\"yaxis\":\"y\"},{\"hovertemplate\":\"Province=Gia Lai<br>Active Ratio(%)=%{x}<br>Death Ratio(%)=%{y}<extra></extra>\",\"legendgroup\":\"Gia Lai\",\"marker\":{\"color\":\"#B6E880\",\"symbol\":\"circle\"},\"mode\":\"markers\",\"name\":\"Gia Lai\",\"orientation\":\"v\",\"showlegend\":true,\"type\":\"scatter\",\"x\":[12.90322581],\"xaxis\":\"x\",\"y\":[0.0],\"yaxis\":\"y\"},{\"hovertemplate\":\"Province=Dak Lak<br>Active Ratio(%)=%{x}<br>Death Ratio(%)=%{y}<extra></extra>\",\"legendgroup\":\"Dak Lak\",\"marker\":{\"color\":\"#FF97FF\",\"symbol\":\"circle\"},\"mode\":\"markers\",\"name\":\"Dak Lak\",\"orientation\":\"v\",\"showlegend\":true,\"type\":\"scatter\",\"x\":[50.0],\"xaxis\":\"x\",\"y\":[0.0],\"yaxis\":\"y\"},{\"hovertemplate\":\"Province=Lam Dong<br>Active Ratio(%)=%{x}<br>Death Ratio(%)=%{y}<extra></extra>\",\"legendgroup\":\"Lam Dong\",\"marker\":{\"color\":\"#FECB52\",\"symbol\":\"circle\"},\"mode\":\"markers\",\"name\":\"Lam Dong\",\"orientation\":\"v\",\"showlegend\":true,\"type\":\"scatter\",\"x\":[100.0],\"xaxis\":\"x\",\"y\":[0.0],\"yaxis\":\"y\"},{\"hovertemplate\":\"Province=Binh Phuoc<br>Active Ratio(%)=%{x}<br>Death Ratio(%)=%{y}<extra></extra>\",\"legendgroup\":\"Binh Phuoc\",\"marker\":{\"color\":\"#636efa\",\"symbol\":\"circle\"},\"mode\":\"markers\",\"name\":\"Binh Phuoc\",\"orientation\":\"v\",\"showlegend\":true,\"type\":\"scatter\",\"x\":[100.0],\"xaxis\":\"x\",\"y\":[0.0],\"yaxis\":\"y\"},{\"hovertemplate\":\"Province=Tay Ninh<br>Active Ratio(%)=%{x}<br>Death Ratio(%)=%{y}<extra></extra>\",\"legendgroup\":\"Tay Ninh\",\"marker\":{\"color\":\"#EF553B\",\"symbol\":\"circle\"},\"mode\":\"markers\",\"name\":\"Tay Ninh\",\"orientation\":\"v\",\"showlegend\":true,\"type\":\"scatter\",\"x\":[72.07792208],\"xaxis\":\"x\",\"y\":[0.649350649],\"yaxis\":\"y\"},{\"hovertemplate\":\"Province=Binh Duong<br>Active Ratio(%)=%{x}<br>Death Ratio(%)=%{y}<extra></extra>\",\"legendgroup\":\"Binh Duong\",\"marker\":{\"color\":\"#00cc96\",\"symbol\":\"circle\"},\"mode\":\"markers\",\"name\":\"Binh Duong\",\"orientation\":\"v\",\"showlegend\":true,\"type\":\"scatter\",\"x\":[93.38235294],\"xaxis\":\"x\",\"y\":[0.0],\"yaxis\":\"y\"},{\"hovertemplate\":\"Province=Dong Nai<br>Active Ratio(%)=%{x}<br>Death Ratio(%)=%{y}<extra></extra>\",\"legendgroup\":\"Dong Nai\",\"marker\":{\"color\":\"#ab63fa\",\"symbol\":\"circle\"},\"mode\":\"markers\",\"name\":\"Dong Nai\",\"orientation\":\"v\",\"showlegend\":true,\"type\":\"scatter\",\"x\":[67.70833333],\"xaxis\":\"x\",\"y\":[0.0],\"yaxis\":\"y\"},{\"hovertemplate\":\"Province=Ba Ria - Vung Tau<br>Active Ratio(%)=%{x}<br>Death Ratio(%)=%{y}<extra></extra>\",\"legendgroup\":\"Ba Ria - Vung Tau\",\"marker\":{\"color\":\"#FFA15A\",\"symbol\":\"circle\"},\"mode\":\"markers\",\"name\":\"Ba Ria - Vung Tau\",\"orientation\":\"v\",\"showlegend\":true,\"type\":\"scatter\",\"x\":[19.07894737],\"xaxis\":\"x\",\"y\":[0.0],\"yaxis\":\"y\"},{\"hovertemplate\":\"Province=Ho Chi Minh<br>Active Ratio(%)=%{x}<br>Death Ratio(%)=%{y}<extra></extra>\",\"legendgroup\":\"Ho Chi Minh\",\"marker\":{\"color\":\"#19d3f3\",\"symbol\":\"circle\"},\"mode\":\"markers\",\"name\":\"Ho Chi Minh\",\"orientation\":\"v\",\"showlegend\":true,\"type\":\"scatter\",\"x\":[90.31701193],\"xaxis\":\"x\",\"y\":[0.219711237],\"yaxis\":\"y\"},{\"hovertemplate\":\"Province=Long An<br>Active Ratio(%)=%{x}<br>Death Ratio(%)=%{y}<extra></extra>\",\"legendgroup\":\"Long An\",\"marker\":{\"color\":\"#FF6692\",\"symbol\":\"circle\"},\"mode\":\"markers\",\"name\":\"Long An\",\"orientation\":\"v\",\"showlegend\":true,\"type\":\"scatter\",\"x\":[93.77990431],\"xaxis\":\"x\",\"y\":[0.956937799],\"yaxis\":\"y\"},{\"hovertemplate\":\"Province=Tien Giang<br>Active Ratio(%)=%{x}<br>Death Ratio(%)=%{y}<extra></extra>\",\"legendgroup\":\"Tien Giang\",\"marker\":{\"color\":\"#B6E880\",\"symbol\":\"circle\"},\"mode\":\"markers\",\"name\":\"Tien Giang\",\"orientation\":\"v\",\"showlegend\":true,\"type\":\"scatter\",\"x\":[96.55172414],\"xaxis\":\"x\",\"y\":[0.574712644],\"yaxis\":\"y\"},{\"hovertemplate\":\"Province=Ben Tre<br>Active Ratio(%)=%{x}<br>Death Ratio(%)=%{y}<extra></extra>\",\"legendgroup\":\"Ben Tre\",\"marker\":{\"color\":\"#FF97FF\",\"symbol\":\"circle\"},\"mode\":\"markers\",\"name\":\"Ben Tre\",\"orientation\":\"v\",\"showlegend\":true,\"type\":\"scatter\",\"x\":[10.0],\"xaxis\":\"x\",\"y\":[0.0],\"yaxis\":\"y\"},{\"hovertemplate\":\"Province=Tra Vinh<br>Active Ratio(%)=%{x}<br>Death Ratio(%)=%{y}<extra></extra>\",\"legendgroup\":\"Tra Vinh\",\"marker\":{\"color\":\"#FECB52\",\"symbol\":\"circle\"},\"mode\":\"markers\",\"name\":\"Tra Vinh\",\"orientation\":\"v\",\"showlegend\":true,\"type\":\"scatter\",\"x\":[57.89473684],\"xaxis\":\"x\",\"y\":[0.0],\"yaxis\":\"y\"},{\"hovertemplate\":\"Province=Vinh Long<br>Active Ratio(%)=%{x}<br>Death Ratio(%)=%{y}<extra></extra>\",\"legendgroup\":\"Vinh Long\",\"marker\":{\"color\":\"#636efa\",\"symbol\":\"circle\"},\"mode\":\"markers\",\"name\":\"Vinh Long\",\"orientation\":\"v\",\"showlegend\":true,\"type\":\"scatter\",\"x\":[55.17241379],\"xaxis\":\"x\",\"y\":[0.0],\"yaxis\":\"y\"},{\"hovertemplate\":\"Province=Dong Thap<br>Active Ratio(%)=%{x}<br>Death Ratio(%)=%{y}<extra></extra>\",\"legendgroup\":\"Dong Thap\",\"marker\":{\"color\":\"#EF553B\",\"symbol\":\"circle\"},\"mode\":\"markers\",\"name\":\"Dong Thap\",\"orientation\":\"v\",\"showlegend\":true,\"type\":\"scatter\",\"x\":[69.56521739],\"xaxis\":\"x\",\"y\":[1.086956522],\"yaxis\":\"y\"},{\"hovertemplate\":\"Province=An Giang<br>Active Ratio(%)=%{x}<br>Death Ratio(%)=%{y}<extra></extra>\",\"legendgroup\":\"An Giang\",\"marker\":{\"color\":\"#00cc96\",\"symbol\":\"circle\"},\"mode\":\"markers\",\"name\":\"An Giang\",\"orientation\":\"v\",\"showlegend\":true,\"type\":\"scatter\",\"x\":[83.63636364],\"xaxis\":\"x\",\"y\":[0.0],\"yaxis\":\"y\"},{\"hovertemplate\":\"Province=Kien Giang<br>Active Ratio(%)=%{x}<br>Death Ratio(%)=%{y}<extra></extra>\",\"legendgroup\":\"Kien Giang\",\"marker\":{\"color\":\"#ab63fa\",\"symbol\":\"circle\"},\"mode\":\"markers\",\"name\":\"Kien Giang\",\"orientation\":\"v\",\"showlegend\":true,\"type\":\"scatter\",\"x\":[74.46808511],\"xaxis\":\"x\",\"y\":[0.0],\"yaxis\":\"y\"},{\"hovertemplate\":\"Province=Can Tho<br>Active Ratio(%)=%{x}<br>Death Ratio(%)=%{y}<extra></extra>\",\"legendgroup\":\"Can Tho\",\"marker\":{\"color\":\"#FFA15A\",\"symbol\":\"circle\"},\"mode\":\"markers\",\"name\":\"Can Tho\",\"orientation\":\"v\",\"showlegend\":true,\"type\":\"scatter\",\"x\":[2.857142857],\"xaxis\":\"x\",\"y\":[0.0],\"yaxis\":\"y\"},{\"hovertemplate\":\"Province=Soc Trang<br>Active Ratio(%)=%{x}<br>Death Ratio(%)=%{y}<extra></extra>\",\"legendgroup\":\"Soc Trang\",\"marker\":{\"color\":\"#19d3f3\",\"symbol\":\"circle\"},\"mode\":\"markers\",\"name\":\"Soc Trang\",\"orientation\":\"v\",\"showlegend\":true,\"type\":\"scatter\",\"x\":[100.0],\"xaxis\":\"x\",\"y\":[0.0],\"yaxis\":\"y\"},{\"hovertemplate\":\"Province=Bac Lieu<br>Active Ratio(%)=%{x}<br>Death Ratio(%)=%{y}<extra></extra>\",\"legendgroup\":\"Bac Lieu\",\"marker\":{\"color\":\"#FF6692\",\"symbol\":\"circle\"},\"mode\":\"markers\",\"name\":\"Bac Lieu\",\"orientation\":\"v\",\"showlegend\":true,\"type\":\"scatter\",\"x\":[5.357142857],\"xaxis\":\"x\",\"y\":[0.0],\"yaxis\":\"y\"},{\"hovertemplate\":\"Province=Ca Mau<br>Active Ratio(%)=%{x}<br>Death Ratio(%)=%{y}<extra></extra>\",\"legendgroup\":\"Ca Mau\",\"marker\":{\"color\":\"#B6E880\",\"symbol\":\"circle\"},\"mode\":\"markers\",\"name\":\"Ca Mau\",\"orientation\":\"v\",\"showlegend\":true,\"type\":\"scatter\",\"x\":[11.11111111],\"xaxis\":\"x\",\"y\":[0.0],\"yaxis\":\"y\"}],                        {\"legend\":{\"title\":{\"text\":\"Province\"},\"tracegroupgap\":0},\"margin\":{\"t\":60},\"template\":{\"data\":{\"bar\":[{\"error_x\":{\"color\":\"#2a3f5f\"},\"error_y\":{\"color\":\"#2a3f5f\"},\"marker\":{\"line\":{\"color\":\"#E5ECF6\",\"width\":0.5},\"pattern\":{\"fillmode\":\"overlay\",\"size\":10,\"solidity\":0.2}},\"type\":\"bar\"}],\"barpolar\":[{\"marker\":{\"line\":{\"color\":\"#E5ECF6\",\"width\":0.5},\"pattern\":{\"fillmode\":\"overlay\",\"size\":10,\"solidity\":0.2}},\"type\":\"barpolar\"}],\"carpet\":[{\"aaxis\":{\"endlinecolor\":\"#2a3f5f\",\"gridcolor\":\"white\",\"linecolor\":\"white\",\"minorgridcolor\":\"white\",\"startlinecolor\":\"#2a3f5f\"},\"baxis\":{\"endlinecolor\":\"#2a3f5f\",\"gridcolor\":\"white\",\"linecolor\":\"white\",\"minorgridcolor\":\"white\",\"startlinecolor\":\"#2a3f5f\"},\"type\":\"carpet\"}],\"choropleth\":[{\"colorbar\":{\"outlinewidth\":0,\"ticks\":\"\"},\"type\":\"choropleth\"}],\"contour\":[{\"colorbar\":{\"outlinewidth\":0,\"ticks\":\"\"},\"colorscale\":[[0.0,\"#0d0887\"],[0.1111111111111111,\"#46039f\"],[0.2222222222222222,\"#7201a8\"],[0.3333333333333333,\"#9c179e\"],[0.4444444444444444,\"#bd3786\"],[0.5555555555555556,\"#d8576b\"],[0.6666666666666666,\"#ed7953\"],[0.7777777777777778,\"#fb9f3a\"],[0.8888888888888888,\"#fdca26\"],[1.0,\"#f0f921\"]],\"type\":\"contour\"}],\"contourcarpet\":[{\"colorbar\":{\"outlinewidth\":0,\"ticks\":\"\"},\"type\":\"contourcarpet\"}],\"heatmap\":[{\"colorbar\":{\"outlinewidth\":0,\"ticks\":\"\"},\"colorscale\":[[0.0,\"#0d0887\"],[0.1111111111111111,\"#46039f\"],[0.2222222222222222,\"#7201a8\"],[0.3333333333333333,\"#9c179e\"],[0.4444444444444444,\"#bd3786\"],[0.5555555555555556,\"#d8576b\"],[0.6666666666666666,\"#ed7953\"],[0.7777777777777778,\"#fb9f3a\"],[0.8888888888888888,\"#fdca26\"],[1.0,\"#f0f921\"]],\"type\":\"heatmap\"}],\"heatmapgl\":[{\"colorbar\":{\"outlinewidth\":0,\"ticks\":\"\"},\"colorscale\":[[0.0,\"#0d0887\"],[0.1111111111111111,\"#46039f\"],[0.2222222222222222,\"#7201a8\"],[0.3333333333333333,\"#9c179e\"],[0.4444444444444444,\"#bd3786\"],[0.5555555555555556,\"#d8576b\"],[0.6666666666666666,\"#ed7953\"],[0.7777777777777778,\"#fb9f3a\"],[0.8888888888888888,\"#fdca26\"],[1.0,\"#f0f921\"]],\"type\":\"heatmapgl\"}],\"histogram\":[{\"marker\":{\"pattern\":{\"fillmode\":\"overlay\",\"size\":10,\"solidity\":0.2}},\"type\":\"histogram\"}],\"histogram2d\":[{\"colorbar\":{\"outlinewidth\":0,\"ticks\":\"\"},\"colorscale\":[[0.0,\"#0d0887\"],[0.1111111111111111,\"#46039f\"],[0.2222222222222222,\"#7201a8\"],[0.3333333333333333,\"#9c179e\"],[0.4444444444444444,\"#bd3786\"],[0.5555555555555556,\"#d8576b\"],[0.6666666666666666,\"#ed7953\"],[0.7777777777777778,\"#fb9f3a\"],[0.8888888888888888,\"#fdca26\"],[1.0,\"#f0f921\"]],\"type\":\"histogram2d\"}],\"histogram2dcontour\":[{\"colorbar\":{\"outlinewidth\":0,\"ticks\":\"\"},\"colorscale\":[[0.0,\"#0d0887\"],[0.1111111111111111,\"#46039f\"],[0.2222222222222222,\"#7201a8\"],[0.3333333333333333,\"#9c179e\"],[0.4444444444444444,\"#bd3786\"],[0.5555555555555556,\"#d8576b\"],[0.6666666666666666,\"#ed7953\"],[0.7777777777777778,\"#fb9f3a\"],[0.8888888888888888,\"#fdca26\"],[1.0,\"#f0f921\"]],\"type\":\"histogram2dcontour\"}],\"mesh3d\":[{\"colorbar\":{\"outlinewidth\":0,\"ticks\":\"\"},\"type\":\"mesh3d\"}],\"parcoords\":[{\"line\":{\"colorbar\":{\"outlinewidth\":0,\"ticks\":\"\"}},\"type\":\"parcoords\"}],\"pie\":[{\"automargin\":true,\"type\":\"pie\"}],\"scatter\":[{\"marker\":{\"colorbar\":{\"outlinewidth\":0,\"ticks\":\"\"}},\"type\":\"scatter\"}],\"scatter3d\":[{\"line\":{\"colorbar\":{\"outlinewidth\":0,\"ticks\":\"\"}},\"marker\":{\"colorbar\":{\"outlinewidth\":0,\"ticks\":\"\"}},\"type\":\"scatter3d\"}],\"scattercarpet\":[{\"marker\":{\"colorbar\":{\"outlinewidth\":0,\"ticks\":\"\"}},\"type\":\"scattercarpet\"}],\"scattergeo\":[{\"marker\":{\"colorbar\":{\"outlinewidth\":0,\"ticks\":\"\"}},\"type\":\"scattergeo\"}],\"scattergl\":[{\"marker\":{\"colorbar\":{\"outlinewidth\":0,\"ticks\":\"\"}},\"type\":\"scattergl\"}],\"scattermapbox\":[{\"marker\":{\"colorbar\":{\"outlinewidth\":0,\"ticks\":\"\"}},\"type\":\"scattermapbox\"}],\"scatterpolar\":[{\"marker\":{\"colorbar\":{\"outlinewidth\":0,\"ticks\":\"\"}},\"type\":\"scatterpolar\"}],\"scatterpolargl\":[{\"marker\":{\"colorbar\":{\"outlinewidth\":0,\"ticks\":\"\"}},\"type\":\"scatterpolargl\"}],\"scatterternary\":[{\"marker\":{\"colorbar\":{\"outlinewidth\":0,\"ticks\":\"\"}},\"type\":\"scatterternary\"}],\"surface\":[{\"colorbar\":{\"outlinewidth\":0,\"ticks\":\"\"},\"colorscale\":[[0.0,\"#0d0887\"],[0.1111111111111111,\"#46039f\"],[0.2222222222222222,\"#7201a8\"],[0.3333333333333333,\"#9c179e\"],[0.4444444444444444,\"#bd3786\"],[0.5555555555555556,\"#d8576b\"],[0.6666666666666666,\"#ed7953\"],[0.7777777777777778,\"#fb9f3a\"],[0.8888888888888888,\"#fdca26\"],[1.0,\"#f0f921\"]],\"type\":\"surface\"}],\"table\":[{\"cells\":{\"fill\":{\"color\":\"#EBF0F8\"},\"line\":{\"color\":\"white\"}},\"header\":{\"fill\":{\"color\":\"#C8D4E3\"},\"line\":{\"color\":\"white\"}},\"type\":\"table\"}]},\"layout\":{\"annotationdefaults\":{\"arrowcolor\":\"#2a3f5f\",\"arrowhead\":0,\"arrowwidth\":1},\"autotypenumbers\":\"strict\",\"coloraxis\":{\"colorbar\":{\"outlinewidth\":0,\"ticks\":\"\"}},\"colorscale\":{\"diverging\":[[0,\"#8e0152\"],[0.1,\"#c51b7d\"],[0.2,\"#de77ae\"],[0.3,\"#f1b6da\"],[0.4,\"#fde0ef\"],[0.5,\"#f7f7f7\"],[0.6,\"#e6f5d0\"],[0.7,\"#b8e186\"],[0.8,\"#7fbc41\"],[0.9,\"#4d9221\"],[1,\"#276419\"]],\"sequential\":[[0.0,\"#0d0887\"],[0.1111111111111111,\"#46039f\"],[0.2222222222222222,\"#7201a8\"],[0.3333333333333333,\"#9c179e\"],[0.4444444444444444,\"#bd3786\"],[0.5555555555555556,\"#d8576b\"],[0.6666666666666666,\"#ed7953\"],[0.7777777777777778,\"#fb9f3a\"],[0.8888888888888888,\"#fdca26\"],[1.0,\"#f0f921\"]],\"sequentialminus\":[[0.0,\"#0d0887\"],[0.1111111111111111,\"#46039f\"],[0.2222222222222222,\"#7201a8\"],[0.3333333333333333,\"#9c179e\"],[0.4444444444444444,\"#bd3786\"],[0.5555555555555556,\"#d8576b\"],[0.6666666666666666,\"#ed7953\"],[0.7777777777777778,\"#fb9f3a\"],[0.8888888888888888,\"#fdca26\"],[1.0,\"#f0f921\"]]},\"colorway\":[\"#636efa\",\"#EF553B\",\"#00cc96\",\"#ab63fa\",\"#FFA15A\",\"#19d3f3\",\"#FF6692\",\"#B6E880\",\"#FF97FF\",\"#FECB52\"],\"font\":{\"color\":\"#2a3f5f\"},\"geo\":{\"bgcolor\":\"white\",\"lakecolor\":\"white\",\"landcolor\":\"#E5ECF6\",\"showlakes\":true,\"showland\":true,\"subunitcolor\":\"white\"},\"hoverlabel\":{\"align\":\"left\"},\"hovermode\":\"closest\",\"mapbox\":{\"style\":\"light\"},\"paper_bgcolor\":\"white\",\"plot_bgcolor\":\"#E5ECF6\",\"polar\":{\"angularaxis\":{\"gridcolor\":\"white\",\"linecolor\":\"white\",\"ticks\":\"\"},\"bgcolor\":\"#E5ECF6\",\"radialaxis\":{\"gridcolor\":\"white\",\"linecolor\":\"white\",\"ticks\":\"\"}},\"scene\":{\"xaxis\":{\"backgroundcolor\":\"#E5ECF6\",\"gridcolor\":\"white\",\"gridwidth\":2,\"linecolor\":\"white\",\"showbackground\":true,\"ticks\":\"\",\"zerolinecolor\":\"white\"},\"yaxis\":{\"backgroundcolor\":\"#E5ECF6\",\"gridcolor\":\"white\",\"gridwidth\":2,\"linecolor\":\"white\",\"showbackground\":true,\"ticks\":\"\",\"zerolinecolor\":\"white\"},\"zaxis\":{\"backgroundcolor\":\"#E5ECF6\",\"gridcolor\":\"white\",\"gridwidth\":2,\"linecolor\":\"white\",\"showbackground\":true,\"ticks\":\"\",\"zerolinecolor\":\"white\"}},\"shapedefaults\":{\"line\":{\"color\":\"#2a3f5f\"}},\"ternary\":{\"aaxis\":{\"gridcolor\":\"white\",\"linecolor\":\"white\",\"ticks\":\"\"},\"baxis\":{\"gridcolor\":\"white\",\"linecolor\":\"white\",\"ticks\":\"\"},\"bgcolor\":\"#E5ECF6\",\"caxis\":{\"gridcolor\":\"white\",\"linecolor\":\"white\",\"ticks\":\"\"}},\"title\":{\"x\":0.05},\"xaxis\":{\"automargin\":true,\"gridcolor\":\"white\",\"linecolor\":\"white\",\"ticks\":\"\",\"title\":{\"standoff\":15},\"zerolinecolor\":\"white\",\"zerolinewidth\":2},\"yaxis\":{\"automargin\":true,\"gridcolor\":\"white\",\"linecolor\":\"white\",\"ticks\":\"\",\"title\":{\"standoff\":15},\"zerolinecolor\":\"white\",\"zerolinewidth\":2}}},\"xaxis\":{\"anchor\":\"y\",\"domain\":[0.0,1.0],\"title\":{\"text\":\"Active Ratio(%)\"}},\"yaxis\":{\"anchor\":\"x\",\"domain\":[0.0,1.0],\"title\":{\"text\":\"Death Ratio(%)\"}}},                        {\"responsive\": true}                    ).then(function(){\n",
       "                            \n",
       "var gd = document.getElementById('ef058244-1193-4f05-8540-7ffaf32907a1');\n",
       "var x = new MutationObserver(function (mutations, observer) {{\n",
       "        var display = window.getComputedStyle(gd).display;\n",
       "        if (!display || display === 'none') {{\n",
       "            console.log([gd, 'removed!']);\n",
       "            Plotly.purge(gd);\n",
       "            observer.disconnect();\n",
       "        }}\n",
       "}});\n",
       "\n",
       "// Listen for the removal of the full notebook cells\n",
       "var notebookContainer = gd.closest('#notebook-container');\n",
       "if (notebookContainer) {{\n",
       "    x.observe(notebookContainer, {childList: true});\n",
       "}}\n",
       "\n",
       "// Listen for the clearing of the current output cell\n",
       "var outputEl = gd.closest('.output');\n",
       "if (outputEl) {{\n",
       "    x.observe(outputEl, {childList: true});\n",
       "}}\n",
       "\n",
       "                        })                };                });            </script>        </div>"
      ]
     },
     "metadata": {},
     "output_type": "display_data"
    }
   ],
   "source": [
    "px.scatter(df, x='Active Ratio(%)',y='Death Ratio(%)', color=df['Province'])"
   ]
  },
  {
   "cell_type": "markdown",
   "id": "differential-pledge",
   "metadata": {},
   "source": [
    "There are serveral province in Vietnam with 100% active ratio, meaning none of the patient is treated. Again, we could see ***Quang Tri*** surpassed every other provinces in Death Ratio(5.56) and Active Ratio(27.78)"
   ]
  },
  {
   "cell_type": "code",
   "execution_count": 38,
   "id": "sought-violence",
   "metadata": {},
   "outputs": [
    {
     "data": {
      "application/vnd.plotly.v1+json": {
       "config": {
        "plotlyServerURL": "https://plot.ly"
       },
       "data": [
        {
         "coloraxis": "coloraxis",
         "featureidkey": "properties.cartodb_id",
         "geo": "geo",
         "geojson": "vietnam.geojson",
         "hovertemplate": "Province=%{location}<br>Infected=%{z}<extra></extra>",
         "locations": [
          "Hà Nội",
          "Hà Giang",
          "Bắc Kạn",
          "Tuyên Quang",
          "Lào Cai",
          "Điện Biên",
          "Lai Châu",
          "Sơn La",
          "Yên Bái",
          "Hoà Bình",
          "Thái Nguyên",
          "Lạng Sơn",
          "Quảng Ninh",
          "Bắc Giang",
          "Phú Thọ",
          "Vĩnh Phúc",
          "Bắc Ninh",
          "Hải Dương",
          "Hải Phòng",
          "Hưng Yên",
          "Thái Bình",
          "Hà Nam",
          "Nam Định",
          "Ninh Bình",
          "Thanh Hóa",
          "Nghệ An",
          "Hà Tĩnh",
          "Quảng Trị",
          "Thừa Thiên Huế",
          "Đà Nẵng",
          "Quảng Nam",
          "Quảng Ngãi",
          "Bình Định",
          "Phú Yên",
          "Khánh Hòa",
          "Ninh Thuận",
          "Bình Thuận",
          "Gia Lai",
          "Đắk Lắk",
          "Lâm Đồng",
          "Bình Phước",
          "Tây Ninh",
          "Bình Dương",
          "Đồng Nai",
          "Bà Rịa - Vũng Tàu",
          "Hồ Chí Minh",
          "Long An",
          "Tiền Giang",
          "Bến Tre",
          "Trà Vinh",
          "Vĩnh Long",
          "Đồng Tháp",
          "An Giang",
          "Kiên Giang",
          "Cần Thơ",
          "Sóc Trăng",
          "Bạc Liêu",
          "Cà Mau"
         ],
         "name": "",
         "type": "choropleth",
         "z": [
          744,
          4,
          5,
          1,
          6,
          59,
          1,
          1,
          5,
          39,
          9,
          110,
          99,
          5768,
          8,
          113,
          1633,
          813,
          24,
          166,
          76,
          56,
          26,
          51,
          31,
          127,
          128,
          18,
          7,
          749,
          136,
          124,
          15,
          245,
          178,
          13,
          25,
          31,
          8,
          4,
          3,
          154,
          680,
          96,
          152,
          6372,
          209,
          174,
          20,
          19,
          29,
          92,
          55,
          94,
          35,
          19,
          56,
          9
         ]
        }
       ],
       "layout": {
        "coloraxis": {
         "colorbar": {
          "title": {
           "text": "Infected"
          }
         },
         "colorscale": [
          [
           0,
           "rgb(255,245,240)"
          ],
          [
           0.125,
           "rgb(254,224,210)"
          ],
          [
           0.25,
           "rgb(252,187,161)"
          ],
          [
           0.375,
           "rgb(252,146,114)"
          ],
          [
           0.5,
           "rgb(251,106,74)"
          ],
          [
           0.625,
           "rgb(239,59,44)"
          ],
          [
           0.75,
           "rgb(203,24,29)"
          ],
          [
           0.875,
           "rgb(165,15,21)"
          ],
          [
           1,
           "rgb(103,0,13)"
          ]
         ]
        },
        "geo": {
         "center": {},
         "domain": {
          "x": [
           0,
           1
          ],
          "y": [
           0,
           1
          ]
         },
         "fitbounds": "locations",
         "visible": false
        },
        "legend": {
         "tracegroupgap": 0
        },
        "margin": {
         "t": 60
        },
        "template": {
         "data": {
          "bar": [
           {
            "error_x": {
             "color": "#2a3f5f"
            },
            "error_y": {
             "color": "#2a3f5f"
            },
            "marker": {
             "line": {
              "color": "#E5ECF6",
              "width": 0.5
             },
             "pattern": {
              "fillmode": "overlay",
              "size": 10,
              "solidity": 0.2
             }
            },
            "type": "bar"
           }
          ],
          "barpolar": [
           {
            "marker": {
             "line": {
              "color": "#E5ECF6",
              "width": 0.5
             },
             "pattern": {
              "fillmode": "overlay",
              "size": 10,
              "solidity": 0.2
             }
            },
            "type": "barpolar"
           }
          ],
          "carpet": [
           {
            "aaxis": {
             "endlinecolor": "#2a3f5f",
             "gridcolor": "white",
             "linecolor": "white",
             "minorgridcolor": "white",
             "startlinecolor": "#2a3f5f"
            },
            "baxis": {
             "endlinecolor": "#2a3f5f",
             "gridcolor": "white",
             "linecolor": "white",
             "minorgridcolor": "white",
             "startlinecolor": "#2a3f5f"
            },
            "type": "carpet"
           }
          ],
          "choropleth": [
           {
            "colorbar": {
             "outlinewidth": 0,
             "ticks": ""
            },
            "type": "choropleth"
           }
          ],
          "contour": [
           {
            "colorbar": {
             "outlinewidth": 0,
             "ticks": ""
            },
            "colorscale": [
             [
              0,
              "#0d0887"
             ],
             [
              0.1111111111111111,
              "#46039f"
             ],
             [
              0.2222222222222222,
              "#7201a8"
             ],
             [
              0.3333333333333333,
              "#9c179e"
             ],
             [
              0.4444444444444444,
              "#bd3786"
             ],
             [
              0.5555555555555556,
              "#d8576b"
             ],
             [
              0.6666666666666666,
              "#ed7953"
             ],
             [
              0.7777777777777778,
              "#fb9f3a"
             ],
             [
              0.8888888888888888,
              "#fdca26"
             ],
             [
              1,
              "#f0f921"
             ]
            ],
            "type": "contour"
           }
          ],
          "contourcarpet": [
           {
            "colorbar": {
             "outlinewidth": 0,
             "ticks": ""
            },
            "type": "contourcarpet"
           }
          ],
          "heatmap": [
           {
            "colorbar": {
             "outlinewidth": 0,
             "ticks": ""
            },
            "colorscale": [
             [
              0,
              "#0d0887"
             ],
             [
              0.1111111111111111,
              "#46039f"
             ],
             [
              0.2222222222222222,
              "#7201a8"
             ],
             [
              0.3333333333333333,
              "#9c179e"
             ],
             [
              0.4444444444444444,
              "#bd3786"
             ],
             [
              0.5555555555555556,
              "#d8576b"
             ],
             [
              0.6666666666666666,
              "#ed7953"
             ],
             [
              0.7777777777777778,
              "#fb9f3a"
             ],
             [
              0.8888888888888888,
              "#fdca26"
             ],
             [
              1,
              "#f0f921"
             ]
            ],
            "type": "heatmap"
           }
          ],
          "heatmapgl": [
           {
            "colorbar": {
             "outlinewidth": 0,
             "ticks": ""
            },
            "colorscale": [
             [
              0,
              "#0d0887"
             ],
             [
              0.1111111111111111,
              "#46039f"
             ],
             [
              0.2222222222222222,
              "#7201a8"
             ],
             [
              0.3333333333333333,
              "#9c179e"
             ],
             [
              0.4444444444444444,
              "#bd3786"
             ],
             [
              0.5555555555555556,
              "#d8576b"
             ],
             [
              0.6666666666666666,
              "#ed7953"
             ],
             [
              0.7777777777777778,
              "#fb9f3a"
             ],
             [
              0.8888888888888888,
              "#fdca26"
             ],
             [
              1,
              "#f0f921"
             ]
            ],
            "type": "heatmapgl"
           }
          ],
          "histogram": [
           {
            "marker": {
             "pattern": {
              "fillmode": "overlay",
              "size": 10,
              "solidity": 0.2
             }
            },
            "type": "histogram"
           }
          ],
          "histogram2d": [
           {
            "colorbar": {
             "outlinewidth": 0,
             "ticks": ""
            },
            "colorscale": [
             [
              0,
              "#0d0887"
             ],
             [
              0.1111111111111111,
              "#46039f"
             ],
             [
              0.2222222222222222,
              "#7201a8"
             ],
             [
              0.3333333333333333,
              "#9c179e"
             ],
             [
              0.4444444444444444,
              "#bd3786"
             ],
             [
              0.5555555555555556,
              "#d8576b"
             ],
             [
              0.6666666666666666,
              "#ed7953"
             ],
             [
              0.7777777777777778,
              "#fb9f3a"
             ],
             [
              0.8888888888888888,
              "#fdca26"
             ],
             [
              1,
              "#f0f921"
             ]
            ],
            "type": "histogram2d"
           }
          ],
          "histogram2dcontour": [
           {
            "colorbar": {
             "outlinewidth": 0,
             "ticks": ""
            },
            "colorscale": [
             [
              0,
              "#0d0887"
             ],
             [
              0.1111111111111111,
              "#46039f"
             ],
             [
              0.2222222222222222,
              "#7201a8"
             ],
             [
              0.3333333333333333,
              "#9c179e"
             ],
             [
              0.4444444444444444,
              "#bd3786"
             ],
             [
              0.5555555555555556,
              "#d8576b"
             ],
             [
              0.6666666666666666,
              "#ed7953"
             ],
             [
              0.7777777777777778,
              "#fb9f3a"
             ],
             [
              0.8888888888888888,
              "#fdca26"
             ],
             [
              1,
              "#f0f921"
             ]
            ],
            "type": "histogram2dcontour"
           }
          ],
          "mesh3d": [
           {
            "colorbar": {
             "outlinewidth": 0,
             "ticks": ""
            },
            "type": "mesh3d"
           }
          ],
          "parcoords": [
           {
            "line": {
             "colorbar": {
              "outlinewidth": 0,
              "ticks": ""
             }
            },
            "type": "parcoords"
           }
          ],
          "pie": [
           {
            "automargin": true,
            "type": "pie"
           }
          ],
          "scatter": [
           {
            "marker": {
             "colorbar": {
              "outlinewidth": 0,
              "ticks": ""
             }
            },
            "type": "scatter"
           }
          ],
          "scatter3d": [
           {
            "line": {
             "colorbar": {
              "outlinewidth": 0,
              "ticks": ""
             }
            },
            "marker": {
             "colorbar": {
              "outlinewidth": 0,
              "ticks": ""
             }
            },
            "type": "scatter3d"
           }
          ],
          "scattercarpet": [
           {
            "marker": {
             "colorbar": {
              "outlinewidth": 0,
              "ticks": ""
             }
            },
            "type": "scattercarpet"
           }
          ],
          "scattergeo": [
           {
            "marker": {
             "colorbar": {
              "outlinewidth": 0,
              "ticks": ""
             }
            },
            "type": "scattergeo"
           }
          ],
          "scattergl": [
           {
            "marker": {
             "colorbar": {
              "outlinewidth": 0,
              "ticks": ""
             }
            },
            "type": "scattergl"
           }
          ],
          "scattermapbox": [
           {
            "marker": {
             "colorbar": {
              "outlinewidth": 0,
              "ticks": ""
             }
            },
            "type": "scattermapbox"
           }
          ],
          "scatterpolar": [
           {
            "marker": {
             "colorbar": {
              "outlinewidth": 0,
              "ticks": ""
             }
            },
            "type": "scatterpolar"
           }
          ],
          "scatterpolargl": [
           {
            "marker": {
             "colorbar": {
              "outlinewidth": 0,
              "ticks": ""
             }
            },
            "type": "scatterpolargl"
           }
          ],
          "scatterternary": [
           {
            "marker": {
             "colorbar": {
              "outlinewidth": 0,
              "ticks": ""
             }
            },
            "type": "scatterternary"
           }
          ],
          "surface": [
           {
            "colorbar": {
             "outlinewidth": 0,
             "ticks": ""
            },
            "colorscale": [
             [
              0,
              "#0d0887"
             ],
             [
              0.1111111111111111,
              "#46039f"
             ],
             [
              0.2222222222222222,
              "#7201a8"
             ],
             [
              0.3333333333333333,
              "#9c179e"
             ],
             [
              0.4444444444444444,
              "#bd3786"
             ],
             [
              0.5555555555555556,
              "#d8576b"
             ],
             [
              0.6666666666666666,
              "#ed7953"
             ],
             [
              0.7777777777777778,
              "#fb9f3a"
             ],
             [
              0.8888888888888888,
              "#fdca26"
             ],
             [
              1,
              "#f0f921"
             ]
            ],
            "type": "surface"
           }
          ],
          "table": [
           {
            "cells": {
             "fill": {
              "color": "#EBF0F8"
             },
             "line": {
              "color": "white"
             }
            },
            "header": {
             "fill": {
              "color": "#C8D4E3"
             },
             "line": {
              "color": "white"
             }
            },
            "type": "table"
           }
          ]
         },
         "layout": {
          "annotationdefaults": {
           "arrowcolor": "#2a3f5f",
           "arrowhead": 0,
           "arrowwidth": 1
          },
          "autotypenumbers": "strict",
          "coloraxis": {
           "colorbar": {
            "outlinewidth": 0,
            "ticks": ""
           }
          },
          "colorscale": {
           "diverging": [
            [
             0,
             "#8e0152"
            ],
            [
             0.1,
             "#c51b7d"
            ],
            [
             0.2,
             "#de77ae"
            ],
            [
             0.3,
             "#f1b6da"
            ],
            [
             0.4,
             "#fde0ef"
            ],
            [
             0.5,
             "#f7f7f7"
            ],
            [
             0.6,
             "#e6f5d0"
            ],
            [
             0.7,
             "#b8e186"
            ],
            [
             0.8,
             "#7fbc41"
            ],
            [
             0.9,
             "#4d9221"
            ],
            [
             1,
             "#276419"
            ]
           ],
           "sequential": [
            [
             0,
             "#0d0887"
            ],
            [
             0.1111111111111111,
             "#46039f"
            ],
            [
             0.2222222222222222,
             "#7201a8"
            ],
            [
             0.3333333333333333,
             "#9c179e"
            ],
            [
             0.4444444444444444,
             "#bd3786"
            ],
            [
             0.5555555555555556,
             "#d8576b"
            ],
            [
             0.6666666666666666,
             "#ed7953"
            ],
            [
             0.7777777777777778,
             "#fb9f3a"
            ],
            [
             0.8888888888888888,
             "#fdca26"
            ],
            [
             1,
             "#f0f921"
            ]
           ],
           "sequentialminus": [
            [
             0,
             "#0d0887"
            ],
            [
             0.1111111111111111,
             "#46039f"
            ],
            [
             0.2222222222222222,
             "#7201a8"
            ],
            [
             0.3333333333333333,
             "#9c179e"
            ],
            [
             0.4444444444444444,
             "#bd3786"
            ],
            [
             0.5555555555555556,
             "#d8576b"
            ],
            [
             0.6666666666666666,
             "#ed7953"
            ],
            [
             0.7777777777777778,
             "#fb9f3a"
            ],
            [
             0.8888888888888888,
             "#fdca26"
            ],
            [
             1,
             "#f0f921"
            ]
           ]
          },
          "colorway": [
           "#636efa",
           "#EF553B",
           "#00cc96",
           "#ab63fa",
           "#FFA15A",
           "#19d3f3",
           "#FF6692",
           "#B6E880",
           "#FF97FF",
           "#FECB52"
          ],
          "font": {
           "color": "#2a3f5f"
          },
          "geo": {
           "bgcolor": "white",
           "lakecolor": "white",
           "landcolor": "#E5ECF6",
           "showlakes": true,
           "showland": true,
           "subunitcolor": "white"
          },
          "hoverlabel": {
           "align": "left"
          },
          "hovermode": "closest",
          "mapbox": {
           "style": "light"
          },
          "paper_bgcolor": "white",
          "plot_bgcolor": "#E5ECF6",
          "polar": {
           "angularaxis": {
            "gridcolor": "white",
            "linecolor": "white",
            "ticks": ""
           },
           "bgcolor": "#E5ECF6",
           "radialaxis": {
            "gridcolor": "white",
            "linecolor": "white",
            "ticks": ""
           }
          },
          "scene": {
           "xaxis": {
            "backgroundcolor": "#E5ECF6",
            "gridcolor": "white",
            "gridwidth": 2,
            "linecolor": "white",
            "showbackground": true,
            "ticks": "",
            "zerolinecolor": "white"
           },
           "yaxis": {
            "backgroundcolor": "#E5ECF6",
            "gridcolor": "white",
            "gridwidth": 2,
            "linecolor": "white",
            "showbackground": true,
            "ticks": "",
            "zerolinecolor": "white"
           },
           "zaxis": {
            "backgroundcolor": "#E5ECF6",
            "gridcolor": "white",
            "gridwidth": 2,
            "linecolor": "white",
            "showbackground": true,
            "ticks": "",
            "zerolinecolor": "white"
           }
          },
          "shapedefaults": {
           "line": {
            "color": "#2a3f5f"
           }
          },
          "ternary": {
           "aaxis": {
            "gridcolor": "white",
            "linecolor": "white",
            "ticks": ""
           },
           "baxis": {
            "gridcolor": "white",
            "linecolor": "white",
            "ticks": ""
           },
           "bgcolor": "#E5ECF6",
           "caxis": {
            "gridcolor": "white",
            "linecolor": "white",
            "ticks": ""
           }
          },
          "title": {
           "x": 0.05
          },
          "xaxis": {
           "automargin": true,
           "gridcolor": "white",
           "linecolor": "white",
           "ticks": "",
           "title": {
            "standoff": 15
           },
           "zerolinecolor": "white",
           "zerolinewidth": 2
          },
          "yaxis": {
           "automargin": true,
           "gridcolor": "white",
           "linecolor": "white",
           "ticks": "",
           "title": {
            "standoff": 15
           },
           "zerolinecolor": "white",
           "zerolinewidth": 2
          }
         }
        }
       }
      },
      "text/html": [
       "<div>                            <div id=\"7324e74d-7e98-4b38-91af-661fcdaa512a\" class=\"plotly-graph-div\" style=\"height:525px; width:100%;\"></div>            <script type=\"text/javascript\">                require([\"plotly\"], function(Plotly) {                    window.PLOTLYENV=window.PLOTLYENV || {};                                    if (document.getElementById(\"7324e74d-7e98-4b38-91af-661fcdaa512a\")) {                    Plotly.newPlot(                        \"7324e74d-7e98-4b38-91af-661fcdaa512a\",                        [{\"coloraxis\":\"coloraxis\",\"featureidkey\":\"properties.cartodb_id\",\"geo\":\"geo\",\"geojson\":\"vietnam.geojson\",\"hovertemplate\":\"Province=%{location}<br>Infected=%{z}<extra></extra>\",\"locations\":[\"H\\u00e0 N\\u1ed9i\",\"H\\u00e0 Giang\",\"B\\u1eafc K\\u1ea1n\",\"Tuy\\u00ean Quang\",\"L\\u00e0o Cai\",\"\\u0110i\\u1ec7n Bi\\u00ean\",\"Lai Ch\\u00e2u\",\"S\\u01a1n La\",\"Y\\u00ean B\\u00e1i\",\"Ho\\u00e0 B\\u00ecnh\",\"Th\\u00e1i Nguy\\u00ean\",\"L\\u1ea1ng S\\u01a1n\",\"Qu\\u1ea3ng Ninh\",\"B\\u1eafc Giang\",\"Ph\\u00fa Th\\u1ecd\",\"V\\u0129nh Ph\\u00fac\",\"B\\u1eafc Ninh\",\"H\\u1ea3i D\\u01b0\\u01a1ng\",\"H\\u1ea3i Ph\\u00f2ng\",\"H\\u01b0ng Y\\u00ean\",\"Th\\u00e1i B\\u00ecnh\",\"H\\u00e0 Nam\",\"Nam \\u0110\\u1ecbnh\",\"Ninh B\\u00ecnh\",\"Thanh H\\u00f3a\",\"Ngh\\u1ec7 An\",\"H\\u00e0 T\\u0129nh\",\"Qu\\u1ea3ng Tr\\u1ecb\",\"Th\\u1eeba Thi\\u00ean Hu\\u1ebf\",\"\\u0110\\u00e0 N\\u1eb5ng\",\"Qu\\u1ea3ng Nam\",\"Qu\\u1ea3ng Ng\\u00e3i\",\"B\\u00ecnh \\u0110\\u1ecbnh\",\"Ph\\u00fa Y\\u00ean\",\"Kh\\u00e1nh H\\u00f2a\",\"Ninh Thu\\u1eadn\",\"B\\u00ecnh Thu\\u1eadn\",\"Gia Lai\",\"\\u0110\\u1eafk L\\u1eafk\",\"L\\u00e2m \\u0110\\u1ed3ng\",\"B\\u00ecnh Ph\\u01b0\\u1edbc\",\"T\\u00e2y Ninh\",\"B\\u00ecnh D\\u01b0\\u01a1ng\",\"\\u0110\\u1ed3ng Nai\",\"B\\u00e0 R\\u1ecba - V\\u0169ng T\\u00e0u\",\"H\\u1ed3 Ch\\u00ed Minh\",\"Long An\",\"Ti\\u1ec1n Giang\",\"B\\u1ebfn Tre\",\"Tr\\u00e0 Vinh\",\"V\\u0129nh Long\",\"\\u0110\\u1ed3ng Th\\u00e1p\",\"An Giang\",\"Ki\\u00ean Giang\",\"C\\u1ea7n Th\\u01a1\",\"S\\u00f3c Tr\\u0103ng\",\"B\\u1ea1c Li\\u00eau\",\"C\\u00e0 Mau\"],\"name\":\"\",\"type\":\"choropleth\",\"z\":[744,4,5,1,6,59,1,1,5,39,9,110,99,5768,8,113,1633,813,24,166,76,56,26,51,31,127,128,18,7,749,136,124,15,245,178,13,25,31,8,4,3,154,680,96,152,6372,209,174,20,19,29,92,55,94,35,19,56,9]}],                        {\"coloraxis\":{\"colorbar\":{\"title\":{\"text\":\"Infected\"}},\"colorscale\":[[0.0,\"rgb(255,245,240)\"],[0.125,\"rgb(254,224,210)\"],[0.25,\"rgb(252,187,161)\"],[0.375,\"rgb(252,146,114)\"],[0.5,\"rgb(251,106,74)\"],[0.625,\"rgb(239,59,44)\"],[0.75,\"rgb(203,24,29)\"],[0.875,\"rgb(165,15,21)\"],[1.0,\"rgb(103,0,13)\"]]},\"geo\":{\"center\":{},\"domain\":{\"x\":[0.0,1.0],\"y\":[0.0,1.0]},\"fitbounds\":\"locations\",\"visible\":false},\"legend\":{\"tracegroupgap\":0},\"margin\":{\"t\":60},\"template\":{\"data\":{\"bar\":[{\"error_x\":{\"color\":\"#2a3f5f\"},\"error_y\":{\"color\":\"#2a3f5f\"},\"marker\":{\"line\":{\"color\":\"#E5ECF6\",\"width\":0.5},\"pattern\":{\"fillmode\":\"overlay\",\"size\":10,\"solidity\":0.2}},\"type\":\"bar\"}],\"barpolar\":[{\"marker\":{\"line\":{\"color\":\"#E5ECF6\",\"width\":0.5},\"pattern\":{\"fillmode\":\"overlay\",\"size\":10,\"solidity\":0.2}},\"type\":\"barpolar\"}],\"carpet\":[{\"aaxis\":{\"endlinecolor\":\"#2a3f5f\",\"gridcolor\":\"white\",\"linecolor\":\"white\",\"minorgridcolor\":\"white\",\"startlinecolor\":\"#2a3f5f\"},\"baxis\":{\"endlinecolor\":\"#2a3f5f\",\"gridcolor\":\"white\",\"linecolor\":\"white\",\"minorgridcolor\":\"white\",\"startlinecolor\":\"#2a3f5f\"},\"type\":\"carpet\"}],\"choropleth\":[{\"colorbar\":{\"outlinewidth\":0,\"ticks\":\"\"},\"type\":\"choropleth\"}],\"contour\":[{\"colorbar\":{\"outlinewidth\":0,\"ticks\":\"\"},\"colorscale\":[[0.0,\"#0d0887\"],[0.1111111111111111,\"#46039f\"],[0.2222222222222222,\"#7201a8\"],[0.3333333333333333,\"#9c179e\"],[0.4444444444444444,\"#bd3786\"],[0.5555555555555556,\"#d8576b\"],[0.6666666666666666,\"#ed7953\"],[0.7777777777777778,\"#fb9f3a\"],[0.8888888888888888,\"#fdca26\"],[1.0,\"#f0f921\"]],\"type\":\"contour\"}],\"contourcarpet\":[{\"colorbar\":{\"outlinewidth\":0,\"ticks\":\"\"},\"type\":\"contourcarpet\"}],\"heatmap\":[{\"colorbar\":{\"outlinewidth\":0,\"ticks\":\"\"},\"colorscale\":[[0.0,\"#0d0887\"],[0.1111111111111111,\"#46039f\"],[0.2222222222222222,\"#7201a8\"],[0.3333333333333333,\"#9c179e\"],[0.4444444444444444,\"#bd3786\"],[0.5555555555555556,\"#d8576b\"],[0.6666666666666666,\"#ed7953\"],[0.7777777777777778,\"#fb9f3a\"],[0.8888888888888888,\"#fdca26\"],[1.0,\"#f0f921\"]],\"type\":\"heatmap\"}],\"heatmapgl\":[{\"colorbar\":{\"outlinewidth\":0,\"ticks\":\"\"},\"colorscale\":[[0.0,\"#0d0887\"],[0.1111111111111111,\"#46039f\"],[0.2222222222222222,\"#7201a8\"],[0.3333333333333333,\"#9c179e\"],[0.4444444444444444,\"#bd3786\"],[0.5555555555555556,\"#d8576b\"],[0.6666666666666666,\"#ed7953\"],[0.7777777777777778,\"#fb9f3a\"],[0.8888888888888888,\"#fdca26\"],[1.0,\"#f0f921\"]],\"type\":\"heatmapgl\"}],\"histogram\":[{\"marker\":{\"pattern\":{\"fillmode\":\"overlay\",\"size\":10,\"solidity\":0.2}},\"type\":\"histogram\"}],\"histogram2d\":[{\"colorbar\":{\"outlinewidth\":0,\"ticks\":\"\"},\"colorscale\":[[0.0,\"#0d0887\"],[0.1111111111111111,\"#46039f\"],[0.2222222222222222,\"#7201a8\"],[0.3333333333333333,\"#9c179e\"],[0.4444444444444444,\"#bd3786\"],[0.5555555555555556,\"#d8576b\"],[0.6666666666666666,\"#ed7953\"],[0.7777777777777778,\"#fb9f3a\"],[0.8888888888888888,\"#fdca26\"],[1.0,\"#f0f921\"]],\"type\":\"histogram2d\"}],\"histogram2dcontour\":[{\"colorbar\":{\"outlinewidth\":0,\"ticks\":\"\"},\"colorscale\":[[0.0,\"#0d0887\"],[0.1111111111111111,\"#46039f\"],[0.2222222222222222,\"#7201a8\"],[0.3333333333333333,\"#9c179e\"],[0.4444444444444444,\"#bd3786\"],[0.5555555555555556,\"#d8576b\"],[0.6666666666666666,\"#ed7953\"],[0.7777777777777778,\"#fb9f3a\"],[0.8888888888888888,\"#fdca26\"],[1.0,\"#f0f921\"]],\"type\":\"histogram2dcontour\"}],\"mesh3d\":[{\"colorbar\":{\"outlinewidth\":0,\"ticks\":\"\"},\"type\":\"mesh3d\"}],\"parcoords\":[{\"line\":{\"colorbar\":{\"outlinewidth\":0,\"ticks\":\"\"}},\"type\":\"parcoords\"}],\"pie\":[{\"automargin\":true,\"type\":\"pie\"}],\"scatter\":[{\"marker\":{\"colorbar\":{\"outlinewidth\":0,\"ticks\":\"\"}},\"type\":\"scatter\"}],\"scatter3d\":[{\"line\":{\"colorbar\":{\"outlinewidth\":0,\"ticks\":\"\"}},\"marker\":{\"colorbar\":{\"outlinewidth\":0,\"ticks\":\"\"}},\"type\":\"scatter3d\"}],\"scattercarpet\":[{\"marker\":{\"colorbar\":{\"outlinewidth\":0,\"ticks\":\"\"}},\"type\":\"scattercarpet\"}],\"scattergeo\":[{\"marker\":{\"colorbar\":{\"outlinewidth\":0,\"ticks\":\"\"}},\"type\":\"scattergeo\"}],\"scattergl\":[{\"marker\":{\"colorbar\":{\"outlinewidth\":0,\"ticks\":\"\"}},\"type\":\"scattergl\"}],\"scattermapbox\":[{\"marker\":{\"colorbar\":{\"outlinewidth\":0,\"ticks\":\"\"}},\"type\":\"scattermapbox\"}],\"scatterpolar\":[{\"marker\":{\"colorbar\":{\"outlinewidth\":0,\"ticks\":\"\"}},\"type\":\"scatterpolar\"}],\"scatterpolargl\":[{\"marker\":{\"colorbar\":{\"outlinewidth\":0,\"ticks\":\"\"}},\"type\":\"scatterpolargl\"}],\"scatterternary\":[{\"marker\":{\"colorbar\":{\"outlinewidth\":0,\"ticks\":\"\"}},\"type\":\"scatterternary\"}],\"surface\":[{\"colorbar\":{\"outlinewidth\":0,\"ticks\":\"\"},\"colorscale\":[[0.0,\"#0d0887\"],[0.1111111111111111,\"#46039f\"],[0.2222222222222222,\"#7201a8\"],[0.3333333333333333,\"#9c179e\"],[0.4444444444444444,\"#bd3786\"],[0.5555555555555556,\"#d8576b\"],[0.6666666666666666,\"#ed7953\"],[0.7777777777777778,\"#fb9f3a\"],[0.8888888888888888,\"#fdca26\"],[1.0,\"#f0f921\"]],\"type\":\"surface\"}],\"table\":[{\"cells\":{\"fill\":{\"color\":\"#EBF0F8\"},\"line\":{\"color\":\"white\"}},\"header\":{\"fill\":{\"color\":\"#C8D4E3\"},\"line\":{\"color\":\"white\"}},\"type\":\"table\"}]},\"layout\":{\"annotationdefaults\":{\"arrowcolor\":\"#2a3f5f\",\"arrowhead\":0,\"arrowwidth\":1},\"autotypenumbers\":\"strict\",\"coloraxis\":{\"colorbar\":{\"outlinewidth\":0,\"ticks\":\"\"}},\"colorscale\":{\"diverging\":[[0,\"#8e0152\"],[0.1,\"#c51b7d\"],[0.2,\"#de77ae\"],[0.3,\"#f1b6da\"],[0.4,\"#fde0ef\"],[0.5,\"#f7f7f7\"],[0.6,\"#e6f5d0\"],[0.7,\"#b8e186\"],[0.8,\"#7fbc41\"],[0.9,\"#4d9221\"],[1,\"#276419\"]],\"sequential\":[[0.0,\"#0d0887\"],[0.1111111111111111,\"#46039f\"],[0.2222222222222222,\"#7201a8\"],[0.3333333333333333,\"#9c179e\"],[0.4444444444444444,\"#bd3786\"],[0.5555555555555556,\"#d8576b\"],[0.6666666666666666,\"#ed7953\"],[0.7777777777777778,\"#fb9f3a\"],[0.8888888888888888,\"#fdca26\"],[1.0,\"#f0f921\"]],\"sequentialminus\":[[0.0,\"#0d0887\"],[0.1111111111111111,\"#46039f\"],[0.2222222222222222,\"#7201a8\"],[0.3333333333333333,\"#9c179e\"],[0.4444444444444444,\"#bd3786\"],[0.5555555555555556,\"#d8576b\"],[0.6666666666666666,\"#ed7953\"],[0.7777777777777778,\"#fb9f3a\"],[0.8888888888888888,\"#fdca26\"],[1.0,\"#f0f921\"]]},\"colorway\":[\"#636efa\",\"#EF553B\",\"#00cc96\",\"#ab63fa\",\"#FFA15A\",\"#19d3f3\",\"#FF6692\",\"#B6E880\",\"#FF97FF\",\"#FECB52\"],\"font\":{\"color\":\"#2a3f5f\"},\"geo\":{\"bgcolor\":\"white\",\"lakecolor\":\"white\",\"landcolor\":\"#E5ECF6\",\"showlakes\":true,\"showland\":true,\"subunitcolor\":\"white\"},\"hoverlabel\":{\"align\":\"left\"},\"hovermode\":\"closest\",\"mapbox\":{\"style\":\"light\"},\"paper_bgcolor\":\"white\",\"plot_bgcolor\":\"#E5ECF6\",\"polar\":{\"angularaxis\":{\"gridcolor\":\"white\",\"linecolor\":\"white\",\"ticks\":\"\"},\"bgcolor\":\"#E5ECF6\",\"radialaxis\":{\"gridcolor\":\"white\",\"linecolor\":\"white\",\"ticks\":\"\"}},\"scene\":{\"xaxis\":{\"backgroundcolor\":\"#E5ECF6\",\"gridcolor\":\"white\",\"gridwidth\":2,\"linecolor\":\"white\",\"showbackground\":true,\"ticks\":\"\",\"zerolinecolor\":\"white\"},\"yaxis\":{\"backgroundcolor\":\"#E5ECF6\",\"gridcolor\":\"white\",\"gridwidth\":2,\"linecolor\":\"white\",\"showbackground\":true,\"ticks\":\"\",\"zerolinecolor\":\"white\"},\"zaxis\":{\"backgroundcolor\":\"#E5ECF6\",\"gridcolor\":\"white\",\"gridwidth\":2,\"linecolor\":\"white\",\"showbackground\":true,\"ticks\":\"\",\"zerolinecolor\":\"white\"}},\"shapedefaults\":{\"line\":{\"color\":\"#2a3f5f\"}},\"ternary\":{\"aaxis\":{\"gridcolor\":\"white\",\"linecolor\":\"white\",\"ticks\":\"\"},\"baxis\":{\"gridcolor\":\"white\",\"linecolor\":\"white\",\"ticks\":\"\"},\"bgcolor\":\"#E5ECF6\",\"caxis\":{\"gridcolor\":\"white\",\"linecolor\":\"white\",\"ticks\":\"\"}},\"title\":{\"x\":0.05},\"xaxis\":{\"automargin\":true,\"gridcolor\":\"white\",\"linecolor\":\"white\",\"ticks\":\"\",\"title\":{\"standoff\":15},\"zerolinecolor\":\"white\",\"zerolinewidth\":2},\"yaxis\":{\"automargin\":true,\"gridcolor\":\"white\",\"linecolor\":\"white\",\"ticks\":\"\",\"title\":{\"standoff\":15},\"zerolinecolor\":\"white\",\"zerolinewidth\":2}}}},                        {\"responsive\": true}                    ).then(function(){\n",
       "                            \n",
       "var gd = document.getElementById('7324e74d-7e98-4b38-91af-661fcdaa512a');\n",
       "var x = new MutationObserver(function (mutations, observer) {{\n",
       "        var display = window.getComputedStyle(gd).display;\n",
       "        if (!display || display === 'none') {{\n",
       "            console.log([gd, 'removed!']);\n",
       "            Plotly.purge(gd);\n",
       "            observer.disconnect();\n",
       "        }}\n",
       "}});\n",
       "\n",
       "// Listen for the removal of the full notebook cells\n",
       "var notebookContainer = gd.closest('#notebook-container');\n",
       "if (notebookContainer) {{\n",
       "    x.observe(notebookContainer, {childList: true});\n",
       "}}\n",
       "\n",
       "// Listen for the clearing of the current output cell\n",
       "var outputEl = gd.closest('.output');\n",
       "if (outputEl) {{\n",
       "    x.observe(outputEl, {childList: true});\n",
       "}}\n",
       "\n",
       "                        })                };                });            </script>        </div>"
      ]
     },
     "metadata": {},
     "output_type": "display_data"
    }
   ],
   "source": [
    "fig = px.choropleth(\n",
    "    df,\n",
    "    geojson=\"vietnam.geojson\",\n",
    "    featureidkey='properties.cartodb_id',\n",
    "    locations='Province',\n",
    "    color='Infected',\n",
    "    color_continuous_scale='Reds'\n",
    ")\n",
    "\n",
    "fig.update_geos(fitbounds=\"locations\", visible=False)\n",
    "\n",
    "fig.show()"
   ]
  },
  {
   "cell_type": "code",
   "execution_count": null,
   "id": "boring-interest",
   "metadata": {},
   "outputs": [],
   "source": []
  }
 ],
 "metadata": {
  "kernelspec": {
   "display_name": "Python 3",
   "language": "python",
   "name": "python3"
  },
  "language_info": {
   "codemirror_mode": {
    "name": "ipython",
    "version": 3
   },
   "file_extension": ".py",
   "mimetype": "text/x-python",
   "name": "python",
   "nbconvert_exporter": "python",
   "pygments_lexer": "ipython3",
   "version": "3.9.5"
  }
 },
 "nbformat": 4,
 "nbformat_minor": 5
}
